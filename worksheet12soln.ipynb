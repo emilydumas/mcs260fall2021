{
 "cells": [
  {
   "cell_type": "markdown",
   "metadata": {},
   "source": [
    "# MCS 260 Fall 2021 Worksheet 12 Solutions\n",
    "\n",
    "* Course instructor: Emily Dumas\n",
    "* Solutions prepared by: Emily Dumas and Jennifer Vaccaro (Fall 2020 MCS 260 TA) and Kylash Viswanathan"
   ]
  },
  {
   "cell_type": "markdown",
   "metadata": {},
   "source": [
    "## Topics\n",
    "\n",
    "This worksheet focuses on **regular expressions**, **software licensing**, and **testing with pytest**.\n",
    "\n",
    "\n",
    "## Resources\n",
    "\n",
    "The main resources to refer to for this worksheet are:\n",
    "\n",
    "* [pythex.org](https://pythex.org) or one of these other regular expression editor/debugger tools:\n",
    "    * [regex101.com](https://regex101.com/) (need to click \"Python\" under the \"flavor\" menu at left)\n",
    "    * [pyregex.com](http://www.pyregex.com/)\n",
    "* [Sample programs](https://github.com/emilydumas/mcs260fall2021/tree/main/samplecode)\n",
    "* [Lecture 30 - Regular expressions](https://www.dumas.io/teaching/2021/fall/mcs260/slides/lecture30.html)\n",
    "* [Lecture 31 - Regular expressions 2 & software licensing](https://www.dumas.io/teaching/2021/fall/mcs260/slides/lecture31.html)\n",
    "* [Lecture 32 - Testing and pytest](https://www.dumas.io/teaching/2021/fall/mcs260/slides/lecture32.html)\n",
    "* [Downey's book](https://greenteapress.com/thinkpython2/html/)\n",
    "\n",
    "(Lecture videos are not linked on worksheets, but are also useful to review while working on worksheets.  Video links can be found in the course [course Blackboard site](https://uic.blackboard.com/ultra/courses/_202683_1/cl/outline).)\n"
   ]
  },
  {
   "cell_type": "markdown",
   "metadata": {},
   "source": [
    "## 1. Regular expression puzzles\n",
    "\n",
    "In each part, if a description is given, write a regular expression to match it.  It a regular expression is given, write a description of what it matches.\n",
    "\n",
    "### Example 1\n",
    "\n",
    "Matches the string `fact`, optionally followed by an underscore and another word consisting of latin alphabet letters, followed by a pair of parentheses with an integer between them.  No spaces are permitted anywhere.\n",
    "\n",
    "### Example 1 solution\n",
    "\n",
    "`fact(_[A-Za-z]+)?\\(\\d+\\)`\n",
    "\n",
    "**Discussion:** We use `\\(` or `\\)` to match an actual parenthesis** as opposed to `(` and `)` which create groups.\n",
    "Matches `fact_recursive(5)` or `fact(15)` or `fact_iterative(0)`, but does not match `fact()` or `fact_ (2)` or `fact_recursive( 67 )`.\n",
    "\n",
    "### Example 2\n",
    "\n",
    "`(xx)+x([yz][yz])*`\n",
    "\n",
    "### Example 2 solution\n",
    "\n",
    "Matches an odd number of `x`s, requiring at least three to be present, followed by an even number of letters that are all `y` or `z`.  It is permissible to not have any `y` or `z` there at all.\n",
    "\n",
    "\n",
    "**Discussion:** This would match `xxxzy` or `xxxxx` or `xxxzzyyzy` but not `x` or `xyz` or `xxxxyy`.  Note that the highlighter on [pythex.org](https://pythex.org) will highlight the first match it finds, and ignore any other match that overlaps with it.  So if you test this expression with string `xxxxyz`, it will highlight the initial `xxx` match, even though there is also `xxxyz` later in the string which matches as well (but overlaps the first one)."
   ]
  },
  {
   "cell_type": "markdown",
   "metadata": {},
   "source": [
    "### A\n",
    "\n",
    "Match the recommended style for Python variable names:  A string consisting of lower case letters, underscores, and digits, and which doesn't start with a digit or underscore.\n",
    "\n",
    "For example, all of these should match: \n",
    "* `number_of_angry_pandas`\n",
    "* `draft91final_modified`\n",
    "* `i`\n",
    "* `res`\n",
    "\n",
    "And NONE of these should match:\n",
    "* `_whatever`\n",
    "* `5november`\n",
    "* `오징어`\n",
    "* `AbstractJavaCourseFactory`\n",
    "* `M`"
   ]
  },
  {
   "cell_type": "markdown",
   "metadata": {},
   "source": [
    "### A Solution\n",
    "\n",
    "`[a-z][A-Za-z0-9_]*`"
   ]
  },
  {
   "cell_type": "markdown",
   "metadata": {},
   "source": [
    "### B\n",
    "\n",
    "`[Mm]on(day)?|[Tt]ue(s(day)?)?|[Ww]ed(nesday)|[Tt]hu(r(s(day)?)?)?|[Ff]ri(day)`\n",
    "\n",
    "(Hint: the intent is probably clear; but what's going on with all the nested parentheses and question marks?  Does `Thusday` match?  Does `Thur`?  Why or why not?)"
   ]
  },
  {
   "cell_type": "markdown",
   "metadata": {},
   "source": [
    "### B Solution\n",
    "\n",
    "Matches the name of one day of the week in English, capitalized or not, allowing the abbreviations\n",
    "* Mon\n",
    "* Tue\n",
    "* Tues\n",
    "* Wed\n",
    "* Thu\n",
    "* Thur\n",
    "* Thurs\n",
    "* Fri\n",
    "\n",
    "The nested parentheses handle the logic to allow certain abbreviations.  For example, in `Thursday` it's optional to have anything after the `u`, but if something is there, it should begin with `r` and optionally continue.  If it continues, the next letter should be `s`, optionally followed by `day`."
   ]
  },
  {
   "cell_type": "markdown",
   "metadata": {},
   "source": [
    "### C\n",
    "\n",
    "Match a Canadian postcode, which consists of a capital letter, a digit, a capital letter, a space, a digit, a capital letter, and another digit.\n",
    "\n",
    "e.g. `K8N 5W6` and `V8K 2S0` match while `A8K2L3` and `K8n 5W6` and `1N2 S74` and `ASK DAD` do not match."
   ]
  },
  {
   "cell_type": "markdown",
   "metadata": {},
   "source": [
    "### C Solution\n",
    "\n",
    "`[A-Z]\\d[A-Z] \\d[A-Z]\\d`"
   ]
  },
  {
   "cell_type": "markdown",
   "metadata": {},
   "source": [
    "### D\n",
    "\n",
    "`\\(\\s*[0-9]+(\\s*,\\s*[0-9]+)\\s*\\)`"
   ]
  },
  {
   "cell_type": "markdown",
   "metadata": {},
   "source": [
    "### D Solution\n",
    "\n",
    "A list of integers, separated by commas and optionally spaces, and surrounded by parentheses.  Must have at least one integer present (e.g. `(58)` or `(1,2, 3,  4 , 5)` matches but `()` or `2,3` does not)."
   ]
  },
  {
   "cell_type": "markdown",
   "metadata": {},
   "source": [
    "## 2.  Testing the `geometry` module\n",
    "\n",
    "Here is a link to the `geometry.py` module we developed in a previous lecture.  It allows you to represent Circles, Rectangles, and Squares in the plane and to perform some operations on them.\n",
    "\n",
    "* [geom.py](https://raw.githubusercontent.com/emilydumas/mcs260fall2020/master/samplecode/geom/geom.py)\n",
    "\n",
    "Download this file and save it in its own folder (e.g. `geomtesting` would be a good name for the folder).\n",
    "\n",
    "Now, create a file `test_geometry.py` in the same folder.  In that file, create at least 4 functions whose names begin with `test_` that perform tests on the classes in `test_geometry.py`.  Running this script with the python interpreter should do nothing, since it should only declare test functions, and should not call them.\n",
    "\n",
    "In a terminal opened to the same directory containing `test_geometry.py`, run pytest with\n",
    "```\n",
    "python3 -m pytest\n",
    "```\n",
    "and confirm that all of your tests are discovered, and that they all pass.\n",
    "\n",
    "Examples of suggested tests:\n",
    "* two Circle objects created to have the same center an radius compare as equal\n",
    "* two Rectangle objects created to have the same center, width, and height compare as equal\n",
    "* using the `.scale()` method of a specific Rectangle you choose for testing purposes gives the same results as what you expect based on computing by hand.\n",
    "* adding two example rectangles gives the same bounding box as you compute by hand.\n",
    "\n",
    "Note that the equality test for objects in `geometry.py` is potentially quite fragile, because it tests floats for equality.  One way to avoid problems with floating point error is to choose examples where every value involved (width, height, center coordinates, radius, scale factor, etc.) is actually an integer."
   ]
  },
  {
   "cell_type": "markdown",
   "metadata": {},
   "source": [
    "### Solution"
   ]
  },
  {
   "cell_type": "code",
   "execution_count": null,
   "metadata": {},
   "outputs": [],
   "source": [
    "# Contents of `test_geometry.py`\n",
    "# Based on Fall 2020 solution by Jennifer Vaccaro\n",
    "'''pytest test functions for the module geometry'''\n",
    "\n",
    "import geometry\n",
    "\n",
    "def test_circleeq():\n",
    "    '''Confirms that two circles with the same \n",
    "    center and radius are equal'''\n",
    "    C1 = geometry.Circle(1, 2, 5)\n",
    "    C2 = geometry.Circle(1, 2, 5)\n",
    "    assert C1 == C2\n",
    "    \n",
    "def test_circleineq1():\n",
    "    '''Confirms that two circles with differing\n",
    "    centers are not equal'''\n",
    "    C1 = geometry.Circle(1, 2, 5)\n",
    "    C2 = geometry.Circle(0, 2, 5)\n",
    "    assert C1 != C2 \n",
    "\n",
    "def test_circleineq2():\n",
    "    '''Confirms that two circles with differing\n",
    "    centers are not equal'''\n",
    "    C1 = geometry.Circle(1, 2, 5)\n",
    "    C2 = geometry.Circle(1, 3, 5)\n",
    "    assert C1 != C2 \n",
    "    \n",
    "def test_circleineq3():\n",
    "    '''Confirms that two circles with differing\n",
    "    radii are not equal'''\n",
    "    C1 = geometry.Circle(1, 2, 5)\n",
    "    C2 = geometry.Circle(1, 2, 89)\n",
    "    assert C1 != C2 \n",
    "    \n",
    "def test_circlescale():\n",
    "    '''Confirms that the circle scaling \n",
    "    behaves as expected'''\n",
    "    C = geometry.Circle(5,5,5)\n",
    "    C.scale(3)\n",
    "    assert C.cx == 5\n",
    "    assert C.cy == 5\n",
    "    assert C.r == 15\n",
    "    \n",
    "def test_circletranslate():\n",
    "    '''Confirms that circle translating \n",
    "    behaves as expected.'''\n",
    "    C = geometry.Circle(5,5,5)\n",
    "    C.translate(4,3)\n",
    "    assert C.cx == 9\n",
    "    assert C.cy == 8\n",
    "    assert C.r == 5\n",
    "\n",
    "def test_recteq():\n",
    "    '''Confirms that two rectangles with the \n",
    "    same centers and sidelengths are equal'''\n",
    "    R1 = geometry.Rectangle(1,-3, 3, 2)\n",
    "    R2 = geometry.Rectangle(1,-3, 3, 2)\n",
    "    assert R1 == R2\n",
    "    \n",
    "def test_rectineq1():\n",
    "    '''Confirms that two rectangles that differ\n",
    "    in center or sidelength are not equal'''\n",
    "    R1 = geometry.Rectangle(1,-3, 3, 2)\n",
    "    R2 = geometry.Rectangle(2,-3, 3, 2)\n",
    "    assert R1 != R2\n",
    "    \n",
    "def test_rectineq2():\n",
    "    '''Confirms that two rectangles that differ\n",
    "    in center or sidelength are not equal'''\n",
    "    R1 = geometry.Rectangle(1,-3, 3, 2)\n",
    "    R2 = geometry.Rectangle(1,-4, 3, 2)\n",
    "    assert R1 != R2\n",
    "    \n",
    "    \n",
    "def test_rectineq3():\n",
    "    '''Confirms that two rectangles that differ\n",
    "    in center or sidelength are not equal'''\n",
    "    R1 = geometry.Rectangle(1,-3, 3, 2)\n",
    "    R2 = geometry.Rectangle(1,-3, 5, 2)\n",
    "    assert R1 != R2\n",
    "    \n",
    "    \n",
    "def test_rectineq4():\n",
    "    '''Confirms that two rectangles that differ\n",
    "    in center or sidelength are not equal'''\n",
    "    R1 = geometry.Rectangle(1,-3, 3, 2)\n",
    "    R2 = geometry.Rectangle(1,-3, 3, 1)\n",
    "    assert R1 != R2\n",
    "\n",
    "def test_rectscale():\n",
    "    '''Confirms that the rectangle scaling \n",
    "    behaves as expected'''\n",
    "    R = geometry.Rectangle(1,1,2,2)\n",
    "    R.scale(2)\n",
    "    assert R.w == 4\n",
    "    assert R.h == 4\n",
    "    assert R.cx == 1\n",
    "    assert R.cy == 1\n",
    "\n",
    "def test_bbox():\n",
    "    '''Confirms sum of rectangles gives\n",
    "    axis-aligned bounding box for this example:\n",
    "     (1,12)               (23,12)\n",
    "      ┌─────────────────────┐\n",
    "      │                     │\n",
    "      │     (8,9)   (18,9)  │\n",
    "      │      ┌─────────┐    │\n",
    "      │      │         │    │\n",
    "      │      │         │    │      \n",
    "      │  R2  │         │    │\n",
    "      │      │         │    │\n",
    "      └──────┼─────────┼────┘\n",
    "     (1,4)   │         │ (23,4)\n",
    "             │   R1    │\n",
    "             └─────────┘\n",
    "            (8,1)   (18,1)\n",
    "    \n",
    "    '''\n",
    "    R1 = geometry.Rectangle(13,5,10,8)\n",
    "    R2 = geometry.Rectangle(12,8,22,8)\n",
    "    assert R1 + R2 == geometry.Rectangle(12,6.5,22,11)\n",
    "    \n",
    "# No need for any code outside of the functions to call them! Pytest will run them for us."
   ]
  },
  {
   "cell_type": "markdown",
   "metadata": {},
   "source": [
    "## 3. Integer function call finder\n",
    "\n",
    "Write a program `intcalls.py` that takes a filename as a command line argument.  It should read the file and look for places where a Python function is called that meet all of the following characteristics:\n",
    "* The name of the function is a single lower-case word (letters a-z)\n",
    "* There is no space between the function name and its parentheses\n",
    "* Inside the parentheses is an integer, possibly surrounded by spaces\n",
    "\n",
    "For each match it finds, the match text and the line number should be printed.\n",
    "\n",
    "For example, if you run `python3 intcalls.py findphone.py` where [`findphone.py`](https://github.com/emilydumas/mcs260fall2021/blob/main/samplecode/findphone.py) is the example program from lecture, the output should be:\n",
    "```\n",
    "Line 8: exit(1)\n",
    "Line 15: group(1)\n",
    "Line 16: group(2)\n",
    "Line 17: group(3)\n",
    "```"
   ]
  },
  {
   "cell_type": "markdown",
   "metadata": {},
   "source": [
    "### Solution"
   ]
  },
  {
   "cell_type": "code",
   "execution_count": null,
   "metadata": {},
   "outputs": [],
   "source": [
    "# Contents of intcalls.py\n",
    "# MCS 260 Fall 2021 Worksheet 12\n",
    "import re\n",
    "import sys\n",
    "\n",
    "if len(sys.argv)<2:\n",
    "    print(\"Usage: {} INPUTFILE\".format(sys.argv[0]))\n",
    "\n",
    "f = open(sys.argv[1],\"r\",encoding=\"UTF-8\")\n",
    "for i,line in enumerate(f):\n",
    "    for m in re.finditer(r\"[a-z]+\\(\\s*\\d+\\s*\\)\",line):\n",
    "        print(\"Line {}: {}\".format(i,m.group()))"
   ]
  },
  {
   "cell_type": "markdown",
   "metadata": {},
   "source": [
    "## 4. MIT License practice\n",
    "\n",
    "The MIT License is a popular and very permission open-source software license.  Find a copy of the MIT License as a text file, and save it in the directory where you are doing your MCS 260 project work under the name `LICENSE.txt`.  Imagine you are applying it to a piece of software you've written.  Edit `LICENSE.txt` to fill in the relevant info.  (The license you download is really a template, and has blank spaces for certain things like your name and the date the software was created.)"
   ]
  },
  {
   "cell_type": "markdown",
   "metadata": {},
   "source": [
    "### Solution"
   ]
  },
  {
   "cell_type": "markdown",
   "metadata": {},
   "source": [
    "*- Content of practice LICENSE.txt -*\n",
    "\n",
    "Copyright 2021 Emily Dumas\n",
    "\n",
    "Permission is hereby granted, free of charge, to any person obtaining a copy of this software and associated documentation files (the \"Software\"), to deal in the Software without restriction, including without limitation the rights to use, copy, modify, merge, publish, distribute, sublicense, and/or sell copies of the Software, and to permit persons to whom the Software is furnished to do so, subject to the following conditions:\n",
    "\n",
    "The above copyright notice and this permission notice shall be included in all copies or substantial portions of the Software.\n",
    "\n",
    "THE SOFTWARE IS PROVIDED \"AS IS\", WITHOUT WARRANTY OF ANY KIND, EXPRESS OR IMPLIED, INCLUDING BUT NOT LIMITED TO THE WARRANTIES OF MERCHANTABILITY, FITNESS FOR A PARTICULAR PURPOSE AND NONINFRINGEMENT. IN NO EVENT SHALL THE AUTHORS OR COPYRIGHT HOLDERS BE LIABLE FOR ANY CLAIM, DAMAGES OR OTHER LIABILITY, WHETHER IN AN ACTION OF CONTRACT, TORT OR OTHERWISE, ARISING FROM, OUT OF OR IN CONNECTION WITH THE SOFTWARE OR THE USE OR OTHER DEALINGS IN THE SOFTWARE."
   ]
  },
  {
   "cell_type": "markdown",
   "metadata": {},
   "source": [
    "## Revision history\n",
    "\n",
    "* 2021-11-11 Initial release"
   ]
  }
 ],
 "metadata": {
  "kernelspec": {
   "display_name": "Python 3",
   "language": "python",
   "name": "python3"
  },
  "language_info": {
   "codemirror_mode": {
    "name": "ipython",
    "version": 3
   },
   "file_extension": ".py",
   "mimetype": "text/x-python",
   "name": "python",
   "nbconvert_exporter": "python",
   "pygments_lexer": "ipython3",
   "version": "3.8.5"
  }
 },
 "nbformat": 4,
 "nbformat_minor": 4
}
