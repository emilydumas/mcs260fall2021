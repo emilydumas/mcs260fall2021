{
 "cells": [
  {
   "cell_type": "markdown",
   "metadata": {},
   "source": [
    "# MCS 260 Fall 2021 Worksheet 5 Solutions\n",
    "\n",
    "* Course instructor: Emily Dumas"
   ]
  },
  {
   "cell_type": "markdown",
   "metadata": {},
   "source": [
    "## Topics\n",
    "\n",
    "We covered a lot of new ground last week.  This worksheet focuses on:\n",
    "* functions\n",
    "* dictionaries\n",
    "* additional features of strings (e.g. `.split()`, `.strip()`, `.replace()`)\n",
    "* the math module\n",
    "* the random module\n",
    "\n",
    "## Instructions\n",
    "\n",
    "* Work on the exercises below during lab.  Complete them afterward if you don't finish during the lab period.\n",
    "* This worksheet will prepare you for the upcoming homework assignment.\n",
    "* Most of the exercises ask you to write Python scripts to accomplish a certain task.  We recommend making a folder (with a name like \"worksheet5\") to store the scripts you prepare today.\n",
    "* Seek assistance from your TA or from fellow students if you run into trouble.\n",
    "\n",
    "## Collaboration\n",
    "\n",
    "Collaboration on worksheets is **strongly encouraged**.\n",
    "\n",
    "## Resources\n",
    "\n",
    "The main course materials to refer to for this worksheet are:\n",
    "\n",
    "* [Lecture 9 - functions](https://www.dumas.io/teaching/2021/fall/mcs260/slides/lecture9.html)\n",
    "* [Lecture 10 - dictionaries](https://www.dumas.io/teaching/2021/fall/mcs260/slides/lecture10.html)\n",
    "* [Lecture 11 - string methods; math and random modules](https://www.dumas.io/teaching/2021/fall/mcs260/slides/lecture11.html)\n",
    "* [Downey's book](https://greenteapress.com/thinkpython2/html/)\n",
    "\n",
    "(Lecture videos are not linked on worksheets, but are also useful to review while working on worksheets.  Video links can be found in the course [course Blackboard site](https://uic.blackboard.com/ultra/courses/_202683_1/cl/outline).)\n"
   ]
  },
  {
   "cell_type": "markdown",
   "metadata": {},
   "source": [
    "## 1. Divisors\n",
    "\n",
    "Let `n` and `k` be positive integers.  We say that `k` is a **divisor** of `n` if `n == k*j` where `j` is also an integer.  For example:\n",
    "\n",
    "* `1` is a divisor of `20` because `20 = 1*20`\n",
    "* `2` is a divisor of `20` because `20 = 2*10`\n",
    "* `3` is not a divisor of `20`\n",
    "* `4` is a divisor of `20` because `20 = 4*5`\n",
    "* `5` is a divisor of `20` because `20 = 5*4`\n",
    "* `6` is not a divisor of `20`\n",
    "\n",
    "Equivalently, `k` is a divisor of `n` if dividing `n` by `k` gives zero remainder.\n",
    "\n",
    "Write a function `divisors(n)` that takes an integer `n` and returns a list of all the divisors of `n`.\n",
    "\n",
    "Your function should look like this:"
   ]
  },
  {
   "cell_type": "code",
   "execution_count": null,
   "metadata": {},
   "outputs": [],
   "source": [
    "def divisors(n):\n",
    "    # code here\n",
    "    return   # <--- return value (a list) needs to go here"
   ]
  },
  {
   "cell_type": "markdown",
   "metadata": {},
   "source": [
    "When you create such a function,  it won't do anything unless you call it, so you should write some code to test the function.  Here is some code that you can paste below your function to make a program that will test the function's behavior:"
   ]
  },
  {
   "cell_type": "code",
   "execution_count": null,
   "metadata": {},
   "outputs": [],
   "source": [
    "#-- begin test code you should paste below the function you write --\n",
    "print(\"Input 20\")\n",
    "print(\"Expected return value is: [1, 2, 4, 5, 10, 20]\")\n",
    "print(\"  Actual return value is:\",divisors(20))\n",
    "print()\n",
    "print(\"Input 7\")\n",
    "print(\"Expected return value is: [1, 7]\")\n",
    "print(\"  Actual return value is:\",divisors(7))\n",
    "print()\n",
    "print(\"Input 115\")\n",
    "print(\"Expected return value is: [1, 5, 23, 115]\")\n",
    "print(\"  Actual return value is:\",divisors(115))\n",
    "#-- end test code you should paste below the function you write --"
   ]
  },
  {
   "cell_type": "markdown",
   "metadata": {},
   "source": [
    "If everything is working properly, your program should then print:\n",
    "\n",
    "```\n",
    "Input 20\n",
    "Expected return value is: [1, 2, 4, 5, 10, 20]\n",
    "  Actual return value is: [1, 2, 4, 5, 10, 20]\n",
    "\n",
    "Input 7\n",
    "Expected return value is: [1, 7]\n",
    "  Actual return value is: [1, 7]\n",
    "\n",
    "Input 115\n",
    "Expected return value is: [1, 5, 23, 115]\n",
    "  Actual return value is: [1, 5, 23, 115]\n",
    "```"
   ]
  },
  {
   "cell_type": "markdown",
   "metadata": {},
   "source": [
    "### Solution"
   ]
  },
  {
   "cell_type": "code",
   "execution_count": 3,
   "metadata": {},
   "outputs": [],
   "source": [
    "def divisors(n):\n",
    "    \"\"\"Return a list of divisors of an integer `n`\"\"\"\n",
    "    return [ k for k in range(1,n+1) if n%k==0 ]"
   ]
  },
  {
   "cell_type": "markdown",
   "metadata": {},
   "source": [
    "## 2. Startup idea generator\n",
    "\n",
    "A common type of idea for a new business is to make a variation on an existing product that has a unique characteristic or new twist, e.g. \"a juice machine that is also an exercise bike\".\n",
    "\n",
    "Here is a list of some products:"
   ]
  },
  {
   "cell_type": "code",
   "execution_count": 7,
   "metadata": {},
   "outputs": [],
   "source": [
    "product_ideas = [\n",
    "    \"a juice machine\",\n",
    "    \"a carpet\",\n",
    "    \"an office chair\",\n",
    "    \"a coffee maker\",\n",
    "    \"a haircut robot\",\n",
    "    \"a Python course\",\n",
    "    \"a toothbrush\",\n",
    "    \"a pair of noise-cancelling headphones\",\n",
    "    \"an oversized raccoon plush doll\",\n",
    "    \"a detailed model of Boise, Idaho\"\n",
    "]"
   ]
  },
  {
   "cell_type": "markdown",
   "metadata": {},
   "source": [
    "and here is a list of some special characteristics:"
   ]
  },
  {
   "cell_type": "code",
   "execution_count": 8,
   "metadata": {},
   "outputs": [],
   "source": [
    "special_features = [\n",
    "    \"that is controlled by a smartphone app\",\n",
    "    \"that plays polka music\",\n",
    "    \"made of polished titanium\",\n",
    "    \"that also mines bitcoin\",\n",
    "    \"scented with sandalwood and lime oil\",\n",
    "    \"with a pleasant strawberry flavor\",\n",
    "    \"run by an elite squad of monks trained in martial arts\", \n",
    "    \"without spiders\",\n",
    "    \"with an integrated soap dispenser\",\n",
    "    \"that is vegetarian and gluten-free\",\n",
    "    \"enriched with vitamin D\",\n",
    "    \"that fires plastic darts\"\n",
    "]"
   ]
  },
  {
   "cell_type": "markdown",
   "metadata": {},
   "source": [
    "Write a function `startup_idea()` that chooses a random product idea and special feature, and combines them into a string like\n",
    "```\n",
    "a carpet that fires plastic darts\n",
    "```\n",
    "which is returned.  The function shouldn't display anything; it **returns** the idea as a string.\n",
    "\n",
    "Then, use this function in a program `startupidea.py` that repeatedly suggests a random startup idea, asking the user if they are happy with it.  If they say yes, it exits.  Otherwise, it keeps suggesting.\n",
    "\n",
    "Here is what it should look like when the program is run:\n",
    "```\n",
    "Startup idea: a carpet that also mines bitcoin\n",
    "Acceptable?  (Y/N): n\n",
    "Startup idea: an oversized raccoon plush doll without spiders\n",
    "Acceptable?  (Y/N): n\n",
    "Startup idea: a pair of noise-cancelling headphones enriched with vitamin D\n",
    "Acceptable?  (Y/N): n\n",
    "Startup idea: a toothbrush enriched with vitamin D\n",
    "Acceptable?  (Y/N): n\n",
    "Startup idea: a juice machine scented with sandalwood and lime oil\n",
    "Acceptable?  (Y/N): y\n",
    "```\n",
    "\n",
    "(You are welcome to add some of your own product or special feature ideas to the lists.)"
   ]
  },
  {
   "cell_type": "markdown",
   "metadata": {},
   "source": [
    "### Solution"
   ]
  },
  {
   "cell_type": "code",
   "execution_count": 14,
   "metadata": {},
   "outputs": [
    {
     "name": "stdout",
     "output_type": "stream",
     "text": [
      "Startup idea: a coffee maker that fires plastic darts\n",
      "Acceptable? (Y/N): n\n",
      "Startup idea: an office chair that is vegetarian and gluten-free\n",
      "Acceptable? (Y/N): n\n",
      "Startup idea: a university building with a pleasant strawberry flavor\n",
      "Acceptable? (Y/N): n\n",
      "Startup idea: a university building that is controlled by a smartphone app\n",
      "Acceptable? (Y/N): n\n",
      "Startup idea: an office chair that fires plastic darts\n",
      "Acceptable? (Y/N): n\n",
      "Startup idea: a coffee maker that fires plastic darts\n",
      "Acceptable? (Y/N): n\n",
      "Startup idea: a haircut robot that fires plastic darts\n",
      "Acceptable? (Y/N): n\n",
      "Startup idea: a detailed model of Boise, Idaho that is vegetarian and gluten-free\n",
      "Acceptable? (Y/N): n\n",
      "Startup idea: a juice machine without spiders\n",
      "Acceptable? (Y/N): y\n"
     ]
    }
   ],
   "source": [
    "import random \n",
    "\n",
    "product_ideas = [\n",
    "    \"a juice machine\",\n",
    "    \"a carpet\",\n",
    "    \"an office chair\",\n",
    "    \"a coffee maker\",\n",
    "    \"a haircut robot\",\n",
    "    \"a Python course\",\n",
    "    \"a toothbrush\",\n",
    "    \"a pair of noise-cancelling headphones\",\n",
    "    \"an oversized raccoon plush doll\",\n",
    "    \"a detailed model of Boise, Idaho\",\n",
    "    \"a university building\"\n",
    "]\n",
    "special_features = [\n",
    "    \"that is controlled by a smartphone app\",\n",
    "    \"that plays polka music\",\n",
    "    \"made of polished titanium\",\n",
    "    \"that also mines bitcoin\",\n",
    "    \"scented with sandalwood and lime oil\",\n",
    "    \"with a pleasant strawberry flavor\",\n",
    "    \"run by an elite squad of monks trained in martial arts\", \n",
    "    \"without spiders\",\n",
    "    \"with an integrated soap dispenser\",\n",
    "    \"that is vegetarian and gluten-free\",\n",
    "    \"enriched with vitamin D\",\n",
    "    \"that fires plastic darts\",\n",
    "    \"made of hexagons and confusion\"\n",
    "]\n",
    "\n",
    "def startup_idea():\n",
    "    \"\"\"Produce a random startup idea from a product and special feature\"\"\"\n",
    "    return random.choice(product_ideas) + \" \" + random.choice(special_features)\n",
    "\n",
    "acceptable = \"n\"\n",
    "while acceptable != \"y\":\n",
    "    print(\"Startup idea:\",startup_idea())\n",
    "    acceptable = input(\"Acceptable? (Y/N): \").lower()"
   ]
  },
  {
   "cell_type": "markdown",
   "metadata": {},
   "source": [
    "## 3. Dictionary user interface\n",
    "\n",
    "Write a program that sits in an infinite loop waiting for user commands.  The command can be either one word or two words (separated by spaces).\n",
    "\n",
    "A **two-word command** is a request for the program to remember a fact, e.g. the command\n",
    "```\n",
    "name David\n",
    "```\n",
    "is a request for the program to remember that the key \"name\" is associated with the value \"David\", and\n",
    "```\n",
    "occupation horticulturist\n",
    "```\n",
    "is a request for the program to remember that the key \"occupation\" is associated with the value \"horiculturist\".\n",
    "\n",
    "A **one-word command** is a request to look up the value associated to a key.  E.g. the command\n",
    "```\n",
    "name\n",
    "```\n",
    "asks the program to print the value associated with the key \"name\".  If there is no value associated with a given key, the program should print \"KEY NOT FOUND\".\n",
    "\n",
    "The program should exit if a blank command is entered.\n",
    "\n",
    "Here is a sample session using the program:\n",
    "```\n",
    "> name David\n",
    "> name\n",
    "David\n",
    "> occupation mathematician\n",
    "> color orange\n",
    "> beverage coffee\n",
    "> color\n",
    "orange\n",
    "> height\n",
    "KEY NOT FOUND\n",
    "> beverage\n",
    "coffee\n",
    "> beverage water\n",
    "> beverage\n",
    "water\n",
    "> name\n",
    "David\n",
    "> name Parthanax\n",
    "> occupation\n",
    "mathematician\n",
    "> name\n",
    "Parthanax\n",
    "> \n",
    "```\n",
    "\n",
    "**Hint:** You should use a dictionary in  your program.  You probably want to start with an empty dictionary.  The function `dict()` will create and return an empty dictionary, or you can use the literal `{}`.\n",
    "\n",
    "**Hint:** The trickiest part of this program is probably the logic needed to split the the input string into words but then do something different depending on whether that list has length 1 or 2."
   ]
  },
  {
   "cell_type": "markdown",
   "metadata": {},
   "source": [
    "### Solution"
   ]
  },
  {
   "cell_type": "code",
   "execution_count": 6,
   "metadata": {},
   "outputs": [
    {
     "name": "stdout",
     "output_type": "stream",
     "text": [
      "> name David\n",
      "> name\n",
      "David\n",
      "> occupation mathematician\n",
      "> color orange\n",
      "> beverage coffee\n",
      "> color\n",
      "orange\n",
      "> height\n",
      "KEY NOT FOUND\n",
      "> beverage\n",
      "coffee\n",
      "> beverage water\n",
      "> beverage\n",
      "water\n",
      "> name\n",
      "David\n",
      "> name Parthanax\n",
      "> occupation\n",
      "mathematician\n",
      "> name\n",
      "Parthanax\n",
      "> \n"
     ]
    }
   ],
   "source": [
    "data = dict()\n",
    "\n",
    "while True:\n",
    "    s = input(\"> \")\n",
    "    if not s: # i.e. if s is empty\n",
    "        break\n",
    "    \n",
    "    words = s.split()\n",
    "    if len(words)==1:\n",
    "        # Request for value of key words[0]\n",
    "        if words[0] in data:\n",
    "            print(data[words[0]])\n",
    "        else:\n",
    "            print(\"KEY NOT FOUND\")\n",
    "    else:\n",
    "        # Request to set key words[0] to value words[1]\n",
    "        data[words[0]] = words[1]"
   ]
  },
  {
   "cell_type": "markdown",
   "metadata": {},
   "source": [
    "## 4. Improved word stats\n",
    "\n",
    "Modify the example program `wordstats.py` so that it converts all of the following punctuation characters from the string `text` into spaces before doing the word count:\n",
    "\n",
    "* period `.`\n",
    "* question mark `?`\n",
    "* comma `,`\n",
    "* single quotation mark / apostrophe `'`\n",
    "* double quotation mark `\"`\n",
    "* colon `:`\n",
    "* semicolon `;`\n",
    "* dash `-`\n",
    "* start parenthesis `(`\n",
    "* end parenthesis `)`\n",
    "\n",
    "Rather than chaining many method calls together, use a loop to do this.  That is, make a list like"
   ]
  },
  {
   "cell_type": "code",
   "execution_count": 24,
   "metadata": {},
   "outputs": [],
   "source": [
    "punctuation = [\".\",\"?\",\",\",\"\\'\",\"\\\"\",\":\",\";\",\"-\",\"(\",\")\"]"
   ]
  },
  {
   "cell_type": "markdown",
   "metadata": {},
   "source": [
    "and then use a `for` loop to consider each punctuation character in turn, replacing any instances of it in `text` with spaces.\n",
    "\n",
    "Then, test it with the text shown below instead of the CFR passage we used in lecture.  (This is taken from The Adventures of Sherlock Holmes by Arthur Conan Doyle.)\n",
    "\n",
    "```\n",
    "The King took a heavy chamois leather bag from under his cloak and laid\n",
    "it on the table.\n",
    "\n",
    "\"There are three hundred pounds in gold and seven hundred in notes,\" he\n",
    "said.\n",
    "\n",
    "Holmes scribbled a receipt upon a sheet of his notebook and handed it\n",
    "to him.\n",
    "\n",
    "\"And Mademoiselle's address?\" he asked.\n",
    "\n",
    "\"Is Briony Lodge, Serpentine Avenue, St. John's Wood.\"\n",
    "\n",
    "Holmes took a note of it. \"One other question,\" said he. \"Was the\n",
    "photograph a cabinet?\"\n",
    "\n",
    "\"It was.\"\n",
    "\n",
    "\"Then, good-night, your Majesty, and I trust that we shall soon have\n",
    "some good news for you. And good night, Watson,\" he added, as the\n",
    "wheels of the royal brougham rolled down the street. \"If you will be\n",
    "good enough to call tomorrow afternoon at three o'clock I should like\n",
    "to chat this little matter over with you.\"\n",
    "```\n",
    "\n",
    "Save the new program as `wordstats2.py`."
   ]
  },
  {
   "cell_type": "markdown",
   "metadata": {},
   "source": [
    "### Solution\n",
    "\n",
    "**Note:** The method proposed in the problem is not perfect: It considers an apostrophe to be punctuation, because the same character can be used as a single quotation mark.  As a result, possessives like \"Mademoiselle's\" are considered to be two words.  However, we do as the problem asks."
   ]
  },
  {
   "cell_type": "code",
   "execution_count": 15,
   "metadata": {},
   "outputs": [
    {
     "name": "stdout",
     "output_type": "stream",
     "text": [
      "Analyzing this text:\n",
      "The King took a heavy chamois leather bag from under his cloak and laid\n",
      "it on the table.\n",
      "\n",
      "\"There are three hundred pounds in gold and seven hundred in notes,\" he\n",
      "said.\n",
      "\n",
      "Holmes scribbled a receipt upon a sheet of his notebook and handed it\n",
      "to him.\n",
      "\n",
      "\"And Mademoiselle's address?\" he asked.\n",
      "\n",
      "\"Is Briony Lodge, Serpentine Avenue, St. John's Wood.\"\n",
      "\n",
      "Holmes took a note of it. \"One other question,\" said he. \"Was the\n",
      "photograph a cabinet?\"\n",
      "\n",
      "\"It was.\"\n",
      "\n",
      "\"Then, good-night, your Majesty, and I trust that we shall soon have\n",
      "some good news for you. And good night, Watson,\" he added, as the\n",
      "wheels of the royal brougham rolled down the street. \"If you will be\n",
      "good enough to call tomorrow afternoon at three o'clock I should like\n",
      "to chat this little matter over with you.\"\n",
      "\n",
      "Words: 140\n",
      "Distinct words: 100\n",
      "List of distinct words: ['the', 'king', 'took', 'a', 'heavy', 'chamois', 'leather', 'bag', 'from', 'under', 'his', 'cloak', 'and', 'laid', 'it', 'on', 'table', 'there', 'are', 'three', 'hundred', 'pounds', 'in', 'gold', 'seven', 'notes', 'he', 'said', 'holmes', 'scribbled', 'receipt', 'upon', 'sheet', 'of', 'notebook', 'handed', 'to', 'him', 'mademoiselle', 's', 'address', 'asked', 'is', 'briony', 'lodge', 'serpentine', 'avenue', 'st', 'john', 'wood', 'note', 'one', 'other', 'question', 'was', 'photograph', 'cabinet', 'then', 'good', 'night', 'your', 'majesty', 'i', 'trust', 'that', 'we', 'shall', 'soon', 'have', 'some', 'news', 'for', 'you', 'watson', 'added', 'as', 'wheels', 'royal', 'brougham', 'rolled', 'down', 'street', 'if', 'will', 'be', 'enough', 'call', 'tomorrow', 'afternoon', 'at', 'o', 'clock', 'should', 'like', 'chat', 'this', 'little', 'matter', 'over', 'with']\n"
     ]
    }
   ],
   "source": [
    "# Contents of wordstats2.py\n",
    "\n",
    "text = \"\"\"The King took a heavy chamois leather bag from under his cloak and laid\n",
    "it on the table.\n",
    "\n",
    "\"There are three hundred pounds in gold and seven hundred in notes,\" he\n",
    "said.\n",
    "\n",
    "Holmes scribbled a receipt upon a sheet of his notebook and handed it\n",
    "to him.\n",
    "\n",
    "\"And Mademoiselle's address?\" he asked.\n",
    "\n",
    "\"Is Briony Lodge, Serpentine Avenue, St. John's Wood.\"\n",
    "\n",
    "Holmes took a note of it. \"One other question,\" said he. \"Was the\n",
    "photograph a cabinet?\"\n",
    "\n",
    "\"It was.\"\n",
    "\n",
    "\"Then, good-night, your Majesty, and I trust that we shall soon have\n",
    "some good news for you. And good night, Watson,\" he added, as the\n",
    "wheels of the royal brougham rolled down the street. \"If you will be\n",
    "good enough to call tomorrow afternoon at three o'clock I should like\n",
    "to chat this little matter over with you.\\\"\"\"\"\n",
    "\n",
    "wordcount = 0\n",
    "words_seen = []\n",
    "\n",
    "punctuation = [\".\",\"?\",\",\",\"\\'\",\"\\\"\",\":\",\";\",\"-\",\"(\",\")\"]\n",
    "\n",
    "filtered_text = text.lower() # convert to lower case\n",
    "# Replace punctuation with spaces\n",
    "for c in punctuation:\n",
    "    filtered_text = filtered_text.replace(c,\" \")\n",
    "\n",
    "for w in filtered_text.split():\n",
    "    wordcount = wordcount + 1\n",
    "    if w not in words_seen:\n",
    "        words_seen.append(w)\n",
    "        \n",
    "\n",
    "print(\"Analyzing this text:\")\n",
    "print(text)\n",
    "print()\n",
    "print(\"Words:\",wordcount)\n",
    "print(\"Distinct words:\",len(words_seen))\n",
    "print(\"List of distinct words:\",words_seen)"
   ]
  },
  {
   "cell_type": "markdown",
   "metadata": {},
   "source": [
    "## Revision history\n",
    "\n",
    "* 2021-09-23 Initial release\n",
    "* 2021-09-24 Fix wordstats2.py so it prints the original text, not the filtered version with punctuation removed."
   ]
  }
 ],
 "metadata": {
  "kernelspec": {
   "display_name": "Python 3",
   "language": "python",
   "name": "python3"
  },
  "language_info": {
   "codemirror_mode": {
    "name": "ipython",
    "version": 3
   },
   "file_extension": ".py",
   "mimetype": "text/x-python",
   "name": "python",
   "nbconvert_exporter": "python",
   "pygments_lexer": "ipython3",
   "version": "3.8.10"
  }
 },
 "nbformat": 4,
 "nbformat_minor": 4
}
