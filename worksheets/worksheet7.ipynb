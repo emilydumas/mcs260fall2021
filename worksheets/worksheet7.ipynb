{
 "cells": [
  {
   "cell_type": "markdown",
   "metadata": {},
   "source": [
    "# MCS 260 Fall 2021 Worksheet 7\n",
    "\n",
    "* Course instructor: Emily Dumas"
   ]
  },
  {
   "cell_type": "markdown",
   "metadata": {},
   "source": [
    "## Topics\n",
    "\n",
    "This worksheet focuses on **JSON** and **CSV** files, as well as the data structures **stack** and **queue**.\n",
    "\n",
    "## Problem 1 is different this time\n",
    "\n",
    "As I announced in lecture, this and future worksheets will have a first problem that is treated differently:\n",
    "* **Tuesday lab students:**  Problem 1 will be presented and solved as a group, in a discussion led by your TA.\n",
    "* **Thursday lab students:** Please attempt problem 1 before coming to lab.  Bring a solution, or bring questions.  The problem will be discussed as a group.\n",
    "\n",
    "## Resources\n",
    "\n",
    "The main course materials to refer to for this worksheet are:\n",
    "\n",
    "* [Sample programs](https://github.com/emilydumas/mcs260fall2021/tree/main/samplecode), especially the ones that have `json` or `csv` in the name, and the sample program `spillreport.py`.\n",
    "* [Lecture 15 - JSON](https://www.dumas.io/teaching/2021/fall/mcs260/slides/lecture15.html)\n",
    "* [Lecture 16 - CSV](https://www.dumas.io/teaching/2021/fall/mcs260/slides/lecture16.html)\n",
    "* [Lecture 17 - Stacks and queues](https://www.dumas.io/teaching/2021/fall/mcs260/slides/lecture17.html)\n",
    "* [Downey's book](https://greenteapress.com/thinkpython2/html/)\n",
    "\n",
    "(Lecture videos are not linked on worksheets, but are also useful to review while working on worksheets.  Video links can be found in the course [course Blackboard site](https://uic.blackboard.com/ultra/courses/_202683_1/cl/outline).)\n"
   ]
  },
  {
   "cell_type": "markdown",
   "metadata": {},
   "source": [
    "## 1. Parentheses\n",
    "\n",
    "In Lecture 17, we wrote a program [parentheses.py](https://github.com/emilydumas/mcs260fall2021/blob/main/samplecode/parentheses.py) to examine mathematical expressions like `((1+2)+3)` and check that it is possible to match the parentheses up in pairs.  It uses a stack to keep track of all the unmatched left parentheses while scanning through the string.\n",
    "\n",
    "Modify this program (saving the new one as `parentheses2.py`) so that while reading an expression, it prints a message every time it encounters a \")\" that shows which \"(\" matches it.  The output should look like this:\n",
    "\n",
    "```\n",
    "Expression: (((1+2)/7) + (9/(2+3)))\n",
    "Detected matching pair of parentheses enclosing: (1+2)\n",
    "Detected matching pair of parentheses enclosing: ((1+2)/7)\n",
    "Detected matching pair of parentheses enclosing: (2+3)\n",
    "Detected matching pair of parentheses enclosing: (9/(2+3))\n",
    "Detected matching pair of parentheses enclosing: (((1+2)/7) + (9/(2+3)))\n",
    "Parentheses matched successfully.\n",
    "```"
   ]
  },
  {
   "cell_type": "markdown",
   "metadata": {},
   "source": [
    "## 2. TV Episodes: From JSON to CSV\n",
    "\n",
    "From 2010 to 2012, the National Geographic Channel produced a weekly hour-long TV series titled \"Python Hunters\".  While you might imagine this was a show about computer programming, it was actually about snakes.\n",
    "\n",
    "A JSON file containing a list of episodes can be found from the link below:\n",
    "\n",
    "* [https://api.tvmaze.com/shows/25376/episodes](https://api.tvmaze.com/shows/25376/episodes)\n",
    "\n",
    "(This is not an official reference, but a user-generated catalog from a web site called TVMaze.  They make such datasets available for anyone to use, for free, as long as they give proper attribution.)\n",
    "\n",
    "You're going to need this data file in this problem, so you should visit the link and save it somewhere (e.g. as `pythonhunter.json`).\n",
    "\n",
    "The JSON object in this file is a list, and each item in the list is a dictionary describing an episode .  All of the dictionaries have the same keys, which are characteristics of an episode.\n",
    "\n",
    "The same information could be presented in table form and stored in a CSV file.  For example, if the only characteristics of an episode we care about are:\n",
    "* season\n",
    "* number\n",
    "* name\n",
    "* airdate\n",
    "\n",
    "then the episodes could be listed in a CSV file that would look like this:\n",
    "```\n",
    "season,number,name,airdate\n",
    "1,1,The Perfect Storm,2010-07-12\n",
    "1,2,The Big Freeze,2010-07-19\n",
    "```\n",
    "\n",
    "Write a Python program `episodes_to_csv.py` that reads the JSON file containing the episode list and creates a CSV file in the format described above.\n",
    "\n",
    "Use Python's `json` module to read the JSON file, and use the `csv` module to write the CSV file.  CSV is simple enough that you could probably write the data in this format manually (i.e. with `file.write()`), but the point of this problem is to get some practice using the `csv` module."
   ]
  },
  {
   "cell_type": "markdown",
   "metadata": {},
   "source": [
    "## 3. CSV totaler\n",
    "\n",
    "Write a program `csvtotaler.py` that expects two command line arguments:\n",
    "* `sys.argv[1]` is the input filename, an existing CSV file\n",
    "* `sys.argv[2]` is the output filename, which will be created by this program (also CSV)\n",
    "\n",
    "The CSV file specified as the first argument is expected to contain a header row, followed by columns of integer values.  There can be any number of columns, and any number of rows, but **all the values are expected to be integers**.  Here's a sample of what it might look like:\n",
    "\n",
    "```\n",
    "Received,Shipped,Damaged,Returned\n",
    "291,155,3,8\n",
    "408,120,5,0\n",
    "355,109,0,3\n",
    "```\n",
    "\n",
    "The program should read this and write a new CSV file that has all the same columns, as well as a new column called \"Rowtype\" that appears before the others.  Each row of data from the input file should be copied here, with the value \"Data\" in the \"Rowtype\" column.  Then, the sum of each column should be computed and these columnwise totals written to a row at the bottom whose \"Rowtype\" is \"Total\".  Thus, for the CSV shown above, the output file would contain:\n",
    "```\n",
    "Rowtype,Received,Shipped,Damaged,Returned\n",
    "Data,291,155,3,8\n",
    "Data,408,120,5,0\n",
    "Data,355,109,0,3\n",
    "Total,1054,384,8,11\n",
    "```"
   ]
  },
  {
   "cell_type": "markdown",
   "metadata": {},
   "source": [
    "## 4. GovTrack US house of representatives JSON\n",
    "\n",
    "Download and save this JSON file containing data about current members of the US House of Representatives.\n",
    "\n",
    "https://www.govtrack.us/api/v2/role?current=true&role_type=representative&limit=438\n",
    "\n",
    "Now, write a program that reads this and prints the twitter ids of all the representatives from Pennsylvania.\n",
    "\n",
    "(Do that by exploring the structure of the JSON file yourself, either by loading it into a variable in the REPL or opening the file in an editor and looking around.  The point is to practice understanding the layout of information in a JSON file and turning it into code that can access and filter it in Python.)"
   ]
  },
  {
   "cell_type": "markdown",
   "metadata": {},
   "source": [
    "## Bonus round\n",
    "\n",
    "* Add a feature so that `parentheses2.py` highlights the parenthesized part of the whole expression, rather than just printing the part inside the parentheses, e.g.\n",
    "\n",
    "```\n",
    "Expression: (((1+2)/7) + (9/(2+3)))\n",
    "Detected matching pair of parentheses:\n",
    "(((1+2)/7) + (9/(2+3)))\n",
    "  ^---^\n",
    "Detected matching pair of parentheses enclosing:\n",
    "(((1+2)/7) + (9/(2+3)))\n",
    " ^-------^\n",
    "Detected matching pair of parentheses enclosing:\n",
    "(((1+2)/7) + (9/(2+3)))\n",
    "                ^---^\n",
    "Detected matching pair of parentheses enclosing:\n",
    "(((1+2)/7) + (9/(2+3)))\n",
    "             ^-------^\n",
    "Detected matching pair of parentheses enclosing:\n",
    "(((1+2)/7) + (9/(2+3)))\n",
    "^---------------------^\n",
    "Parentheses matched successfully.\n",
    "```\n",
    "\n",
    "* Make it so that `parentheses2.py` shows *all* parentheses that haven't been closed, rather than just the rightmost one, in case there \"(\" with no matching \")\".\n",
    "\n",
    "* Make `parentheses3.py` that shows a text-based bar graph of how many parentheses are open at every point in the expression, like this:\n",
    "\n",
    "```\n",
    "(((1+2)/7) + (9/(2+3)))\n",
    "@@@@@@@@@@@@@@@@@@@@@@@\n",
    " @@@@@@@@@   @@@@@@@@@\n",
    "  @@@@@         @@@@@\n",
    "\n",
    "```\n",
    "\n",
    "The number of \"@\" characters appearing directly below any place in the expression tells you how many parentheses are open at that point."
   ]
  },
  {
   "cell_type": "markdown",
   "metadata": {},
   "source": [
    "## Revision history\n",
    "\n",
    "* 2021-10-05 Initial release"
   ]
  }
 ],
 "metadata": {
  "kernelspec": {
   "display_name": "Python 3",
   "language": "python",
   "name": "python3"
  },
  "language_info": {
   "codemirror_mode": {
    "name": "ipython",
    "version": 3
   },
   "file_extension": ".py",
   "mimetype": "text/x-python",
   "name": "python",
   "nbconvert_exporter": "python",
   "pygments_lexer": "ipython3",
   "version": "3.8.10"
  }
 },
 "nbformat": 4,
 "nbformat_minor": 4
}
