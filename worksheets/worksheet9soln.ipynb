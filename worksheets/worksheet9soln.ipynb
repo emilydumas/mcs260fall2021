{
 "cells": [
  {
   "cell_type": "markdown",
   "metadata": {},
   "source": [
    "# MCS 260 Fall 2021 Worksheet 9 Solutions\n",
    "\n",
    "* Course instructor: Emily Dumas"
   ]
  },
  {
   "cell_type": "markdown",
   "metadata": {},
   "source": [
    "## Topics\n",
    "\n",
    "This worksheet focuses on **dispatch tables**, **operators on iterables** (e.g. any(), all()), and **modules**.\n",
    "\n",
    "## Problem 1 treated differently\n",
    "\n",
    "Following the new policy, Problem 1 is different in that:\n",
    "* **Tuesday lab students:**  Problem 1 will be presented and solved as a group, in a discussion led by your TA.\n",
    "* **Thursday lab students:** Please attempt problem 1 before coming to lab.  Bring a solution, or bring questions.  The problem will be discussed as a group.\n",
    "\n",
    "## Resources\n",
    "\n",
    "The main course materials to refer to for this worksheet are:\n",
    "\n",
    "* [Sample programs](https://github.com/emilydumas/mcs260fall2021/tree/main/samplecode)\n",
    "* [Lecture 21 - Dispatch tables](https://www.dumas.io/teaching/2021/fall/mcs260/slides/lecture21.html)\n",
    "* [Lecture 22 - Operators on iterables](https://www.dumas.io/teaching/2021/fall/mcs260/slides/lecture22.html)\n",
    "* [Lecture 23 - Modules](https://www.dumas.io/teaching/2021/fall/mcs260/slides/lecture23.html)\n",
    "* [Downey's book](https://greenteapress.com/thinkpython2/html/)\n",
    "\n",
    "(Lecture videos are not linked on worksheets, but are also useful to review while working on worksheets.  Video links can be found in the course [course Blackboard site](https://uic.blackboard.com/ultra/courses/_202683_1/cl/outline).)\n"
   ]
  },
  {
   "cell_type": "markdown",
   "metadata": {},
   "source": [
    "## 1. Refactoring `terminal2.py`\n",
    "\n",
    "Recall that we developed a simple terminal application called `terminal2.py`.  Download this program and save it under a new name, `terminal3.py`.\n",
    "\n",
    "Then, modify the program as follows:\n",
    "\n",
    "### Move commands to a module\n",
    "\n",
    "Create a module called `termcommands` (in a file called `termcommands.py`) and move all the terminal commands out of `terminal3.py` and into this file.  That means all the functions that begin with `do_` should be moved.  Also move the dispatch table into the module.\n",
    "\n",
    "Have `terminal3.py` import and use this module, so that when you're done it works in the same way as `terminal2.py`.  Test running it, and make sure the commands work.\n",
    "\n",
    "### New command\n",
    "\n",
    "Add a new command called `haspy?` (think of that as \"has python?\") that simply prints \"yes\" or \"no\" depending on whether the current directory contains any files whose names end in `.py`.  It should be implemented by a function `do_haspy` that is in the module `termcommands`.  You'll need to add a new entry to the dispatch table, of course.\n",
    "\n",
    "If you use list comprehensions and `any()` in a clever way, you can make `do_haspy` a one-line function.  After you get it working by any method, see if you can achieve a one-line version."
   ]
  },
  {
   "cell_type": "code",
   "execution_count": null,
   "metadata": {},
   "outputs": [],
   "source": [
    "# Contents of terminal3.py\n",
    "\n",
    "\"\"\"Mini terminal application for demonstration purposes\"\"\"\n",
    "# MCS 260 Fall 2021 Lecture 21, 22, and Workseet 9\n",
    "\n",
    "# This version of the terminal puts the commands and dispatch\n",
    "# table in a separate module.\n",
    "\n",
    "# Note: the os module import from terminal2.py is NOT needed \n",
    "# in this version, because os functions are only used in\n",
    "# termcommands.py\n",
    "\n",
    "import termcommands\n",
    "\n",
    "# Main loop\n",
    "\n",
    "while True:\n",
    "    # Prompt for input\n",
    "    s=input(\"? \")\n",
    "    cmdparts = s.split()\n",
    "    if len(cmdparts) == 0:\n",
    "        print(\"No command given.\")\n",
    "        continue\n",
    "    \n",
    "    name = cmdparts[0]\n",
    "    args = cmdparts[1:]\n",
    "    if name in termcommands.handlers:\n",
    "        try:\n",
    "            termcommands.handlers[name](*args)\n",
    "        except TypeError:\n",
    "            print(\"Malformed command (wrong number of args?)\")\n",
    "    else:\n",
    "        termcommands.do_unknown()"
   ]
  },
  {
   "cell_type": "code",
   "execution_count": null,
   "metadata": {},
   "outputs": [],
   "source": [
    "# Contents of termcommands.py\n",
    "\n",
    "\"\"\"Commands and dispatch table for terminal3.py\"\"\"\n",
    "# MCS 260 Fall 2021 Worksheet 9\n",
    "\n",
    "import os   # needed because many command implementations call os functions!\n",
    "\n",
    "# COMMANDS\n",
    "\n",
    "def do_exit():\n",
    "    \"\"\"exit the program\"\"\"\n",
    "    exit()\n",
    "\n",
    "def do_unknown():\n",
    "    print(\"Unknown or malformed command.  (The 'help' command will list known commands.)\")\n",
    "\n",
    "def do_help():\n",
    "    \"\"\"print a help message\"\"\"\n",
    "    print(\"Known commands:\")\n",
    "    for name in handlers:\n",
    "        print(name,\"-\",handlers[name].__doc__)\n",
    "\n",
    "def do_whereami():\n",
    "    \"\"\"show current working directory\"\"\"\n",
    "    print(os.getcwd())\n",
    "\n",
    "def do_moveto(a):\n",
    "    \"\"\"change current working directory\"\"\"\n",
    "    os.chdir(a)\n",
    "\n",
    "def do_listdir(*args):\n",
    "    \"\"\"list the contents of a directory\"\"\"\n",
    "    if len(args) > 1:\n",
    "        raise TypeError(\"listdir accepts at most one argument\")\n",
    "    if len(args) == 1:\n",
    "        a = args[0]\n",
    "    else:\n",
    "        a = os.getcwd()\n",
    "    for fn in os.listdir(a):\n",
    "        print(fn)\n",
    "\n",
    "def do_numfiles(a):\n",
    "    \"\"\"show number of files and subdirs in a directory\"\"\"\n",
    "    numfiles = 0\n",
    "    numdirs = 0   # a might be \"C:\\Users\\ddumas\\Dropbox\\teaching\\mcs260\\public\\samplecode\"\n",
    "    for fn in os.listdir(a):\n",
    "        if os.path.isfile(os.path.join(a,fn)):  # fn might be \"map1.json\"\n",
    "            numfiles = numfiles + 1\n",
    "        elif os.path.isdir(os.path.join(a,fn)):\n",
    "            numdirs = numdirs + 1\n",
    "    print(\"{} files\\n{} dirs\".format(numfiles,numdirs))\n",
    "\n",
    "def do_create(a):\n",
    "    \"\"\"make a new empty file\"\"\"\n",
    "    if os.path.exists(a):\n",
    "        print(\"ERROR: {} already exists\".format(a))\n",
    "    else:\n",
    "        # File does not exist; ok to create\n",
    "        open(arg,\"w\").close()\n",
    "\n",
    "def do_copy(src,dst):\n",
    "    \"\"\"copy contents of SRC to new file DST\"\"\"\n",
    "    # copy the file named arg1 to a new file named arg2\n",
    "    if os.path.exists(dst):\n",
    "        print(\"ERROR: Refusing to overwrite existing file\")\n",
    "    else:\n",
    "        # TODO: Replace with memory-efficient incremental copy\n",
    "        infile=open(src,\"rb\")  # \"b\" means \"even if it's not a text file\"\n",
    "        data=infile.read()\n",
    "        infile.close()\n",
    "        outfile=open(dst,\"wb\")\n",
    "        outfile.write(data)\n",
    "        outfile.close()\n",
    "\n",
    "# DISPATCH TABLE\n",
    "\n",
    "handlers = {\n",
    "    \"help\": do_help,\n",
    "    \"exit\": do_exit,\n",
    "    \"listdir\": do_listdir,\n",
    "    \"numfiles\": do_numfiles,\n",
    "    \"create\": do_create,\n",
    "    \"moveto\": do_moveto,\n",
    "    \"whereami\": do_whereami,\n",
    "    \"copy\": do_copy\n",
    "}\n"
   ]
  },
  {
   "cell_type": "markdown",
   "metadata": {},
   "source": [
    "## 2. Comment line zapper\n",
    "\n",
    "Write a program called `commentzapper.py` that takes one command line argument, which is expected to be the name of a Python file.  It should read that file and print all the code, except it should skip any lines that consist entirely of comments (i.e. no code at all).\n",
    "\n",
    "For example, suppose that `example.py` contains the code below:"
   ]
  },
  {
   "cell_type": "code",
   "execution_count": null,
   "metadata": {},
   "outputs": [],
   "source": [
    "# Save this as `example.py` if you want to test the counter program\n",
    "\"Sample of counting\"\n",
    "# MCS 260\n",
    "\n",
    "def this_line_counts():  # I am a comment on a line that contains code\n",
    "    \"I am a docstring!\"\n",
    "    # TODO: Fix this!\n",
    "    print(\"Hello.\")\n",
    "\n",
    "this_line_counts()"
   ]
  },
  {
   "cell_type": "markdown",
   "metadata": {},
   "source": [
    "Then running\n",
    "```\n",
    "python commentzapper.py example.py\n",
    "```\n",
    "should print the following:\n",
    "```\n",
    "\"Sample of counting\"\n",
    "\n",
    "def this_line_counts():  # I am a comment on a line that contains code\n",
    "    \"I am a docstring!\"\n",
    "    print(\"Hello.\")\n",
    "\n",
    "this_line_counts()\n",
    "```\n",
    "\n",
    "**Hint:** This is an ideal problem in which to try out Python's `continue` statement that we learned about last week.  If you solve it another way, try to figure out how you might use `continue`."
   ]
  },
  {
   "cell_type": "code",
   "execution_count": null,
   "metadata": {},
   "outputs": [],
   "source": [
    "# content of commentzapper.py\n",
    "# MCS 260 Fall 2021 Worksheet 9\n",
    "import sys\n",
    "\n",
    "fobj = open(sys.argv[1],\"r\",encoding=\"UTF-8\")\n",
    "for line in fobj:\n",
    "    stripped = line.strip()\n",
    "    if len(stripped)>0 and stripped[0] == \"#\":\n",
    "        continue\n",
    "    print(line,end=\"\")"
   ]
  },
  {
   "cell_type": "markdown",
   "metadata": {},
   "source": [
    "## 3. Iterable puzzles\n",
    "\n",
    "Here's a JSON file that contains a **list of 100 lists of words**.\n",
    "\n",
    "* [iterpuzzles.json](https://raw.githubusercontent.com/emilydumas/mcs260fall2021/main/samplecode/data/iterpuzzles.json)\n",
    "\n",
    "The word lists have various lengths, and were selected randomly from a large dictionary.\n",
    "\n",
    "\n",
    "To complete this problem you'll need that file and some code to load it into a variable in Python.  Here's an example of code that can do so:"
   ]
  },
  {
   "cell_type": "code",
   "execution_count": 1,
   "metadata": {},
   "outputs": [],
   "source": [
    "import json\n",
    "\n",
    "# We assume \"iterpuzzles.json\" is in the CWD\n",
    "fobj=open(\"iterpuzzles.json\",\"r\",encoding=\"UTF-8\")\n",
    "L=json.load(fobj)\n",
    "fobj.close()"
   ]
  },
  {
   "cell_type": "markdown",
   "metadata": {},
   "source": [
    "The rest of this problem consists of puzzles that assume you have the data from that file in a variable called `L`.\n",
    "\n",
    "**Each puzzle asks you to write an expression in Python, ideally one line, that answers the question.**"
   ]
  },
  {
   "cell_type": "markdown",
   "metadata": {},
   "source": [
    "### A. Does every list contain a word starting with `e`?"
   ]
  },
  {
   "cell_type": "markdown",
   "metadata": {},
   "source": [
    "No:"
   ]
  },
  {
   "cell_type": "code",
   "execution_count": 2,
   "metadata": {},
   "outputs": [
    {
     "data": {
      "text/plain": [
       "False"
      ]
     },
     "execution_count": 2,
     "metadata": {},
     "output_type": "execute_result"
    }
   ],
   "source": [
    "all( [ any( [w[0]==\"e\" for w in sublist ]) for sublist in L] )"
   ]
  },
  {
   "cell_type": "markdown",
   "metadata": {},
   "source": [
    "Optional: Example of a list which has no such words."
   ]
  },
  {
   "cell_type": "code",
   "execution_count": 7,
   "metadata": {},
   "outputs": [
    {
     "data": {
      "text/plain": [
       "['propionitril',\n",
       " 'microvillous',\n",
       " 'bimorphs',\n",
       " 'cuckold',\n",
       " 'inextensibility',\n",
       " 'overblessed',\n",
       " 'oophorocystectomy',\n",
       " 'baronesses',\n",
       " 'meaul',\n",
       " 'drisheen',\n",
       " 'westralian',\n",
       " 'seeresses',\n",
       " 'whirlingly',\n",
       " 'falser',\n",
       " 'declass',\n",
       " 'nonsatirical',\n",
       " 'foresails',\n",
       " 'ordinately',\n",
       " 'preconceal',\n",
       " 'yentnite',\n",
       " 'djelfa',\n",
       " 'compares',\n",
       " 'meanie',\n",
       " 'unmethodical',\n",
       " 'nonscandalously',\n",
       " 'hesychasm',\n",
       " 'triskelia',\n",
       " 'clean',\n",
       " 'opacity',\n",
       " 'quangos',\n",
       " 'strepsipteral',\n",
       " 'grumbly',\n",
       " 'nonobjectivism',\n",
       " 'dispraise',\n",
       " 'nonzoologic',\n",
       " 'jibbeh',\n",
       " 'charismata',\n",
       " 'bas',\n",
       " 'unmoble',\n",
       " 'piano',\n",
       " 'atmosphered']"
      ]
     },
     "execution_count": 7,
     "metadata": {},
     "output_type": "execute_result"
    }
   ],
   "source": [
    "L[6]"
   ]
  },
  {
   "cell_type": "markdown",
   "metadata": {},
   "source": [
    "### B. Does the word `\"antipathy\"` appear in any of the lists?"
   ]
  },
  {
   "cell_type": "markdown",
   "metadata": {},
   "source": [
    "No:"
   ]
  },
  {
   "cell_type": "code",
   "execution_count": 8,
   "metadata": {},
   "outputs": [
    {
     "data": {
      "text/plain": [
       "False"
      ]
     },
     "execution_count": 8,
     "metadata": {},
     "output_type": "execute_result"
    }
   ],
   "source": [
    "any( [\"antipathy\" in sublist for sublist in L ] )"
   ]
  },
  {
   "cell_type": "markdown",
   "metadata": {},
   "source": [
    "Optional extension: All the words in any of the lists starting with \"anti\", in alphabetical order."
   ]
  },
  {
   "cell_type": "code",
   "execution_count": 16,
   "metadata": {},
   "outputs": [
    {
     "name": "stdout",
     "output_type": "stream",
     "text": [
      "['antiagglutinant', 'antiaggressively', 'antiantitoxin', 'antiatheist', 'antic', 'anticommunistic', 'anticorona', 'antiexpressively', 'antigalactagogue', 'antiinflammatory', 'antilens', 'antilepsis', 'antilepton', 'antilife', 'antimasquerade', 'antimediaeval', 'antimethodical', 'antineutrinos', 'anting', 'antings', 'antinome', 'antipacifists', 'antiparagraphe', 'antipasto', 'antipodagron', 'antipopulationist', 'antiportable', 'antiproductively', 'antiquer', 'antireservationist', 'antiroll', 'antisnapper', 'antivivisectionists', 'antizealot']\n"
     ]
    }
   ],
   "source": [
    "awords=[]\n",
    "for sublist in L:\n",
    "    for w in sublist:\n",
    "        if w not in awords and w[:4] == \"anti\":\n",
    "            awords.append(w)\n",
    "awords.sort()\n",
    "print(awords)"
   ]
  },
  {
   "cell_type": "markdown",
   "metadata": {},
   "source": [
    "### C. How many of the lists contain an odd number of words?"
   ]
  },
  {
   "cell_type": "code",
   "execution_count": 18,
   "metadata": {},
   "outputs": [
    {
     "data": {
      "text/plain": [
       "52"
      ]
     },
     "execution_count": 18,
     "metadata": {},
     "output_type": "execute_result"
    }
   ],
   "source": [
    "len( [ sublist for sublist in L if len(sublist)%2 ] )"
   ]
  },
  {
   "cell_type": "markdown",
   "metadata": {},
   "source": [
    "### D. For which `i` is `L[i]` a list in which the second word begins with the letter `a`?"
   ]
  },
  {
   "cell_type": "code",
   "execution_count": 19,
   "metadata": {},
   "outputs": [
    {
     "data": {
      "text/plain": [
       "[10, 14, 37, 60, 76, 77, 82, 83, 86, 97]"
      ]
     },
     "execution_count": 19,
     "metadata": {},
     "output_type": "execute_result"
    }
   ],
   "source": [
    "[ i for i,sublist in enumerate(L) if L[i][1][0]==\"a\" ]"
   ]
  },
  {
   "cell_type": "markdown",
   "metadata": {},
   "source": [
    "Optional extension: Let's look at one of these sublists."
   ]
  },
  {
   "cell_type": "code",
   "execution_count": 26,
   "metadata": {},
   "outputs": [
    {
     "data": {
      "text/plain": [
       "['thinnish',\n",
       " 'argininephosphoric',\n",
       " 'homomorphous',\n",
       " 'vindicators',\n",
       " 'redevote',\n",
       " 'chieftain']"
      ]
     },
     "execution_count": 26,
     "metadata": {},
     "output_type": "execute_result"
    }
   ],
   "source": [
    "L[77]"
   ]
  },
  {
   "cell_type": "markdown",
   "metadata": {},
   "source": [
    "## 4. Multiple input of specified types\n",
    "\n",
    "Write a function `multi_input(L)` that accepts a list like `[\"float\", \"string\", \"integer\", \"letter\"]` and reads corresponding input from the keyboard, returning a list of results.  Thus, if given the list above as input, the function might return\n",
    "`[ 8.5, \"Chicago\", 31, \"g\" ]`.\n",
    "\n",
    "Specifically: Each item in the list given as an argument will be a string, and is meant to specify the expected type of one line of input.  The possible values are:\n",
    "* `\"float\"` - indicates a float value is to be read\n",
    "* `\"integer\"` - indicates an integer is to be read\n",
    "* `\"string\"` - indicates a string is to be read\n",
    "* `\"letter\"` - indicates a single letter is to be read\n",
    "\n",
    "If the actual input does not match the expected type, the function should print a message and try again.\n",
    "\n",
    "Here is a sample interaction with `multi_input( [\"float\", \"string\", \"integer\", \"letter\"] )`:\n",
    "```\n",
    "float: asdf\n",
    "That didn't work; expected entry of a float.\n",
    "float: 8.5\n",
    "string: Chicago\n",
    "integer: Denver\n",
    "That didn't work; expected entry of a integer.\n",
    "integer: 31\n",
    "letter: jkl\n",
    "That didn't work; expected entry of a letter.\n",
    "letter: g\n",
    "```\n",
    "The return value in this case would be `[ 8.5, \"Chicago\", 31, \"g\" ]`.\n",
    "\n",
    "**Please use a dispatch table with keys `\"float\"`, `\"integer\"`, `\"string\"`, `\"letter\"`.**"
   ]
  },
  {
   "cell_type": "code",
   "execution_count": 28,
   "metadata": {},
   "outputs": [],
   "source": [
    "# MCS 260 Fall 2021 Worksheet 9\n",
    "\n",
    "def single_letter(s):\n",
    "    \"\"\"If s is one letter, return it.  Otherwise raise ValueError.\"\"\"\n",
    "    if len(s) != 1:\n",
    "        raise ValueError(\"Not a single letter: {}\".format(s))\n",
    "    return s\n",
    "    \n",
    "converters = {\n",
    "    \"float\": float,\n",
    "    \"integer\": int,\n",
    "    \"string\": str,\n",
    "    \"letter\": single_letter,\n",
    "}\n",
    "\n",
    "def multi_input(L):\n",
    "    \"\"\"Read multiple input values, based on a list of types given in `L`.\"\"\"\n",
    "    results = []\n",
    "    for valtype in L:\n",
    "        while True:\n",
    "            s = input(valtype+\": \")\n",
    "            try:\n",
    "                x = converters[valtype](s)\n",
    "                break\n",
    "            except Exception:\n",
    "                print(\"That didn't work; expected entry of a {}.\".format(valtype))"
   ]
  },
  {
   "cell_type": "code",
   "execution_count": 29,
   "metadata": {},
   "outputs": [
    {
     "name": "stdout",
     "output_type": "stream",
     "text": [
      "float: asdf\n",
      "That didn't work; expected entry of a float.\n",
      "float: 8.5\n",
      "string: Chicago\n",
      "integer: Denver\n",
      "That didn't work; expected entry of a integer.\n",
      "integer: 31\n",
      "letter: jkl\n",
      "That didn't work; expected entry of a letter.\n",
      "letter: g\n"
     ]
    }
   ],
   "source": [
    "multi_input( [\"float\", \"string\", \"integer\", \"letter\"] )"
   ]
  },
  {
   "cell_type": "markdown",
   "metadata": {},
   "source": [
    "## Revision history\n",
    "\n",
    "* 2021-10-20 Initial release"
   ]
  }
 ],
 "metadata": {
  "kernelspec": {
   "display_name": "Python 3",
   "language": "python",
   "name": "python3"
  },
  "language_info": {
   "codemirror_mode": {
    "name": "ipython",
    "version": 3
   },
   "file_extension": ".py",
   "mimetype": "text/x-python",
   "name": "python",
   "nbconvert_exporter": "python",
   "pygments_lexer": "ipython3",
   "version": "3.8.10"
  }
 },
 "nbformat": 4,
 "nbformat_minor": 4
}
