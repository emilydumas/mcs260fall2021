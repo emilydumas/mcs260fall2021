{
 "cells": [
  {
   "cell_type": "markdown",
   "metadata": {},
   "source": [
    "# MCS 260 Fall 2021 Worksheet 1 Solutions\n",
    "\n",
    "* Course instructor: Emily Dumas"
   ]
  },
  {
   "cell_type": "markdown",
   "metadata": {},
   "source": [
    "## Topics\n",
    "\n",
    "This worksheet covers **software setup for MCS 260** and **number systems**.\n",
    "\n",
    "In general, the MCS 260 worksheet for any week's lab will cover material up to the Monday of that week; for week 1, this means only lecture 1 is included.\n",
    "\n",
    "## Instructions\n",
    "\n",
    "* Work on the activities below in lab.\n",
    "* Seek assistance from your TA or from fellow students if you run into trouble.\n",
    "* Start on the software setup tasks, but [skip ahead to the number systems exercises](#Part-II.-Number-systems) if it looks like you are running out of time.  It's important to get practice on both while you have a TA and other students around to offer support and assistance.\n",
    "\n",
    "\n",
    "## Collaboration\n",
    "\n",
    "Collaboration on worksheets is **strongly encouraged**.\n",
    "\n",
    "## Resources\n",
    "\n",
    "The main course materials to refer to for this worksheet are:\n",
    "\n",
    "* [Lecture 1 - Intro and number systems](https://dumas.io/teaching/2021/fall/mcs260/slides/lecture1.html)\n",
    "* [Slides on paths and directories](https://dumas.io/teaching/2021/fall/mcs260/slides/week1discussion.html)\n",
    "\n",
    "(Lecture videos are not linked on worksheets, but are also useful to review while working on worksheets.  Video links can be found in the course [course Blackboard site](https://uic.blackboard.com/ultra/courses/_202683_1/cl/outline).)\n",
    "\n",
    "\n",
    "## Note about solutions\n",
    "\n",
    "Unlike most future worksheets, many of the steps on this one just ask you to do things and don't have \"solutions\" per se.  The actual solutions begin on question 9."
   ]
  },
  {
   "cell_type": "markdown",
   "metadata": {},
   "source": [
    "## Part I: Software setup\n",
    "\n",
    "These instructions assume you'll use a personal computer to do some of your coursework, and that you brought this device to lab with you.\n",
    "\n",
    "If you are going to use UIC lab computers exclusively, and not do any course work on a personal device, you shouldn't need to install anything.  Instead, follow the instructions below but skip the actual install steps, so that they become a series of checks that everything is working and that you know how to run it.\n",
    "\n",
    "All of the software you need for MCS 260 is **free**.  No purchase is required."
   ]
  },
  {
   "cell_type": "markdown",
   "metadata": {},
   "source": [
    "### 1. Install Python 3.9 (or any version 3.6 or higher)\n",
    "\n",
    "The exact steps depend on the operating system of your computer (Windows, MacOS, Linux), and details can be found in the *Getting Started* section of the [course web page](https://uic.blackboard.com/ultra/courses/_202683_1/cl/outline).\n",
    "\n",
    "For most students, this step either requires no action (recent MacOS) or is as simple as opening the Microsoft Store, finding Python 3.9, and clicking Install (Windows)."
   ]
  },
  {
   "cell_type": "markdown",
   "metadata": {},
   "source": [
    "### 2. Open a terminal\n",
    "\n",
    "We'll do a lot of work in MCS 260 using a text-based interface to your computer, the *terminal*.\n",
    "\n",
    "The terminal is an application like any other, and is already installed on your computer.  But the name depends on your operating system:\n",
    "* In Windows, you need to run *Windows Powershell*.  Look for it in the Start Menu.  It should open a window with a dark blue background.  We recommend making a shortcut to this application on the desktop or in the taskbar, since you'll need to use it a lot.\n",
    "* In MacOS, run the application *Terminal*, which is located in the Applications menu under the submenu Utilities.\n",
    "* In Linux (with a graphical desktop), the name depends on the distribution and desktop environment.  You'll need to open the application menu or launcher and look for a terminal application.\n",
    "\n",
    "At the end of this step, you should have a window open that displays a small amount of text, and which is waiting for keyboard input."
   ]
  },
  {
   "cell_type": "markdown",
   "metadata": {},
   "source": [
    "### 3. Run the Python 3 interpreter in the terminal\n",
    "\n",
    "To do this, you'll need to make the terminal the active window and then type the **interpreter command name** followed by the Enter key.  The interpreter command name could be either `python3` or `python`, and in some cases both will work.  Try them in that order.\n",
    "\n",
    "Success looks something like this:\n",
    "```\n",
    "PS C:\\Users\\ddumas> python\n",
    "Python 3.9.6 (tags/v3.9.6:db3ff76, Jun 28 2021, 15:26:21) [MSC v.1929 64 bit (AMD64)] on win32\n",
    "Type \"help\", \"copyright\", \"credits\" or \"license\" for more information.\n",
    ">>>\n",
    "```\n",
    "Notice the `Python 3.9.6` on the second line, which shows that Python 3.9 is running.  If you see something like `Python 2.7.18` instead, it means that command opened a much older version of Python that cannot be used in MCS 260.  Try the command `python3` instead.\n",
    "\n",
    "At this point your terminal will be \"stuck\" in Python, which waits for you to type commands.  You can tell that you are in Python because the prompt is `>>>`.  If you needed to exit from Python, you would use the command `exit()`, but we'll stay in Python for the next step."
   ]
  },
  {
   "cell_type": "markdown",
   "metadata": {},
   "source": [
    "### 4. Run the traditional first Python statement\n",
    "\n",
    "This step assumes you have a terminal running, and Python 3.x is running inside that terminal.  You should see a prompt `>>>` with the cursor to the right of it.\n",
    "\n",
    "Type the traditional first Python statement\n",
    "```\n",
    "print(\"Hello world!\")\n",
    "```\n",
    "followed by the Enter key.  Be careful to include the quotation marks and parentheses exactly as shown above.  If you succeeded, a new line of text should appear that contains simply\n",
    "```\n",
    "Hello world!\n",
    "```\n",
    "\n",
    "At this point, you can exit Python by typing `exit()` followed by the Enter key."
   ]
  },
  {
   "cell_type": "markdown",
   "metadata": {},
   "source": [
    "### 5. Install a programming editor\n",
    "\n",
    "Most students entering MCS 260 either won't have a programming editor installed, or else won't have a strong opinion about which one is best.  If that applies to you, then you should install our recommended one, Visual Studio Code.  It's a **free** program by Microsoft available from this URL:\n",
    "\n",
    "* [Visual Studio Code download](https://code.visualstudio.com/download)\n",
    "\n",
    "Note that Visual Studio Code is very different from Visual Studio.  Both are made by Microsoft, but we'll only use the first one.\n",
    "\n",
    "If you already have a different programming editor installed, and prefer to use that, you may do so.  However, we probably can't offer technical support on other editors.\n",
    "\n",
    "Also, programs like Microsoft Word (on Windows) or Pages (on MacOS) are *document* editors, not *text* editors, and they won't work for MCS 260."
   ]
  },
  {
   "cell_type": "markdown",
   "metadata": {},
   "source": [
    "### 6. Create a file in Visual Studio Code\n",
    "\n",
    "Open Visual Studio Code (from the start menu or application launcher) and create a new file.  You can use Control-N or select File>New from the menus.\n",
    "\n",
    "In that file, type the following text:\n",
    "```\n",
    "print(\"Hello world, this is a script!\")\n",
    "```\n",
    "\n",
    "Save the file on the desktop (Control-S or File>Save), giving it the name `hello.py`.  The extension `.py` identifies this file as a collection of Python statements, i.e. a *script*."
   ]
  },
  {
   "cell_type": "markdown",
   "metadata": {},
   "source": [
    "### 7. Find the desktop in the terminal\n",
    "\n",
    "Switch back to the terminal or open it again, as applicable.  Change the current working directory to the Desktop.  In most terminals, the following command will do that:\n",
    "```\n",
    "cd ~/Desktop\n",
    "```"
   ]
  },
  {
   "cell_type": "markdown",
   "metadata": {},
   "source": [
    "### 8. Run the script you created\n",
    "\n",
    "Run the script `hello.py` that you created in step 6 by typing the command\n",
    "```\n",
    "python hello.py\n",
    "```\n",
    "or\n",
    "```\n",
    "python3 hello.py\n",
    "```\n",
    "in the terminal.  Success is indicated by\n",
    "```\n",
    "Hello world, this is a script!\n",
    "```\n",
    "appearing after you press Enter.\n",
    "\n",
    "**Note 1:** This command needs to run in the terminal, and not in Python itself.  If your terminal shows `>>>` next to the cursor, it means Python is running and you need to exit.  The command `exit()` will exit Python and return to the terminal.\n",
    "\n",
    "**Note 2:** This simple script will run properly even if you accidentally use the Python 2 interpreter. In the future, however, running scripts related to MCS 260 under Python 2 will create major problems. Thus it is important to make sure you are actually running Python 3. You can edit the script hello.py to add a check, as follows:\n",
    "```\n",
    "import sys\n",
    "print(\"Hello world, from Python version\",sys.version)\n",
    "```\n",
    "This will print a greeting that includes the Python version.  For example, on Windows it might show:\n",
    "```\n",
    "Hello world, from Python version 3.9.6 (tags/v3.9.6:db3ff76, Jun 28 2021, 15:26:21) [MSC v.1929 64 bit (AMD64)] on win32\n",
    "```"
   ]
  },
  {
   "cell_type": "markdown",
   "metadata": {},
   "source": [
    "### 9. Experiment with Python as a calculator\n",
    "\n",
    "Run python in the terminal again, to get the `>>>` prompt.\n",
    "Now, experiment with using it as a calculator.  For example, try these commands:\n",
    "* `2+3`\n",
    "* `2*36`\n",
    "* `2**5`\n",
    "* `11/2`"
   ]
  },
  {
   "cell_type": "code",
   "execution_count": 1,
   "metadata": {},
   "outputs": [
    {
     "data": {
      "text/plain": [
       "5"
      ]
     },
     "execution_count": 1,
     "metadata": {},
     "output_type": "execute_result"
    }
   ],
   "source": [
    "2+3"
   ]
  },
  {
   "cell_type": "code",
   "execution_count": 2,
   "metadata": {},
   "outputs": [
    {
     "data": {
      "text/plain": [
       "72"
      ]
     },
     "execution_count": 2,
     "metadata": {},
     "output_type": "execute_result"
    }
   ],
   "source": [
    "2*36"
   ]
  },
  {
   "cell_type": "code",
   "execution_count": 3,
   "metadata": {},
   "outputs": [
    {
     "data": {
      "text/plain": [
       "32"
      ]
     },
     "execution_count": 3,
     "metadata": {},
     "output_type": "execute_result"
    }
   ],
   "source": [
    "2**5"
   ]
  },
  {
   "cell_type": "code",
   "execution_count": 4,
   "metadata": {},
   "outputs": [
    {
     "data": {
      "text/plain": [
       "5.5"
      ]
     },
     "execution_count": 4,
     "metadata": {},
     "output_type": "execute_result"
    }
   ],
   "source": [
    "11/2"
   ]
  },
  {
   "cell_type": "markdown",
   "metadata": {},
   "source": [
    "And a couple of bonus calculations:"
   ]
  },
  {
   "cell_type": "code",
   "execution_count": 6,
   "metadata": {},
   "outputs": [
    {
     "data": {
      "text/plain": [
       "1852673427797059126777135760139006525652319754650249024631321344126610074238976"
      ]
     },
     "execution_count": 6,
     "metadata": {},
     "output_type": "execute_result"
    }
   ],
   "source": [
    "# 2 to the power 260\n",
    "2**260"
   ]
  },
  {
   "cell_type": "code",
   "execution_count": 7,
   "metadata": {},
   "outputs": [
    {
     "data": {
      "text/plain": [
       "4"
      ]
     },
     "execution_count": 7,
     "metadata": {},
     "output_type": "execute_result"
    }
   ],
   "source": [
    "# Is 10,000 days an exact number of weeks?\n",
    "10_000 % 7"
   ]
  },
  {
   "cell_type": "markdown",
   "metadata": {},
   "source": [
    "(What this answer means: No, after 10,000 days the weekday will be 4 days later than at the start, e.g. 10,000 days after a Monday it will be a Friday.)"
   ]
  },
  {
   "cell_type": "code",
   "execution_count": 9,
   "metadata": {},
   "outputs": [
    {
     "data": {
      "text/plain": [
       "228000"
      ]
     },
     "execution_count": 9,
     "metadata": {},
     "output_type": "execute_result"
    }
   ],
   "source": [
    "# How many seconds will you spend in MCS 260 this semester?\n",
    "# 43 lectures, 50 minutes each + 15 labs, 110 minutes each\n",
    "43*50*60 +  15*110*60"
   ]
  },
  {
   "cell_type": "markdown",
   "metadata": {},
   "source": [
    "## Part II. Number systems\n",
    "\n",
    "Work out these number conversion problems by hand.  This document doesn't provide space to write, so use a separate sheet of paper, a blank page in your tablet's writing application, etc..  If you can figure out a way to check them with a calculator or with Python, do so afterward, but this isn't required.\n",
    "\n",
    "The purpose of working a few conversions by hand is to make sure you understand the basic principles of different number systems."
   ]
  },
  {
   "cell_type": "markdown",
   "metadata": {},
   "source": [
    "### 10. Convert `0b010110001` to decimal."
   ]
  },
  {
   "cell_type": "markdown",
   "metadata": {},
   "source": [
    "The place values with 1s in them are 1, 16, 32, 128.  So the number represents\n",
    "`1 + 16 + 32 + 128 = 177`\n",
    "in decimal."
   ]
  },
  {
   "cell_type": "markdown",
   "metadata": {},
   "source": [
    "### 11. Convert `0xB00` to decimal."
   ]
  },
  {
   "cell_type": "markdown",
   "metadata": {},
   "source": [
    "In hexadecimal, the first few place values are 1, 16, and 16\\*16=256.  Since B represents 11 and is the only nonzero hex digit in this number, appearing in the 256s place, the value is\n",
    "```\n",
    "0xB00 = 11 * 256 = 2816\n",
    "```"
   ]
  },
  {
   "cell_type": "markdown",
   "metadata": {},
   "source": [
    "### 12. Convert the decimal number `99` to hexadecimal."
   ]
  },
  {
   "cell_type": "markdown",
   "metadata": {},
   "source": [
    "Here is a table showing the conversion in the way we discussed in class (repeated integer division and remainder):\n",
    "\n",
    "```\n",
    "x   x//16   x%16\n",
    "99  6       3\n",
    "6   0       6\n",
    "```\n",
    "\n",
    "Note we stop when `x//16` is zero.  In binary tables, the last line is always `1 0 1`, but for hex tables the last line may have a number different from `1` in the other columns.\n",
    "\n",
    "In any case, we read the right column from bottom to top to conclude `99 = 0x63`."
   ]
  },
  {
   "cell_type": "markdown",
   "metadata": {},
   "source": [
    "### 13. Convert `0b10010110` to hexadecimal."
   ]
  },
  {
   "cell_type": "markdown",
   "metadata": {},
   "source": [
    "Splitting it into blocks of 4 digits we have `0b1001_0110`.  The block `1001` on its own represents the number `8+1=9`, while `0110` represents `4+2=6`.  Therefore `0b10010110 = 0x96`."
   ]
  },
  {
   "cell_type": "markdown",
   "metadata": {},
   "source": [
    "### 14. Convert the decimal number `56` to binary."
   ]
  },
  {
   "cell_type": "markdown",
   "metadata": {},
   "source": [
    "Here is a table showing the conversion in the way we discussed in class (repeated integer division and remainder):\n",
    "\n",
    "```\n",
    "x   x//2   x%2\n",
    "56  28     0\n",
    "28  14     0\n",
    "14  7      0\n",
    "7   3      1\n",
    "3   1      1\n",
    "1   0      1\n",
    "```\n",
    "\n",
    "Therefore, `56 = 0b111000`."
   ]
  },
  {
   "cell_type": "markdown",
   "metadata": {},
   "source": [
    "### 15. What is the decimal value of the largest number that can be written with 2 hexadecimal digits?"
   ]
  },
  {
   "cell_type": "markdown",
   "metadata": {},
   "source": [
    "The largest digit in hex is `F`, with value 15.  So the largest 2-digit hex number is `0xFF` with value\n",
    "\n",
    "```\n",
    "0xFF = 15*16 + 15*1 = 255\n",
    "```"
   ]
  },
  {
   "cell_type": "markdown",
   "metadata": {},
   "source": [
    "### 16. Which is bigger: The largest number you can write in decimal with 4 digits, or the largest number you can write in binary with 13 digits?"
   ]
  },
  {
   "cell_type": "markdown",
   "metadata": {},
   "source": [
    "The largest decimal 4-digit number is `9999`.  The largest binary 13-digit number is `0b1_1111_1111_1111`, so the question is really to determine the decimal value of this number.\n",
    "\n",
    "That value turns out to be `8191`.  One way to see this is to notice that adding one to `0b1_1111_1111_1111` must give the smallest 14-digit binary number `0b10_0000_0000_0000`, which is just `2**13 = 8192`, so we can subtract one to get the value of `0b1_1111_1111_1111`.  Another way is to compute\n",
    "```\n",
    "0b1_1111_1111_1111 = 1 + 2 + 4 + 8 + ... + 2048 + 4096 = 8191,\n",
    "```\n",
    "a sum you can do manually or using the formula for the sum of a geometric series.\n",
    "\n",
    "Since `9999 > 8191`, we conclude that the largest 4-digit decimal number is larger."
   ]
  },
  {
   "cell_type": "markdown",
   "metadata": {},
   "source": [
    "## Revision history\n",
    "\n",
    "* 2021-08-26 Initial release"
   ]
  }
 ],
 "metadata": {
  "kernelspec": {
   "display_name": "Python 3",
   "language": "python",
   "name": "python3"
  },
  "language_info": {
   "codemirror_mode": {
    "name": "ipython",
    "version": 3
   },
   "file_extension": ".py",
   "mimetype": "text/x-python",
   "name": "python",
   "nbconvert_exporter": "python",
   "pygments_lexer": "ipython3",
   "version": "3.8.10"
  }
 },
 "nbformat": 4,
 "nbformat_minor": 4
}
