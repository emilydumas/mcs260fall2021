{
 "cells": [
  {
   "cell_type": "markdown",
   "metadata": {},
   "source": [
    "# MCS 260 Fall 2021 Worksheet 15\n",
    "\n",
    "* Course instructor: Emily Dumas"
   ]
  },
  {
   "cell_type": "markdown",
   "metadata": {},
   "source": [
    "## Topics\n",
    "\n",
    "This worksheet focuses on **threads** and **tkinter**.\n",
    "\n",
    "\n",
    "## Resources\n",
    "\n",
    "The main resources to refer to for this worksheet are:\n",
    "\n",
    "* [Sample programs](https://github.com/emilydumas/mcs260fall2021/tree/main/samplecode)\n",
    "* [Lecture 39 - threading](https://www.dumas.io/teaching/2021/fall/mcs260/slides/lecture39.html)\n",
    "* [Lecture 36 - tkinter](https://www.dumas.io/teaching/2021/fall/mcs260/slides/lecture36.html)\n",
    "* [Lecture 38 - tkinter 2](https://www.dumas.io/teaching/2021/fall/mcs260/slides/lecture38.html)\n",
    "* [Lecture 40 - tkinter 3](https://www.dumas.io/teaching/2021/fall/mcs260/slides/lecture40.html)\n",
    "* [Downey's book](https://greenteapress.com/thinkpython2/html/)\n",
    "\n",
    "(Lecture videos are not linked on worksheets, but are also useful to review while working on worksheets.  Video links can be found in the course [course Blackboard site](https://uic.blackboard.com/ultra/courses/_202683_1/cl/outline).)\n"
   ]
  },
  {
   "cell_type": "markdown",
   "metadata": {},
   "source": [
    "## 1. Red Light Green Light\n",
    "\n",
    "\n",
    "### The playground game\n",
    "\n",
    "Red Light Green Light (RLGL), also known as Statues, is a playground game in which players attempt to cross from one side of a field to the other.  However, to avoid disqualification, players must follow rules that limit their progress.  The game is supervised by another participant, the \"caller\" or \"curator\", who stands at the end of the field that players are trying to reach.\n",
    "\n",
    "When the caller yells out \"Green Light\" and turns away from field, players are allowed to move as they like (e.g. running toward the side where the caller stands).  But when the caller yells \"Red Light\" and turns toward the field, every player must stand completely still.  If the caller sees any player moving (e.g. due to failure to come to a complete stop before the caller turns), that player is disqualified from the round.\n",
    "\n",
    "The caller alternates between \"Red Light\" and \"Green Light\" on whatever schedule they like, usually  choosing a somewhat random sequence of delays so that players moving forward will be forced to stop unexpectedly.  Players who reach the caller's side of the field without being disqualified win that round.  The caller is informally evaluated on the basis of how many players are disqualified (with higher numbers meaning a better performance).\n",
    "\n",
    "### Your task\n",
    "\n",
    "Make a Python program that plays RLGL, with the program functioning as the caller and the user being the only player.\n",
    "\n",
    "Each time the user presses Enter, it corresponds to taking one step forward.  Their current position is indicated by a simple text graphics depiction of the field, e.g.\n",
    "\n",
    "The user (represented by `@`) is close to the start:\n",
    "```\n",
    "start|-----@------------------------|goal\n",
    "```\n",
    "The user is near the goal:\n",
    "```\n",
    "start|---------------------------@--|goal\n",
    "```\n",
    "\n",
    "The line of text graphics representing the field is printed anew after each step.  You can make the field as wide as you prefer, but I recommend something between 20 and 72 characters.\n",
    "\n",
    "At random times, the program will print \"RED LIGHT!\" or \"GREEN LIGHT!\" on the screen, and the user must follow these cues.  The time between messages will always be between 0.5 and 2.5 seconds.  If the user presses Enter while red light is active, the game ends with a message indicating the user lost.\n",
    "\n",
    "If the player reaches the goal, the program instead prints a congratulatory message.\n",
    "\n",
    "### How to do this\n",
    "\n",
    "Make a program with two threads.  The main thread handles the user input (the function `input()` will wait for the user to press enter) as well as printing the board.  The other thread runs in the background and is only responsible for timing and printing the RL/GL messages.\n",
    "\n",
    "The background thread object should be created so that it has an attribute `.greenlight` that is a Boolean value, set to `True` whenever \"Green Light\" is announced, and to `False` when \"Red Light\" is announced.  Its main `.run()` method should just loop forever, flipping this attribute and printing messages with random delays.\n",
    "\n",
    "The main thread should check the value of the `.greenlight` attribute of the thread after each time the user presses Enter, and respond accordingly.\n",
    "\n",
    "### Improvements\n",
    "\n",
    "If time allows, add a feature where each announcement of a Red Light has a 0.25-second grace period before movement causes disqualification.  If Enter is pressed during the grace period, the user does not move forward and does not lose the game.  Green Light announcements should have no such grace period.\n",
    "\n",
    "### Sample gameplay\n",
    "\n",
    "Here's a screencast showing a brief session of a game, including the optional grace period.  (You'll notice the user presses enter after \"Red Light\" in one case, but the game allows it because it happened during the grace period.)\n",
    "\n",
    "![](images/rlglsession.gif)"
   ]
  },
  {
   "cell_type": "markdown",
   "metadata": {},
   "source": [
    "## 2. Decimal to other base converter\n",
    "\n",
    "Make a tkinter GUI program that lets the user enter a decimal integer (e.g. `1546`) in a `Entry` widget, and which displays the same number in a different base in another `Entry` widget.  The base to use should be specified using a slider (`Scale` widget) which allows the selection of any base between `2` and `36`.\n",
    "\n",
    "You can find a mockup of the GUI below, but you can use a more spartan interface if you like.  For example, the labels on either side of the slider are optional.\n",
    "\n",
    "### Starter code: base conversion function\n",
    "\n",
    "Since base conversions are not the main point of this worksheet, I've provided a function below that takes an integer `n` and base `b` and returns a string that represents `n` in base `b`.  (If you finish both exercises on this worksheet early, it would be a good idea to try to write your own function that does the same thing, without referring to this one while doing so.)"
   ]
  },
  {
   "cell_type": "code",
   "execution_count": 30,
   "metadata": {},
   "outputs": [],
   "source": [
    "def decimal_to_base(n,b):\n",
    "    \"\"\"\n",
    "    Convert integer `n` to string in base `b`, where base-`b` digits\n",
    "    beyond the first 10 are given by uppercase letters a-z.\n",
    "    \"\"\"\n",
    "    DIGITS = \"0123456789ABCDEFGHIJKLMNOPQRSTUVWXYZ\"\n",
    "    # If n is a string or float, convert to int first.\n",
    "    if not isinstance(n,int):\n",
    "        n = int(n)\n",
    "    if n < 0:\n",
    "        raise ValueError(\"n must be greater than or equal to 0\")\n",
    "    if b < 2 or b > 36:\n",
    "        raise ValueError(\"b must be between 2 and 36\")\n",
    "    L = []\n",
    "    while (not L) or n > 0:\n",
    "        L.append(DIGITS[n%b])\n",
    "        n = n//b\n",
    "    return \"\".join(L[::-1])"
   ]
  },
  {
   "cell_type": "markdown",
   "metadata": {},
   "source": [
    "### Desired interface\n",
    "\n",
    "Here's an animation showing usage of a finished GUI meeting the specs given above.  In your solution, the labels and indicators next to the sliders are optional. Only a slider and two text entry boxes are required.\n",
    "\n",
    "![](images/baseanim.gif)"
   ]
  },
  {
   "cell_type": "markdown",
   "metadata": {},
   "source": [
    "## Revision history\n",
    "\n",
    "* 2021-11-29 Initial release"
   ]
  }
 ],
 "metadata": {
  "kernelspec": {
   "display_name": "Python 3",
   "language": "python",
   "name": "python3"
  },
  "language_info": {
   "codemirror_mode": {
    "name": "ipython",
    "version": 3
   },
   "file_extension": ".py",
   "mimetype": "text/x-python",
   "name": "python",
   "nbconvert_exporter": "python",
   "pygments_lexer": "ipython3",
   "version": "3.8.10"
  }
 },
 "nbformat": 4,
 "nbformat_minor": 4
}
