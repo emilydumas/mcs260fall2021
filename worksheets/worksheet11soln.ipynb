{
 "cells": [
  {
   "cell_type": "markdown",
   "metadata": {},
   "source": [
    "# MCS 260 Fall 2021 Worksheet 11 Solutions\n",
    "\n",
    "* Course instructor: Emily Dumas\n",
    "* Solutions prepared by: Emily Dumas and Jennifer Vaccaro (2020 MCS 260 TA)"
   ]
  },
  {
   "cell_type": "markdown",
   "metadata": {},
   "source": [
    "## Topics\n",
    "\n",
    "This worksheet focuses on **recursion** and the additional aspects of **object-oriented programming** that were covered last week.\n",
    "\n",
    "\n",
    "## Resources\n",
    "\n",
    "The main course materials to refer to for this worksheet are:\n",
    "\n",
    "* [Sample programs](https://github.com/emilydumas/mcs260fall2021/tree/main/samplecode)\n",
    "    * Especially [fgs.py](https://github.com/emilydumas/mcs260fall2021/blob/main/samplecode/oop/fgs.py) and [factorial.py](https://github.com/emilydumas/mcs260fall2021/blob/main/samplecode/factorial.py)\n",
    "* [Lecture 27 - OOP 3 (inheritance)](https://www.dumas.io/teaching/2021/fall/mcs260/slides/lecture27.html)\n",
    "* [Lecture 28 - OOP 4 (protocols)](https://www.dumas.io/teaching/2021/fall/mcs260/slides/lecture28.html)\n",
    "* [Lecture 29 - Recursion](https://www.dumas.io/teaching/2021/fall/mcs260/slides/lecture29.html)\n",
    "* [Downey's book](https://greenteapress.com/thinkpython2/html/)\n",
    "\n",
    "(Lecture videos are not linked on worksheets, but are also useful to review while working on worksheets.  Video links can be found in the course [course Blackboard site](https://uic.blackboard.com/ultra/courses/_202683_1/cl/outline).)\n"
   ]
  },
  {
   "cell_type": "markdown",
   "metadata": {},
   "source": [
    "## 1. Item assignment and `FGS`\n",
    "\n",
    "In Lecture 28 we built a custom sequence class `FGS` in [fgs.py](https://github.com/emilydumas/mcs260fall2021/blob/main/samplecode/oop/fgs.py).  Recall that objects of this class represent finite geometric sequences, as specified by a start value, ratio, and length.\n",
    "\n",
    "Here's a quick reminder about how you can work with objects of this class:"
   ]
  },
  {
   "cell_type": "code",
   "execution_count": 2,
   "metadata": {},
   "outputs": [
    {
     "data": {
      "text/plain": [
       "10"
      ]
     },
     "execution_count": 2,
     "metadata": {},
     "output_type": "execute_result"
    }
   ],
   "source": [
    "import fgs\n",
    "\n",
    "S = fgs.FGS(start=10,ratio=2,length=7)\n",
    "S[0] # first term"
   ]
  },
  {
   "cell_type": "code",
   "execution_count": 3,
   "metadata": {},
   "outputs": [
    {
     "data": {
      "text/plain": [
       "20"
      ]
     },
     "execution_count": 3,
     "metadata": {},
     "output_type": "execute_result"
    }
   ],
   "source": [
    "S[1] # second term"
   ]
  },
  {
   "cell_type": "code",
   "execution_count": 4,
   "metadata": {},
   "outputs": [
    {
     "name": "stdout",
     "output_type": "stream",
     "text": [
      "10\n",
      "20\n",
      "40\n",
      "80\n",
      "160\n",
      "320\n",
      "640\n"
     ]
    }
   ],
   "source": [
    "# all the terms\n",
    "for term in S:\n",
    "    print(term)"
   ]
  },
  {
   "cell_type": "markdown",
   "metadata": {},
   "source": [
    "At the moment, you can't use *item assignment* with class `FGS`, e.g. the command below would raise an exception:"
   ]
  },
  {
   "cell_type": "code",
   "execution_count": 5,
   "metadata": {},
   "outputs": [],
   "source": [
    "# This will cause an error because we haven't defined item assignment for class FGS.\n",
    "S[2] = 5"
   ]
  },
  {
   "cell_type": "markdown",
   "metadata": {},
   "source": [
    "### Add item assignment to class FGS\n",
    "\n",
    "Item assignment in Python is handled by a special method `__setitem__`.  The statement\n",
    "```\n",
    "obj[5] = x\n",
    "```\n",
    "translates into the method call\n",
    "```\n",
    "obj.__setitem__(5,x)\n",
    "```\n",
    "i.e. the first argument to `__setitem__` is the index, and the second is the value being assigned at that index.\n",
    "\n",
    "**For FGS, please make item assignment work this way:**\n",
    "* Assigning a different value to the item at index `0` should change the start value of the geometric sequence (without changing the ratio or length).\n",
    "* An attempt to assign to any other index should raise an `IndexError`\n",
    "\n",
    "Example of what the new behavior should look like:"
   ]
  },
  {
   "cell_type": "code",
   "execution_count": 8,
   "metadata": {},
   "outputs": [
    {
     "name": "stdout",
     "output_type": "stream",
     "text": [
      "The start is 1 right now.  Items:\n",
      "1\n",
      "3\n",
      "9\n",
      "27\n",
      "81\n",
      "The start is 5 right now.  Items:\n",
      "5\n",
      "15\n",
      "45\n",
      "135\n",
      "405\n",
      "The start is 0.1 right now.  Items:\n",
      "0.1\n",
      "0.30000000000000004\n",
      "0.9\n",
      "2.7\n",
      "8.1\n",
      "The next line should produce an exception.\n"
     ]
    },
    {
     "ename": "IndexError",
     "evalue": "FGS only supports item assignment at index 0",
     "output_type": "error",
     "traceback": [
      "\u001b[0;31m---------------------------------------------------------------------------\u001b[0m",
      "\u001b[0;31mIndexError\u001b[0m                                Traceback (most recent call last)",
      "\u001b[0;32m<ipython-input-8-f38dc9d1b10c>\u001b[0m in \u001b[0;36m<module>\u001b[0;34m\u001b[0m\n\u001b[1;32m     22\u001b[0m \u001b[0;34m\u001b[0m\u001b[0m\n\u001b[1;32m     23\u001b[0m \u001b[0mprint\u001b[0m\u001b[0;34m(\u001b[0m\u001b[0;34m\"The next line should produce an exception.\"\u001b[0m\u001b[0;34m)\u001b[0m\u001b[0;34m\u001b[0m\u001b[0;34m\u001b[0m\u001b[0m\n\u001b[0;32m---> 24\u001b[0;31m \u001b[0mT\u001b[0m\u001b[0;34m[\u001b[0m\u001b[0;36m1\u001b[0m\u001b[0;34m]\u001b[0m \u001b[0;34m=\u001b[0m \u001b[0;36m30\u001b[0m\u001b[0;34m\u001b[0m\u001b[0;34m\u001b[0m\u001b[0m\n\u001b[0m",
      "\u001b[0;32m~/teaching/mcs260/public/samplecode/oop/fgs.py\u001b[0m in \u001b[0;36m__setitem__\u001b[0;34m(self, idx, val)\u001b[0m\n\u001b[1;32m     35\u001b[0m             \u001b[0mself\u001b[0m\u001b[0;34m.\u001b[0m\u001b[0mstart\u001b[0m \u001b[0;34m=\u001b[0m \u001b[0mval\u001b[0m\u001b[0;34m\u001b[0m\u001b[0;34m\u001b[0m\u001b[0m\n\u001b[1;32m     36\u001b[0m         \u001b[0;32melse\u001b[0m\u001b[0;34m:\u001b[0m\u001b[0;34m\u001b[0m\u001b[0;34m\u001b[0m\u001b[0m\n\u001b[0;32m---> 37\u001b[0;31m             \u001b[0;32mraise\u001b[0m \u001b[0mIndexError\u001b[0m\u001b[0;34m(\u001b[0m\u001b[0;34m\"FGS only supports item assignment at index 0\"\u001b[0m\u001b[0;34m)\u001b[0m\u001b[0;34m\u001b[0m\u001b[0;34m\u001b[0m\u001b[0m\n\u001b[0m",
      "\u001b[0;31mIndexError\u001b[0m: FGS only supports item assignment at index 0"
     ]
    }
   ],
   "source": [
    "import fgs\n",
    "\n",
    "T = fgs.FGS(start=1,ratio=3,length=5)\n",
    "print(\"The start is {} right now.  Items:\".format(T.start))\n",
    "for x in T:\n",
    "    print(x)\n",
    "\n",
    "# change start value to 5\n",
    "T[0] = 5\n",
    "\n",
    "print(\"The start is {} right now.  Items:\".format(T.start))\n",
    "for x in T:\n",
    "    print(x)\n",
    "\n",
    "# change start value to 0.1\n",
    "T[0] = 0.1\n",
    "\n",
    "\n",
    "print(\"The start is {} right now.  Items:\".format(T.start))\n",
    "for x in T:\n",
    "    print(x)\n",
    "\n",
    "print(\"The next line should produce an exception.\")\n",
    "T[1] = 30"
   ]
  },
  {
   "cell_type": "markdown",
   "metadata": {},
   "source": [
    "### Solution"
   ]
  },
  {
   "cell_type": "code",
   "execution_count": 1,
   "metadata": {},
   "outputs": [],
   "source": [
    "\"Lazy finite geometric sequence example (with item assignment)\"\n",
    "# MCS 260 Fall 2021 Worksheet 11\n",
    "\n",
    "class FGS:\n",
    "    \"Lazy finite geometric sequence\"\n",
    "    def __init__(self,start,ratio,length):\n",
    "        \"\"\"\n",
    "        Initialize a finite geometric sequence with first value\n",
    "        `start`, ratio of successive terms `ratio`, and total\n",
    "        number of terms `length`.\n",
    "        \"\"\"\n",
    "        self.start = start\n",
    "        self.ratio = ratio\n",
    "        self.length = length\n",
    "    def __len__(self):\n",
    "        \"number of terms\"\n",
    "        return self.length\n",
    "    def __getitem__(self,idx):\n",
    "        \"\"\"\n",
    "        compute and return the element of the geometric sequence\n",
    "        at index `idx`\n",
    "        \"\"\"\n",
    "        if idx < 0 or idx >= self.length:\n",
    "            # The requested index is not valid\n",
    "            raise IndexError(\"this FGS has {} terms and so index {} is invalid\".format(\n",
    "                self.length,\n",
    "                idx\n",
    "            ))\n",
    "        return self.start * (self.ratio ** idx)\n",
    "\n",
    "    def __setitem__(self,idx,val):\n",
    "        if idx == 0:\n",
    "            self.start = val\n",
    "        else:\n",
    "            raise IndexError(\"FGS only supports item assignment at index 0\")\n"
   ]
  },
  {
   "cell_type": "markdown",
   "metadata": {},
   "source": [
    "## 2. Negative index support in `FGS`\n",
    "\n",
    "However, the `FGS` class we wrote in lecture 28 doesn't allow indexing with negative numbers, e.g. where `[-1]` means the last element, etc..\n",
    "\n",
    "Modify `FiniteGeometricSeries` so that it does support negative indices in the same way that `list` does.  However, negative indices that are too large in magnitude to represent an item in the series should still raise an exception.\n",
    "\n",
    "Below is a transcript of a test of the updated module in the REPL.  Your class should behave in the same way after the modifications."
   ]
  },
  {
   "cell_type": "markdown",
   "metadata": {},
   "source": [
    "```\n",
    ">>> import fgs\n",
    ">>> S = fgs.FGS(start=2,ratio=3,length=5)\n",
    ">>> S[4]\n",
    "162\n",
    ">>> S[-1]\n",
    "162\n",
    ">>> S[-2]\n",
    "54\n",
    ">>> S[-500]\n",
    "Traceback (most recent call last):\n",
    "  File \"<stdin>\", line 1, in <module>\n",
    "  File \"/home/ddumas/Dropbox/teaching/mcs260/samplecode/gs/gs_practice.py\", line 23, in __getitem__\n",
    "    raise IndexError(\"index out of range for series with {} terms\".format(\n",
    "IndexError: index out of range for series with 5 terms\n",
    "```"
   ]
  },
  {
   "cell_type": "code",
   "execution_count": 7,
   "metadata": {},
   "outputs": [],
   "source": [
    "\"Lazy finite geometric sequence example (with item assignment and negative indices)\"\n",
    "# MCS 260 Fall 2021 Worksheet 11\n",
    "\n",
    "class FGS:\n",
    "    \"Lazy finite geometric sequence\"\n",
    "    def __init__(self,start,ratio,length):\n",
    "        \"\"\"\n",
    "        Initialize a finite geometric sequence with first value\n",
    "        `start`, ratio of successive terms `ratio`, and total\n",
    "        number of terms `length`.\n",
    "        \"\"\"\n",
    "        self.start = start\n",
    "        self.ratio = ratio\n",
    "        self.length = length\n",
    "    def __len__(self):\n",
    "        \"number of terms\"\n",
    "        return self.length\n",
    "    def __getitem__(self,idx):\n",
    "        \"\"\"\n",
    "        compute and return the element of the geometric sequence\n",
    "        at index `idx`\n",
    "        \"\"\"\n",
    "        # If idx is negative, attempt to convert it to the corresponding positive value\n",
    "        # adding self.length means that -1 becomes self.length-1, which is the last element\n",
    "        # similarly, -2 becomes self-length-2, the second-to-last, etc., which is the\n",
    "        # usual negative index behavior.\n",
    "        if idx < 0:\n",
    "            idx += self.length\n",
    "        \n",
    "        # Now, if idx is still negative, it means that it was too small (i.e. too negative)\n",
    "        # for negative indexing to be valid.\n",
    "        if idx < 0 or idx >= self.length:\n",
    "            # The requested index is not valid\n",
    "            raise IndexError(\"Invalid index requested for FGS with {} terms\".format(\n",
    "                self.length\n",
    "            ))\n",
    "        return self.start * (self.ratio ** idx)\n",
    "    def __setitem__(self,idx,val):\n",
    "        if idx == 0:\n",
    "            self.start = val\n",
    "        else:\n",
    "            raise IndexError(\"FGS only supports item assignment at index 0\")"
   ]
  },
  {
   "cell_type": "code",
   "execution_count": 8,
   "metadata": {},
   "outputs": [
    {
     "ename": "IndexError",
     "evalue": "Invalid index requested for FGS with 5 terms",
     "output_type": "error",
     "traceback": [
      "\u001b[0;31m---------------------------------------------------------------------------\u001b[0m",
      "\u001b[0;31mIndexError\u001b[0m                                Traceback (most recent call last)",
      "\u001b[0;32m<ipython-input-8-887f13ca8c7f>\u001b[0m in \u001b[0;36m<module>\u001b[0;34m\u001b[0m\n\u001b[1;32m      3\u001b[0m \u001b[0mG\u001b[0m\u001b[0;34m[\u001b[0m\u001b[0;34m-\u001b[0m\u001b[0;36m4\u001b[0m\u001b[0;34m]\u001b[0m\u001b[0;34m\u001b[0m\u001b[0;34m\u001b[0m\u001b[0m\n\u001b[1;32m      4\u001b[0m \u001b[0mG\u001b[0m\u001b[0;34m[\u001b[0m\u001b[0;34m-\u001b[0m\u001b[0;36m5\u001b[0m\u001b[0;34m]\u001b[0m\u001b[0;34m\u001b[0m\u001b[0;34m\u001b[0m\u001b[0m\n\u001b[0;32m----> 5\u001b[0;31m \u001b[0mG\u001b[0m\u001b[0;34m[\u001b[0m\u001b[0;34m-\u001b[0m\u001b[0;36m6\u001b[0m\u001b[0;34m]\u001b[0m\u001b[0;34m\u001b[0m\u001b[0;34m\u001b[0m\u001b[0m\n\u001b[0m",
      "\u001b[0;32m<ipython-input-7-5022aed21c89>\u001b[0m in \u001b[0;36m__getitem__\u001b[0;34m(self, idx)\u001b[0m\n\u001b[1;32m     32\u001b[0m         \u001b[0;32mif\u001b[0m \u001b[0midx\u001b[0m \u001b[0;34m<\u001b[0m \u001b[0;36m0\u001b[0m \u001b[0;32mor\u001b[0m \u001b[0midx\u001b[0m \u001b[0;34m>=\u001b[0m \u001b[0mself\u001b[0m\u001b[0;34m.\u001b[0m\u001b[0mlength\u001b[0m\u001b[0;34m:\u001b[0m\u001b[0;34m\u001b[0m\u001b[0;34m\u001b[0m\u001b[0m\n\u001b[1;32m     33\u001b[0m             \u001b[0;31m# The requested index is not valid\u001b[0m\u001b[0;34m\u001b[0m\u001b[0;34m\u001b[0m\u001b[0;34m\u001b[0m\u001b[0m\n\u001b[0;32m---> 34\u001b[0;31m             raise IndexError(\"Invalid index requested for FGS with {} terms\".format(\n\u001b[0m\u001b[1;32m     35\u001b[0m                 \u001b[0mself\u001b[0m\u001b[0;34m.\u001b[0m\u001b[0mlength\u001b[0m\u001b[0;34m\u001b[0m\u001b[0;34m\u001b[0m\u001b[0m\n\u001b[1;32m     36\u001b[0m             ))\n",
      "\u001b[0;31mIndexError\u001b[0m: Invalid index requested for FGS with 5 terms"
     ]
    }
   ],
   "source": [
    "G = FGS(2,3,5)\n",
    "G[-2]\n",
    "G[-4]\n",
    "G[-5]\n",
    "G[-6]"
   ]
  },
  {
   "cell_type": "markdown",
   "metadata": {},
   "source": [
    "Note that the problem didn't specify whether we should also support negative indexing in `__setitem__` or not.  This solution doesn't, which is sensible when only index `0` can be assigned a new value."
   ]
  },
  {
   "cell_type": "markdown",
   "metadata": {},
   "source": [
    "## 3. Recursive palindrome detector\n",
    "\n",
    "Recall that a palindrome is a word (or string) that is unchanged after it is reversed.  For example, \"racecar\" or \"noon\", and \"radar\" are all palindromes.\n",
    "\n",
    "Here is a description of a palindrome that suggests a recursive way of checking whether a string is a palindrome or not:\n",
    "* Any string with 0 or 1 characters is a palindrome\n",
    "* A string with at least 2 characters is a palindrome if both of these conditions are met:\n",
    "    * The first and last characters are equal\n",
    "    * After the first and last characters are removed, what remains is a palindrome\n",
    "    \n",
    "Use this description to write a function `is_palindrome_recursive(s)` that returns `True` if string `s` is a palindrome, and `False` otherwise.\n",
    "\n",
    "(Note: It's not hard to use built-in features of Python to check for palindromes, but this problem is specifically testing whether you can do it recursively using the strategy outlined above.)"
   ]
  },
  {
   "cell_type": "code",
   "execution_count": null,
   "metadata": {},
   "outputs": [],
   "source": [
    "def is_palindrome_recursive(s):\n",
    "    \"\"\"Determines whether a string is a palindrome recursively\"\"\"\n",
    "    # Base case: all strings of length 0 or 1 are palindromes\n",
    "    if len(s) == 0:\n",
    "        return True\n",
    "    if len(s) == 1:\n",
    "        return True\n",
    "    # otherwise, check that the first and last are equal, then\n",
    "    # recurse on the 'middle' string that's left\n",
    "    return s[0]==s[-1] and is_palindrome_recursive(s[1:-1])"
   ]
  },
  {
   "cell_type": "markdown",
   "metadata": {},
   "source": [
    "## 4. Fibonacci numbers and a variation thereof\n",
    "\n",
    "The Fibonacci numbers are the sequence of positive integers $F_i$ defined as follows:\n",
    "\n",
    "* $F_0 = 0$ and $F_1 = 1$\n",
    "* For $i > 1$ we have $F_i = F_{i-1} + F_{i-2}$.\n",
    "\n",
    "Since this definition of $F_i$ involves other Fibonacci numbers, it naturally lends itself to recursion.  Write a function `fib(n)` that calculates $F_n$ using recursion.\n",
    "\n",
    "Test your function to ensure that it produces the following list:\n",
    "\n",
    "```\n",
    "n      0  1  2  3  4  5  6  7   8   9   10\n",
    "fib(n) 0  1  1  2  3  5  8  13  21  34  55\n",
    "```\n",
    "\n",
    "When you've finished that, make another function `gib(n)` that generates the sequence $G_n$ defined by this rule:\n",
    "* $G_0 = 1$ and $G_1 = 1$\n",
    "* For $i>1$ we have $G_i = 1 + G_{i-1} + G_{i-2}$\n",
    "\n",
    "Test it and make sure it produces the following list:\n",
    "```\n",
    "n      0  1  2  3  4  5  6  7   8   9   10\n",
    "gib(n) 1  1  3  5  9 15 25 41  67 109  177\n",
    "```"
   ]
  },
  {
   "cell_type": "code",
   "execution_count": 11,
   "metadata": {},
   "outputs": [],
   "source": [
    "def fib(n):\n",
    "    \"\"\"Calculates the nth fibonacci number recursively\"\"\"\n",
    "    # Base case: fib(0)=0 and fib(1)=1\n",
    "    if n == 0:\n",
    "        return 0\n",
    "    if n == 1:\n",
    "        return 1\n",
    "    \n",
    "    # If n > 1, recurse on n-1 and n-2\n",
    "    return fib(n-1) + fib(n-2)\n",
    "\n",
    "def gib(n):\n",
    "    \"\"\"Calculates the nth number in sequence G_n satisfying\n",
    "    G_0 = G_1 = 1\n",
    "    G_n = 1 + G_{n-1} + G_{n-2}\"\"\"\n",
    "    if n <= 1:\n",
    "        return 1\n",
    "    \n",
    "    # Otherwise, recurse on n-1 and n-2\n",
    "    return 1 + gib(n-1) + gib(n-2)"
   ]
  },
  {
   "cell_type": "code",
   "execution_count": 15,
   "metadata": {},
   "outputs": [
    {
     "name": "stdout",
     "output_type": "stream",
     "text": [
      "fib:\n",
      "0 0\n",
      "1 1\n",
      "2 1\n",
      "3 2\n",
      "4 3\n",
      "5 5\n",
      "6 8\n",
      "7 13\n",
      "8 21\n",
      "9 34\n",
      "10 55\n",
      "\n",
      "gib\n",
      "0 1\n",
      "1 1\n",
      "2 3\n",
      "3 5\n",
      "4 9\n",
      "5 15\n",
      "6 25\n",
      "7 41\n",
      "8 67\n",
      "9 109\n",
      "10 177\n"
     ]
    }
   ],
   "source": [
    "print(\"fib:\")\n",
    "for n in range(11):\n",
    "    print(n,fib(n))\n",
    "    \n",
    "print(\"\\ngib\")\n",
    "for n in range(11):\n",
    "    print(n,gib(n))"
   ]
  },
  {
   "cell_type": "markdown",
   "metadata": {},
   "source": [
    "## 5. Challenge: Fibonacci call count\n",
    "\n",
    "This problem builds on the previous one, and is a bit more challenging.\n",
    "\n",
    "When you call `fib(n)`, how many times does the `fib` function get called in total?  It calls itself, so you should expect the answer will often be greater than $1$.\n",
    "\n",
    "To start exploring this, you might first add a `print()` statement in the body of `fib(n)` so that you can see how many calls are made.  After trying this out a few times, can you see a pattern?  Can you analyze it theoretically?\n",
    "\n",
    "To collect data systematically, you might want to instead have a way to get the count of calls automatically.  Here's one way to do that:  Outside the function, make a list `L` that is initially empty.  Inside the function `fib`, make the first line append a value to `L`.  Then, after calling `fib`, the length of `L` is the number of calls to `fib`.  Of course, you'll need to reset the list `L` to be empty before calling `fib` again if you want to count the number of calls for another starting value of `n`.\n",
    "\n",
    "The final answer to the question (how many calls are made, as a function of `n`) should be a formula involving `n`."
   ]
  },
  {
   "cell_type": "markdown",
   "metadata": {},
   "source": [
    "### Solution"
   ]
  },
  {
   "cell_type": "code",
   "execution_count": 16,
   "metadata": {},
   "outputs": [
    {
     "name": "stdout",
     "output_type": "stream",
     "text": [
      "To compute fib(0), total of 1 calls to the function were made\n",
      "To compute fib(1), total of 1 calls to the function were made\n",
      "To compute fib(2), total of 3 calls to the function were made\n",
      "To compute fib(3), total of 5 calls to the function were made\n",
      "To compute fib(4), total of 9 calls to the function were made\n",
      "To compute fib(5), total of 15 calls to the function were made\n",
      "To compute fib(6), total of 25 calls to the function were made\n",
      "To compute fib(7), total of 41 calls to the function were made\n",
      "To compute fib(8), total of 67 calls to the function were made\n",
      "To compute fib(9), total of 109 calls to the function were made\n",
      "To compute fib(10), total of 177 calls to the function were made\n"
     ]
    }
   ],
   "source": [
    "call_record = [] # We'll add a None to this every time fib_record is called\n",
    "\n",
    "def fib_record(n):\n",
    "    \"\"\"Calculates the nth fibonacci number recursively\"\"\"\n",
    "    # Base case: fib(0)=0 and fib(1)=1\n",
    "    call_record.append(None)\n",
    "    if n == 0:\n",
    "        return 0\n",
    "    if n == 1:\n",
    "        return 1\n",
    "    \n",
    "    # If n > 1, recurse on n-1 and n-2\n",
    "    return fib_record(n-1) + fib_record(n-2)\n",
    "\n",
    "for n in range(11):\n",
    "    fib_record(n)\n",
    "    print(\"To compute fib({}), total of {} calls to the function were made\".format(\n",
    "        n,\n",
    "        len(call_record)\n",
    "    ))\n",
    "    call_record = []"
   ]
  },
  {
   "cell_type": "markdown",
   "metadata": {},
   "source": [
    "**Comments on the METHOD above:** It's possible to add an element to a global list variable from within a function, and have that change persist outside the function.  This is because method calls (like `listvar.append(...)`) don't change a global name to a local one.\n",
    "\n",
    "In contrast, an approach like this will not work:\n",
    "```\n",
    "call_count = 0\n",
    "\n",
    "def fib_record(n):\n",
    "    call_count += 1\n",
    "    # rest of function here\n",
    "```\n",
    "because the assignment of `call_count` inside the function creates a new local variable (leaving the global variable of the same name unchanged)."
   ]
  },
  {
   "cell_type": "markdown",
   "metadata": {},
   "source": [
    "**Comments on the NUMBERS above:** You might notice this agrees with the sequence $G_n$ that is computed by the function `gib(n)`.  However, we only checked 11 terms.  With a bit more work, we can verify this for all $n$.\n",
    "\n",
    "Let's use $CC_n$ to indicate the *call count* when `fib(n)` is called, i.e. the total number of `fib` function calls that occur.  We think that $CC_n = G_n$.  (We actually renamed `fib` to `fib_record` when we added the call count recording feature, but we keep the old name in this paragraph for brevity.)\n",
    "\n",
    "**Step 1:** $CC_n = G_n$ for $n=0,1$.\n",
    "\n",
    "In both of these cases, the function `fib` returns a value immediately (without calling itself).  So we have exactly `1` function call in each case, i.e. $CC_0 = CC_1 = 1$.  Similarly, $G_0 = G_1 = 1$ by definition.\n",
    "\n",
    "**Step 2:** $CC_n = 1 + CC_{n-1} + CC_{n-2}$ for $n>1$.\n",
    "\n",
    "When `fib` is called with a value of `n` greater than 1, it makes calls to `fib(n-1)` and `fib(n-2)`.  Thus we have the initial call to `fib` (1) plus all the calls occurring as a result of `fib(n-1)` and `fib(n-2)` ($CC_{n-1}$ and $CC_{n-2}$, respectively).  The total is $1 + CC_{n-1} + CC_{n-2}$.  As this it the number of calls happening as a result of `fib(n)`, this is also equal to $CC_n$.  Thus $CC_n = 1 + CC_{n-1} + CC_{n-2}$.\n",
    "\n",
    "**Step 3:** Induction.\n",
    "\n",
    "Both $CC_n$ and $G_n$ are defined by formulas that specify the first two terms, and which specify how to compute a given term using the two before it.  It then follows by induction that $CC_n$ and $G_n$ agree for all $n$ (with $n=1$ as the base case and the definitions of $GG_n$ and $CC_n$ providing the inductive step).\n",
    "\n",
    "The analysis given above is more theoretical and challenging than most we give in MCS 260, and wouldn't be appropriate for homework."
   ]
  },
  {
   "cell_type": "markdown",
   "metadata": {},
   "source": [
    "## Revision history\n",
    "\n",
    "* 2021-11-04 Initial release"
   ]
  }
 ],
 "metadata": {
  "kernelspec": {
   "display_name": "Python 3",
   "language": "python",
   "name": "python3"
  },
  "language_info": {
   "codemirror_mode": {
    "name": "ipython",
    "version": 3
   },
   "file_extension": ".py",
   "mimetype": "text/x-python",
   "name": "python",
   "nbconvert_exporter": "python",
   "pygments_lexer": "ipython3",
   "version": "3.8.10"
  }
 },
 "nbformat": 4,
 "nbformat_minor": 4
}
