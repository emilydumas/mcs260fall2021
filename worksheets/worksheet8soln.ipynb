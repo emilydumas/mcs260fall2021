{
 "cells": [
  {
   "cell_type": "markdown",
   "metadata": {},
   "source": [
    "# MCS 260 Fall 2021 Worksheet 8 Solutions\n",
    "\n",
    "* Course instructor: Emily Dumas"
   ]
  },
  {
   "cell_type": "markdown",
   "metadata": {},
   "source": [
    "## Topics\n",
    "\n",
    "This worksheet focuses on **exceptions**, the **os module**, and the function- and assignment-related concepts from Lecture 20 (multiple return values, tuples, tuple assignment, variadic functions, iterable unpacking).\n",
    "\n",
    "## Problem 1 treated differently\n",
    "\n",
    "Following the new policy, Problem 1 is different in that:\n",
    "* **Tuesday lab students:**  Problem 1 will be presented and solved as a group, in a discussion led by your TA.\n",
    "* **Thursday lab students:** Please attempt problem 1 before coming to lab.  Bring a solution, or bring questions.  The problem will be discussed as a group.\n",
    "\n",
    "## Resources\n",
    "\n",
    "The main course materials to refer to for this worksheet are:\n",
    "\n",
    "* [Sample programs](https://github.com/emilydumas/mcs260fall2021/tree/main/samplecode)\n",
    "* [Lecture 18 - Exceptions](https://www.dumas.io/teaching/2021/fall/mcs260/slides/lecture18.html)\n",
    "* [Lecture 19 - The os module](https://www.dumas.io/teaching/2021/fall/mcs260/slides/lecture19.html)\n",
    "* [Lecture 20 - More on functions and assignment](https://www.dumas.io/teaching/2021/fall/mcs260/slides/lecture20.html)\n",
    "* [Downey's book](https://greenteapress.com/thinkpython2/html/)\n",
    "\n",
    "(Lecture videos are not linked on worksheets, but are also useful to review while working on worksheets.  Video links can be found in the course [course Blackboard site](https://uic.blackboard.com/ultra/courses/_202683_1/cl/outline).)\n"
   ]
  },
  {
   "cell_type": "markdown",
   "metadata": {},
   "source": [
    "## 1. Numbered list of items, boxed or not\n",
    "\n",
    "If you want to pass multiple items to a function, there are essentially two ways to do it:\n",
    "1. Pass them all in one \"box\", i.e. as a single list or iterable (like `f( [1,2,3] )`)\n",
    "1. Pass each item in its own argument (like `f(1, 2, 3)`)\n",
    "\n",
    "Imagine we want to make a function `numberedprint` that prints a numbered list of items.  For example, if the items are `a`, `b`, and `c` it might print:\n",
    "```\n",
    "#1: a\n",
    "#2: b\n",
    "#3: c\n",
    "```\n",
    "Suppose we want to make this function flexible so that it accepts the items in **either** of the two ways described above (boxed or not).  In other words, you should be able to call it as\n",
    "```\n",
    "numberedprint(\"a\",\"b\",\"c\")\n",
    "```\n",
    "OR\n",
    "```\n",
    "numberedprint( [\"a\",\"b\",\"c\"] )\n",
    "```\n",
    "and have it produce the same output.\n",
    "\n",
    "More precisely, the function should do the following:\n",
    "* If more than one argument is given, the function should assume that each argument is one of the items\n",
    "* If a single argument is given, the function should assume that this argument is an iterable whose elements are the items.\n",
    "    * However, if an attempt to iterate over the only argument doesn't work, the function should go back to assuming the argument is the (one and only) item.\n",
    "    \n",
    "**Hint:** Check what kind of exception is raised when you iterate over a non-iterable, like `for x in 7:`"
   ]
  },
  {
   "cell_type": "markdown",
   "metadata": {},
   "source": [
    "### Solution"
   ]
  },
  {
   "cell_type": "code",
   "execution_count": 11,
   "metadata": {},
   "outputs": [],
   "source": [
    "def numberedprint(*args):\n",
    "    \"\"\"\n",
    "    Print a numbered list of items, accepting the items as\n",
    "    separate arguments or as items in a single iterable.\n",
    "    \"\"\"\n",
    "\n",
    "    if len(args)==0:\n",
    "        # Nothing to do\n",
    "        return\n",
    "    \n",
    "    # Next we'll create an iterable L that contains all the items\n",
    "    if len(args) > 1:\n",
    "        # multiple arguments = each arg is an item\n",
    "        # Just use args itself as the iterable\n",
    "        L = args\n",
    "    else:   \n",
    "        onlyarg = args[0]\n",
    "        L = []\n",
    "        try:\n",
    "            for a in onlyarg:\n",
    "                L.append(a)\n",
    "        except TypeError:\n",
    "            # Oops, the only argument is not actually iterable\n",
    "            # Interpret it as the only item instead\n",
    "            L.append(onlyarg)\n",
    "    \n",
    "    # Display the results\n",
    "    for i,a in enumerate(L):\n",
    "        print(\"#{}: {}\".format(i+1,a))\n"
   ]
  },
  {
   "cell_type": "markdown",
   "metadata": {},
   "source": [
    "Checking the solution on the test cases from the worksheet:"
   ]
  },
  {
   "cell_type": "code",
   "execution_count": 12,
   "metadata": {},
   "outputs": [
    {
     "name": "stdout",
     "output_type": "stream",
     "text": [
      "#1: a\n",
      "#2: b\n",
      "#3: c\n"
     ]
    }
   ],
   "source": [
    "numberedprint(\"a\",\"b\",\"c\")  # 3 arguments, so each is an item"
   ]
  },
  {
   "cell_type": "code",
   "execution_count": 13,
   "metadata": {},
   "outputs": [
    {
     "name": "stdout",
     "output_type": "stream",
     "text": [
      "#1: True\n",
      "#2: False\n"
     ]
    }
   ],
   "source": [
    "numberedprint(True,False) # 2 arguments, so each is an item"
   ]
  },
  {
   "cell_type": "code",
   "execution_count": 14,
   "metadata": {},
   "outputs": [
    {
     "name": "stdout",
     "output_type": "stream",
     "text": [
      "#1: a\n",
      "#2: b\n",
      "#3: c\n"
     ]
    }
   ],
   "source": [
    "numberedprint( [\"a\",\"b\",\"c\"] ) # one argument, seen as iterable of items"
   ]
  },
  {
   "cell_type": "code",
   "execution_count": 15,
   "metadata": {},
   "outputs": [
    {
     "name": "stdout",
     "output_type": "stream",
     "text": [
      "#1: 7\n"
     ]
    }
   ],
   "source": [
    "numberedprint(7) # one argument, but it isn't iterable, so it's considered an item"
   ]
  },
  {
   "cell_type": "code",
   "execution_count": 16,
   "metadata": {},
   "outputs": [],
   "source": [
    "numberedprint() # no arguments = no output"
   ]
  },
  {
   "cell_type": "code",
   "execution_count": 17,
   "metadata": {},
   "outputs": [
    {
     "name": "stdout",
     "output_type": "stream",
     "text": [
      "#1: k\n",
      "#2: a\n",
      "#3: n\n",
      "#4: g\n",
      "#5: a\n",
      "#6: r\n",
      "#7: o\n",
      "#8: o\n"
     ]
    }
   ],
   "source": [
    "numberedprint(\"kangaroo\") # string is iterable, so this is viewed as an iterable of items (characters)"
   ]
  },
  {
   "cell_type": "code",
   "execution_count": 18,
   "metadata": {},
   "outputs": [
    {
     "name": "stdout",
     "output_type": "stream",
     "text": [
      "#1: kangaroo\n",
      "#2: koala\n"
     ]
    }
   ],
   "source": [
    "numberedprint(\"kangaroo\",\"koala\") # 2 arguments, so each is an item"
   ]
  },
  {
   "cell_type": "markdown",
   "metadata": {},
   "source": [
    "Finally, after you have the function working: How can you call it so that it produces this output?\n",
    "```\n",
    "#1: kangaroo\n",
    "```"
   ]
  },
  {
   "cell_type": "markdown",
   "metadata": {},
   "source": [
    "### Solution\n",
    "\n",
    "We pass a list that has the string `\"kangaroo\"` as its only element."
   ]
  },
  {
   "cell_type": "code",
   "execution_count": 20,
   "metadata": {},
   "outputs": [
    {
     "name": "stdout",
     "output_type": "stream",
     "text": [
      "#1: kangaroo\n"
     ]
    }
   ],
   "source": [
    "numberedprint( [\"kangaroo\"] )"
   ]
  },
  {
   "cell_type": "markdown",
   "metadata": {},
   "source": [
    "## 2. Templates for a semester of homework\n",
    "\n",
    "Suppose you are taking a class called NDT 371 that gives a homework assignment each week, each of which asks you to write a Python script.  For some reason, the problems are always numbered 8 and 9.\n",
    "\n",
    "Being an enterprising student who is familiar with Python's `os` module, you decide to make a quick Python script that will generate template Python files for each problem on each homework.  That way, when the homework is assigned, you just open the two files and get started.\n",
    "\n",
    "Create that script.  Specifically, it should do the following:\n",
    "* Check to see if there is a subdirectory called `ndt371` in the current directory.\n",
    "    * If it does not exist, create a subdirectory with that name.\n",
    "* For each homework number N (between 1 and 15) and each problem number P (between 8 and 9), see if a file called `hwkNprobP.py` exists **in the subdirectory** `ndt371`.  Here, the N and P should be replaced with the actual numbers, so the filenames will be like `hwk7prob8.py` and so on.\n",
    "    * If no file with that name exists, create one (opening it for writing) and write the following text before closing it.\n",
    "```\n",
    "\"\"\"DOCSTRING GOES HERE\"\"\"\n",
    "# NDT371 Fall 2023\n",
    "# Firstname Lastname\n",
    "```\n",
    "\n",
    "    * But if a file with that name already exists, the script should leave it alone and print a warning to the terminal, like\n",
    "```\n",
    "Not creating ndt371/hwk3prob8.py: A file with that name already exists\n",
    "```\n",
    "\n",
    "\n",
    "Notice that this function will behave differently the first time it is run (when it will make all the templates).  If you immediately run it again, it should simply warn you that all the templates exist, and not do anything to the files.\n",
    "\n",
    "To fully test the program, you should run it several times, including under these conditions:\n",
    "* Make sure no `ndt371` subdirectory exists, and confirm it makes one with all the template Python files\n",
    "* Then, delete everything in `ndt371` but leave the directory itself, and confirm it still creates the files\n",
    "* Then, delete just a few of the files in the directory, and confirm it recreates those while leaving the existing ones untouched\n",
    "\n",
    "**Be careful opening files for writing.** This problem specifies behavior where you check to make sure a file does not exist before you open it for writing, to avoid data loss.  This problem was purposely formulated to use filenames that probably won't be the same as programs you make for this class, just in case you make a mistake and write a program that clears some files contents.\n",
    "\n"
   ]
  },
  {
   "cell_type": "markdown",
   "metadata": {},
   "source": [
    "### Solution"
   ]
  },
  {
   "cell_type": "code",
   "execution_count": null,
   "metadata": {},
   "outputs": [],
   "source": [
    "\"\"\"\n",
    "Create templates for a semester of homework\n",
    "\"\"\"\n",
    "# MCS 260 Fall 2021 Worksheet 8 Problem 2\n",
    "\n",
    "import os\n",
    "\n",
    "hwkdir = \"ndt371\"\n",
    "template = \"\"\"\\\"\\\"\\\"DOCSTRING GOES HERE\\\"\\\"\\\"\n",
    "# NDT371 Fall 2023\n",
    "# Emily Dumas\n",
    "\"\"\"\n",
    "\n",
    "if os.path.exists(hwkdir):\n",
    "    if not os.path.isdir(hwkdir):\n",
    "        print(\"{} exists but is not a directory.  Exiting.\".format(hwkdir))\n",
    "        exit()\n",
    "else:\n",
    "    os.mkdir(hwkdir)\n",
    "\n",
    "for N in range(1,16):\n",
    "    for P in range(8,10):\n",
    "        fn = os.path.join(hwkdir,\"hwk{}prob{}.py\".format(N,P))\n",
    "        if os.path.exists(fn):\n",
    "            print(\"Not creating {}: A file with that name already exists\".format(fn))\n",
    "        else:\n",
    "            fobj = open(fn,\"w\",encoding=\"UTF-8\")\n",
    "            fobj.write(template)\n",
    "            fobj.close()"
   ]
  },
  {
   "cell_type": "markdown",
   "metadata": {},
   "source": [
    "## 3. Robust geometric progression tool\n",
    "\n",
    "Write a script that takes 3 command line arguments, a start value `s` (a float), a ratio `r` (a float), and a number of terms `N` (a nonnegative integer).  It should then print the first `N` terms of a geometric sequence where the first term is `s` and the ratio of successive terms is `r`, e.g.\n",
    "\n",
    "```\n",
    "python geomprog.py 2 3 5\n",
    "2.0\n",
    "6.0\n",
    "18.0\n",
    "54.0\n",
    "162.0\n",
    "```\n",
    "In this example, the sequence starts at 2, has a ratio of 3, and 5 terms are shown.\n",
    "\n",
    "However---and this is the key goal of this problem---you should make this program robust against invalid input of all kinds.  For example, it should handle all of the following conditions by printing a useful message and exiting normally:\n",
    "* Too many command line arguments are given\n",
    "* Too few command line arguments are given\n",
    "* The number of terms is negative\n",
    "* One of the arguments that is supposed to be a float cannot be recognized as such by `float()`\n",
    "* One of the arguments that is supposed to be an int cannot be recognized as such by `int()`\n",
    "* Before completing the requested calculation, the numbers get too large to be represented as Python floats (e.g. `s=1`, `r=123456789`, `N=50`, and notice that the program halts with an error)\n",
    "\n",
    "Ideally, the result should be a Python script that, regardless of the command line arguments it receives, never exits with an uncaught exception."
   ]
  },
  {
   "cell_type": "markdown",
   "metadata": {},
   "source": [
    "### Solution"
   ]
  },
  {
   "cell_type": "code",
   "execution_count": null,
   "metadata": {},
   "outputs": [],
   "source": [
    "\"\"\"\n",
    "Print terms in finite geometric progression\n",
    "\"\"\"\n",
    "# MCS 260 Fall 2021 Worksheet 8 Problem 3\n",
    "\n",
    "import sys\n",
    "\n",
    "def usage():\n",
    "    \"\"\"\n",
    "    print a usage message and exit\n",
    "    \"\"\"\n",
    "    print(\"Usage: {} start ratio num_terms\".format(sys.argv[0]))\n",
    "    print(\"start and ratio are floats, num_terms must be a nonnegative integer.\")\n",
    "    exit(1)\n",
    "\n",
    "try:\n",
    "    # If number of arguments (after script name) is not 3\n",
    "    # then this will generate ValueError\n",
    "    s_str, r_str, N_str = sys.argv[1:]\n",
    "except ValueError:\n",
    "    print(\"Wrong number of arguments given.\\n\")\n",
    "    usage()\n",
    "\n",
    "try:\n",
    "    s = float(s_str)\n",
    "    r = float(r_str)\n",
    "    N = int(N_str)\n",
    "except ValueError:\n",
    "    print(\"Invalid argument type(s).\\n\")\n",
    "    usage()\n",
    "\n",
    "if N<0:\n",
    "    print(\"num_terms must be nonnegative.\\n\")\n",
    "    usage()\n",
    "\n",
    "try:\n",
    "    for i in range(N):\n",
    "        print(s*r**i)\n",
    "except OverflowError:\n",
    "    print(\"Stopped calculation because an overflow occurred.\")\n"
   ]
  },
  {
   "cell_type": "markdown",
   "metadata": {},
   "source": [
    "## Revision history\n",
    "\n",
    "* 2021-10-14 Initial release"
   ]
  }
 ],
 "metadata": {
  "kernelspec": {
   "display_name": "Python 3",
   "language": "python",
   "name": "python3"
  },
  "language_info": {
   "codemirror_mode": {
    "name": "ipython",
    "version": 3
   },
   "file_extension": ".py",
   "mimetype": "text/x-python",
   "name": "python",
   "nbconvert_exporter": "python",
   "pygments_lexer": "ipython3",
   "version": "3.8.10"
  }
 },
 "nbformat": 4,
 "nbformat_minor": 4
}
