{
 "cells": [
  {
   "cell_type": "markdown",
   "metadata": {},
   "source": [
    "# MCS 260 Fall 2021 Worksheet 9\n",
    "\n",
    "* Course instructor: Emily Dumas"
   ]
  },
  {
   "cell_type": "markdown",
   "metadata": {},
   "source": [
    "## Topics\n",
    "\n",
    "This worksheet focuses on **dispatch tables**, **operators on iterables** (e.g. any(), all()), and **modules**.\n",
    "\n",
    "## Problem 1 treated differently\n",
    "\n",
    "Following the new policy, Problem 1 is different in that:\n",
    "* **Tuesday lab students:**  Problem 1 will be presented and solved as a group, in a discussion led by your TA.\n",
    "* **Thursday lab students:** Please attempt problem 1 before coming to lab.  Bring a solution, or bring questions.  The problem will be discussed as a group.\n",
    "\n",
    "## Resources\n",
    "\n",
    "The main course materials to refer to for this worksheet are:\n",
    "\n",
    "* [Sample programs](https://github.com/emilydumas/mcs260fall2021/tree/main/samplecode)\n",
    "* [Lecture 21 - Dispatch tables](https://www.dumas.io/teaching/2021/fall/mcs260/slides/lecture21.html)\n",
    "* [Lecture 22 - Operators on iterables](https://www.dumas.io/teaching/2021/fall/mcs260/slides/lecture22.html)\n",
    "* [Lecture 23 - Modules](https://www.dumas.io/teaching/2021/fall/mcs260/slides/lecture23.html)\n",
    "* [Downey's book](https://greenteapress.com/thinkpython2/html/)\n",
    "\n",
    "(Lecture videos are not linked on worksheets, but are also useful to review while working on worksheets.  Video links can be found in the course [course Blackboard site](https://uic.blackboard.com/ultra/courses/_202683_1/cl/outline).)\n"
   ]
  },
  {
   "cell_type": "markdown",
   "metadata": {},
   "source": [
    "## 1. Refactoring `terminal2.py`\n",
    "\n",
    "Recall that we developed a simple terminal application called `terminal2.py`.  Download this program and save it under a new name, `terminal3.py`.\n",
    "\n",
    "Then, modify the program as follows:\n",
    "\n",
    "### Move commands to a module\n",
    "\n",
    "Create a module called `termcommands` (in a file called `termcommands.py`) and move all the terminal commands out of `terminal3.py` and into this file.  That means all the functions that begin with `do_` should be moved.  Also move the dispatch table into the module.\n",
    "\n",
    "Have `terminal3.py` import and use this module, so that when you're done it works in the same way as `terminal2.py`.  Test running it, and make sure the commands work.\n",
    "\n",
    "### New command\n",
    "\n",
    "Add a new command called `haspy?` (think of that as \"has python?\") that simply prints \"yes\" or \"no\" depending on whether the current directory contains any files whose names end in `.py`.  It should be implemented by a function `do_haspy` that is in the module `termcommands`.  You'll need to add a new entry to the dispatch table, of course.\n",
    "\n",
    "If you use list comprehensions and `any()` in a clever way, you can make `do_haspy` a one-line function.  After you get it working by any method, see if you can achieve a one-line version."
   ]
  },
  {
   "cell_type": "markdown",
   "metadata": {},
   "source": [
    "## 2. Comment line zapper\n",
    "\n",
    "Write a program called `commentzapper.py` that takes one command line argument, which is expected to be the name of a Python file.  It should read that file and print all the code, except it should skip any lines that consist entirely of comments (i.e. no code at all).\n",
    "\n",
    "For example, suppose that `example.py` contains the code below:"
   ]
  },
  {
   "cell_type": "code",
   "execution_count": null,
   "metadata": {},
   "outputs": [],
   "source": [
    "# Save this as `example.py` if you want to test the counter program\n",
    "\"Sample of counting\"\n",
    "# MCS 260\n",
    "\n",
    "def this_line_counts():  # I am a comment on a line that contains code\n",
    "    \"I am a docstring!\"\n",
    "    # TODO: Fix this!\n",
    "    print(\"Hello.\")\n",
    "\n",
    "this_line_counts()"
   ]
  },
  {
   "cell_type": "markdown",
   "metadata": {},
   "source": [
    "Then running\n",
    "```\n",
    "python commentzapper.py example.py\n",
    "```\n",
    "should print the following:\n",
    "```\n",
    "\"Sample of counting\"\n",
    "\n",
    "def this_line_counts():  # I am a comment on a line that contains code\n",
    "    \"I am a docstring!\"\n",
    "    print(\"Hello.\")\n",
    "\n",
    "this_line_counts()\n",
    "```\n",
    "\n",
    "**Hint:** This is an ideal problem in which to try out Python's `continue` statement that we learned about last week.  If you solve it another way, try to figure out how you might use `continue`."
   ]
  },
  {
   "cell_type": "markdown",
   "metadata": {},
   "source": [
    "## 3. Iterable puzzles\n",
    "\n",
    "Here's a JSON file that contains a **list of 100 lists of words**.\n",
    "\n",
    "* [iterpuzzles.json](https://raw.githubusercontent.com/emilydumas/mcs260fall2021/main/samplecode/data/iterpuzzles.json)\n",
    "\n",
    "The word lists have various lengths, and were selected randomly from a large dictionary.\n",
    "\n",
    "\n",
    "To complete this problem you'll need that file and some code to load it into a variable in Python.  Here's an example of code that can do so:"
   ]
  },
  {
   "cell_type": "code",
   "execution_count": null,
   "metadata": {},
   "outputs": [],
   "source": [
    "import json\n",
    "\n",
    "# We assume \"iterpuzzles.json\" is in the CWD\n",
    "fobj=open(\"iterpuzzles.json\",\"r\",encoding=\"UTF-8\")\n",
    "L=json.load(fobj)\n",
    "fobj.close()"
   ]
  },
  {
   "cell_type": "markdown",
   "metadata": {},
   "source": [
    "The rest of this problem consists of puzzles that assume you have the data from that file in a variable called `L`.\n",
    "\n",
    "**Each puzzle asks you to write an expression in Python, ideally one line, that answers the question.**\n",
    "\n",
    "**We start with a few examples (with solutions).**"
   ]
  },
  {
   "cell_type": "markdown",
   "metadata": {},
   "source": [
    "### Ex1. What's the first element of L?"
   ]
  },
  {
   "cell_type": "code",
   "execution_count": 46,
   "metadata": {},
   "outputs": [
    {
     "data": {
      "text/plain": [
       "['antlia',\n",
       " 'stauromedusae',\n",
       " 'pandestruction',\n",
       " 'tabellariaceae',\n",
       " 'noninferable',\n",
       " 'papillitis',\n",
       " 'bairnly',\n",
       " 'battutos',\n",
       " 'megaphonically',\n",
       " 'unpurpled',\n",
       " 'irredentists',\n",
       " 'headships',\n",
       " 'hemitype',\n",
       " 'phasmatoid',\n",
       " 'amimide',\n",
       " 'squamae',\n",
       " 'acronychous',\n",
       " 'ganisters',\n",
       " 'existimation',\n",
       " 'appallingness',\n",
       " 'unworshipping',\n",
       " 'pachyhymenia',\n",
       " 'rosicrucian',\n",
       " 'snowbells']"
      ]
     },
     "execution_count": 46,
     "metadata": {},
     "output_type": "execute_result"
    }
   ],
   "source": [
    "L[0]"
   ]
  },
  {
   "cell_type": "markdown",
   "metadata": {},
   "source": [
    "### Ex2. Do any of the lists in L contain exactly 17 words?"
   ]
  },
  {
   "cell_type": "code",
   "execution_count": 38,
   "metadata": {},
   "outputs": [
    {
     "data": {
      "text/plain": [
       "True"
      ]
     },
     "execution_count": 38,
     "metadata": {},
     "output_type": "execute_result"
    }
   ],
   "source": [
    "any( [ len(x)==17 for x in L ] )"
   ]
  },
  {
   "cell_type": "markdown",
   "metadata": {},
   "source": [
    "(This means the answer is \"yes\".  An example is `L[92]`, as you can check.)"
   ]
  },
  {
   "cell_type": "markdown",
   "metadata": {},
   "source": [
    "### Ex3. Does every element of L have a first element with at least 5 letters?"
   ]
  },
  {
   "cell_type": "code",
   "execution_count": 32,
   "metadata": {},
   "outputs": [
    {
     "data": {
      "text/plain": [
       "False"
      ]
     },
     "execution_count": 32,
     "metadata": {},
     "output_type": "execute_result"
    }
   ],
   "source": [
    "all( [ len(x[0]) >= 5 for x in L ] )"
   ]
  },
  {
   "cell_type": "markdown",
   "metadata": {},
   "source": [
    "(This means the answer is \"no\".  You can check that `L[53]` begins with `\"lamp\"`.)"
   ]
  },
  {
   "cell_type": "markdown",
   "metadata": {},
   "source": [
    "### Ex4. Are there any lists in L consisting entirely of words of even length?"
   ]
  },
  {
   "cell_type": "code",
   "execution_count": 24,
   "metadata": {},
   "outputs": [
    {
     "data": {
      "text/plain": [
       "True"
      ]
     },
     "execution_count": 24,
     "metadata": {},
     "output_type": "execute_result"
    }
   ],
   "source": [
    "any( [ all( [len(w)%2==0 for w in x] ) for x in L ] )"
   ]
  },
  {
   "cell_type": "markdown",
   "metadata": {},
   "source": [
    "(This means the answer is \"yes\". An example is `L[7]`, which contains words of lengths `[8, 6, 6, 14, 8, 8]`.)"
   ]
  },
  {
   "cell_type": "markdown",
   "metadata": {},
   "source": [
    "**Now the actual problems.**"
   ]
  },
  {
   "cell_type": "markdown",
   "metadata": {},
   "source": [
    "### A. Does every list contain a word starting with `e`?"
   ]
  },
  {
   "cell_type": "markdown",
   "metadata": {},
   "source": [
    "### B. Does the word `\"antipathy\"` appear in any of the lists?"
   ]
  },
  {
   "cell_type": "markdown",
   "metadata": {},
   "source": [
    "### C. How many of the lists contain an odd number of words?"
   ]
  },
  {
   "cell_type": "markdown",
   "metadata": {},
   "source": [
    "### D. For which `i` is `L[i]` a list in which the second word begins with the letter `a`?"
   ]
  },
  {
   "cell_type": "markdown",
   "metadata": {},
   "source": [
    "## 4. Multiple input of specified types\n",
    "\n",
    "Write a function `multi_input(L)` that accepts a list like `[\"float\", \"string\", \"integer\", \"letter\"]` and reads corresponding input from the keyboard, returning a list of results.  Thus, if given the list above as input, the function might return\n",
    "`[ 8.5, \"Chicago\", 31, \"g\" ]`.\n",
    "\n",
    "Specifically: Each item in the list given as an argument will be a string, and is meant to specify the expected type of one line of input.  The possible values are:\n",
    "* `\"float\"` - indicates a float value is to be read\n",
    "* `\"integer\"` - indicates an integer is to be read\n",
    "* `\"string\"` - indicates a string is to be read\n",
    "* `\"letter\"` - indicates a single letter is to be read\n",
    "\n",
    "If the actual input does not match the expected type, the function should print a message and try again.\n",
    "\n",
    "Here is a sample interaction with `multi_input( [\"float\", \"string\", \"integer\", \"letter\"] )`:\n",
    "```\n",
    "float: asdf\n",
    "That didn't work; expected entry of a float.\n",
    "float: 8.5\n",
    "string: Chicago\n",
    "integer: Denver\n",
    "That didn't work; expected entry of a integer.\n",
    "integer: 31\n",
    "letter: jkl\n",
    "That didn't work; expected entry of a letter.\n",
    "letter: g\n",
    "```\n",
    "The return value in this case would be `[ 8.5, \"Chicago\", 31, \"g\" ]`.\n",
    "\n",
    "**Please use a dispatch table with keys `\"float\"`, `\"integer\"`, `\"string\"`, `\"letter\"`.**"
   ]
  },
  {
   "cell_type": "markdown",
   "metadata": {},
   "source": [
    "## Revision history\n",
    "\n",
    "* 2021-10-18 Initial release"
   ]
  }
 ],
 "metadata": {
  "kernelspec": {
   "display_name": "Python 3",
   "language": "python",
   "name": "python3"
  },
  "language_info": {
   "codemirror_mode": {
    "name": "ipython",
    "version": 3
   },
   "file_extension": ".py",
   "mimetype": "text/x-python",
   "name": "python",
   "nbconvert_exporter": "python",
   "pygments_lexer": "ipython3",
   "version": "3.8.10"
  }
 },
 "nbformat": 4,
 "nbformat_minor": 4
}
