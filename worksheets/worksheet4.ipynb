{
 "cells": [
  {
   "cell_type": "markdown",
   "metadata": {},
   "source": [
    "# MCS 260 Fall 2021 Worksheet 4\n",
    "\n",
    "* Course instructor: Emily Dumas"
   ]
  },
  {
   "cell_type": "markdown",
   "metadata": {},
   "source": [
    "## Topics\n",
    "\n",
    "The main topics on this worksheets are **strings**, **integers**, and **list comprehensions**.\n",
    "\n",
    "## Instructions\n",
    "\n",
    "* Work on the exercises below during lab.  Complete them afterward if you don't finish during the lab period.\n",
    "* This worksheet will prepare you for the upcoming homework assignment.\n",
    "* Most of the exercises ask you to write Python scripts to accomplish a certain task.  We recommend making a folder (with a name like \"worksheet3\") to store the scripts you prepare today.\n",
    "* Seek assistance from your TA or from fellow students if you run into trouble.\n",
    "\n",
    "## Collaboration\n",
    "\n",
    "Collaboration on worksheets is **strongly encouraged**.\n",
    "\n",
    "## Resources\n",
    "\n",
    "The main course materials to refer to for this worksheet are:\n",
    "\n",
    "* [Lecture 7 - strings and integers](https://www.dumas.io/teaching/2021/fall/mcs260/slides/lecture7.html)\n",
    "* [Lecture 8 - list methods and comprehensions](https://www.dumas.io/teaching/2021/fall/mcs260/slides/lecture8.html)\n",
    "* [Downey's book](https://greenteapress.com/thinkpython2/html/)\n",
    "\n",
    "(Lecture videos are not linked on worksheets, but are also useful to review while working on worksheets.  Video links can be found in the course [course Blackboard site](https://uic.blackboard.com/ultra/courses/_202683_1/cl/outline).)\n"
   ]
  },
  {
   "cell_type": "markdown",
   "metadata": {},
   "source": [
    "## 1. Indexing practice\n",
    "\n",
    "Here is a list of lists:"
   ]
  },
  {
   "cell_type": "code",
   "execution_count": 1,
   "metadata": {},
   "outputs": [],
   "source": [
    "Q = [ [\"Elizabeth\",\"Victoria\",\"Elizabeth\"],\n",
    "      [\"Eleanor\",\"Blanche\",\"Margaret\",\"Isabella\",\"Anne\",\"Catherine\",\"Marguerite\",\"Mary\",\"Anne\"],\n",
    "      [\"Padmini\",\"Chennamma\",\"Sultana\",\"Holkar\"],\n",
    "      [\"Artemisia\",\"Kratesipolis\",\"Nikaia\",\"Olympias\"]\n",
    "    ]"
   ]
  },
  {
   "cell_type": "markdown",
   "metadata": {},
   "source": [
    "In the list `Q`, each item is itself a list.  So `Q[0]` refers to the item at index 0,"
   ]
  },
  {
   "cell_type": "code",
   "execution_count": 4,
   "metadata": {},
   "outputs": [
    {
     "data": {
      "text/plain": [
       "['Elizabeth', 'Victoria', 'Elizabeth']"
      ]
     },
     "execution_count": 4,
     "metadata": {},
     "output_type": "execute_result"
    }
   ],
   "source": [
    "Q[0]"
   ]
  },
  {
   "cell_type": "markdown",
   "metadata": {},
   "source": [
    "And these items that are lists can be further indexed.  Here we take the last element of `Q[0]`:"
   ]
  },
  {
   "cell_type": "code",
   "execution_count": 5,
   "metadata": {},
   "outputs": [
    {
     "data": {
      "text/plain": [
       "'Elizabeth'"
      ]
     },
     "execution_count": 5,
     "metadata": {},
     "output_type": "execute_result"
    }
   ],
   "source": [
    "Q[0][-1]"
   ]
  },
  {
   "cell_type": "markdown",
   "metadata": {},
   "source": [
    "Determine indexing or slicing expressions like this that match the following descriptions, and evaluate them to make sure they give the expected values:\n",
    "\n",
    "1. The second to last element of the last element of `Q`\n",
    "1. `Q` with its first and last elements dropped\n",
    "1. All but the last element of the second element of `Q` (index 1)\n",
    "1. All of the index expressions using only positive numbers that evaluate to `\"Anne\"`\n",
    "   * Note: You don't need to write code to check for the value `\"Anne\"`.  Rather, this problem is checking whether you can find it yourself and then translate what you see into a set of numerical indices to use.\n",
    "1. The third letter of the third string in the third item of `Q`"
   ]
  },
  {
   "cell_type": "markdown",
   "metadata": {},
   "source": [
    "## 2. List comprehension practice\n",
    "\n",
    "We continue working with the list of lists `Q` from problem 1.\n",
    "\n",
    "Write a list comprehension to do each of the following:\n",
    "1. A list of the lengths of the items of `Q`, which should be `[3,9,4,4]`\n",
    "1. A list of the middle letters of all the strings in `Q[1]` (use integer division to select the index, which selects the earlier of the two possibilites if a string has no middle letter)\n",
    "1. A list of all the strings from `Q[1]` that contain the letter `n`.\n",
    "1. A list of all the strings from `Q[1]` that contain the letter `n` at least two times.\n",
    "1. A list that looks like `Q[3]`, but where every word has been replaced by the same number of stars, i.e. `['*********', '************', '******', '********']`\n",
    "4. A list of strings that is like `Q[2]` but with any entry equal to `\"Sultana\"` dropped and consecutive number labels added to the remaining ones, i.e.\n",
    "`[\"'1. Padmini\", \"2. Chennamma\", \"3. Holkar\"]`\n",
    "\n",
    "Note that you should be writing a single line of code consisting of a list comprehension for each answer.  There are other ways you could solve these problems with the Python we've learned, but this exercise is testing your ability to solve them with list comprehensions."
   ]
  },
  {
   "cell_type": "markdown",
   "metadata": {},
   "source": [
    "## 3. Adventures in unicode and escape sequences\n",
    "\n",
    "Look up code point numbers from the charts at https://www.compart.com/en/unicode/block or https://unicode.org/charts/ and use them to make Python code that uses `\\uXXXX` escape sequences to print the following strings.  This means your code should only contain characters that appear on a standard US keyboard, but should produce the accented or non-latin characters shown here when it runs:\n",
    "\n",
    "1. `Pudín de limón`\n",
    "2. `That's the \"φ\" model`\n",
    "3. `Mathematicians often use the letter-like mathematical symbol ℂ for the set of complex numbers`\n",
    "\n",
    "Accented i and o are in the \"Latin-1 supplement\", while the letter phi is in the \"Greek and Coptic\" block.\n",
    "\n",
    "**Note:** The default font used by Windows Powershell doesn't include ℂ, and instead of looking for another font which includes that character, it will just produce a symbol that looks like a square with a question mark inside.   (That's a sign that a character is present, but can't be shown in the current font.) To confirm you've actually produced ℂ, you can copy the mystery character into the clipboard and paste it into another application (e.g. Discord, Word, the search bar in your web browser, ...)."
   ]
  },
  {
   "cell_type": "markdown",
   "metadata": {},
   "source": [
    "## 4.  Indexer\n",
    "\n",
    "Write a Python program `indexer.py` that lets a user enter any number of strings, and which remembers each distinct string it has seen in a list.  If it receives a string it has seen before, it tells the user the 0-based index where that string appears in the list.\n",
    "\n",
    "More precisely, when the program is run, it starts with an empty list.  It then enters an endless loop of doing the following:\n",
    "* Display a prompt `->` and wait for the user to type a string\n",
    "* If the string they entered is already in the list, print a message showing the index where it appears\n",
    "* If the string they entered is not in the list, add it to the end of the list and print a message showing its new index\n",
    "\n",
    "Here's a sample session of using the program:\n",
    "```\n",
    "->David\n",
    "David = 0  (new)\n",
    "->Grogu\n",
    "Grogu = 1  (new)\n",
    "->Groudon\n",
    "Groudon = 2  (new)\n",
    "->Lisa\n",
    "Lisa = 3  (new)\n",
    "->David\n",
    "David = 0\n",
    "->Tina\n",
    "Tina = 4  (new)\n",
    "->Chin-Sun\n",
    "Chin-Sun = 5  (new)\n",
    "->Grogu\n",
    "Grogu = 1\n",
    "->Chin-Sun\n",
    "Chin-Sun = 5\n",
    "->David\n",
    "David = 0\n",
    "```\n",
    "Notice that the first time `David` is entered, it is new and gets the index 0, but the next time it is entered, the program recognizes that it was seen before and again reports the index as 0."
   ]
  },
  {
   "cell_type": "markdown",
   "metadata": {},
   "source": [
    "## Bonus round\n",
    "\n",
    "Work on these if you finish the problems above.\n",
    "\n",
    "* Modify the indexer program so that if you enter a question mark `?`as the string, instead of having that added to the list, the program prints the entire list (and then continues as usual, returning to the `->` prompt)\n",
    "* Modify the indexer program further so that if a string begins with `-`, then the program interprets the rest of the string as one that should be **removed** from the list.  So, for example, entering `David` means to add David to the list or report its index if it is already there, while `-David` means to remove David from the list.\n",
    "* Of the first 100 powers of `3`, how many contain the digit `7`?  Can you write a single line of code that evaluates to the answer, using a list comprehension?"
   ]
  },
  {
   "cell_type": "markdown",
   "metadata": {},
   "source": [
    "## Revision history\n",
    "\n",
    "* 2021-09-13 Initial release"
   ]
  }
 ],
 "metadata": {
  "kernelspec": {
   "display_name": "Python 3",
   "language": "python",
   "name": "python3"
  },
  "language_info": {
   "codemirror_mode": {
    "name": "ipython",
    "version": 3
   },
   "file_extension": ".py",
   "mimetype": "text/x-python",
   "name": "python",
   "nbconvert_exporter": "python",
   "pygments_lexer": "ipython3",
   "version": "3.8.10"
  }
 },
 "nbformat": 4,
 "nbformat_minor": 4
}
