{
 "cells": [
  {
   "cell_type": "markdown",
   "metadata": {},
   "source": [
    "# MCS 260 Fall 2021 Worksheet 14\n",
    "\n",
    "* Course instructor: Emily Dumas"
   ]
  },
  {
   "cell_type": "markdown",
   "metadata": {},
   "source": [
    "## Topics\n",
    "\n",
    "This worksheet focuses on **tkinter** and **working with dates and times**.\n",
    "\n",
    "\n",
    "## Resources\n",
    "\n",
    "The main resources to refer to for this worksheet are:\n",
    "\n",
    "* [Sample programs](https://github.com/emilydumas/mcs260fall2021/tree/main/samplecode)\n",
    "* [Lecture 36 - tkinter](https://www.dumas.io/teaching/2021/fall/mcs260/slides/lecture36.html)\n",
    "* [Lecture 37 - dates and times](https://www.dumas.io/teaching/2021/fall/mcs260/slides/lecture37.html)\n",
    "* [Lecture 38 - tkinter 2](https://www.dumas.io/teaching/2021/fall/mcs260/slides/lecture38.html)\n",
    "* [Downey's book](https://greenteapress.com/thinkpython2/html/)\n",
    "\n",
    "(Lecture videos are not linked on worksheets, but are also useful to review while working on worksheets.  Video links can be found in the course [course Blackboard site](https://uic.blackboard.com/ultra/courses/_202683_1/cl/outline).)\n"
   ]
  },
  {
   "cell_type": "markdown",
   "metadata": {},
   "source": [
    "## 1. Tuesdays\n",
    "\n",
    "Write a program that accepts two command line arguments, each of which is expected to be a date in the format `YYYY-MM-DD`, and which then prints the date of every Tuesday that occurs between the given dates.\n",
    "\n",
    "I recommend doing this with a loop that starts at the first date and steps forward, one day at a time, checking each time whether the day of week is a Tuesday.  There is a convenient method `.weekday()` of `datetime.datetime` objects that returns an integer, where `0` means Monday, `1` means Tuesday, etc..\n",
    "\n",
    "Also, you *could* do this by parsing strings into `datetime.datetime` objects and then stepping forward by 24 hours at a time, but I suggest you convert the `datetime.datetime` objects to `datetime.date` objects so that the time of day is ignored.  Each `datetime.datetime` object has a method `.date()` that converts it to a date, discarding the time information.\n",
    "\n",
    "Sample usage:\n",
    "```\n",
    "PS C:\\Users> python3 tuesdays.py 2021-08-23 2021-12-03\n",
    "2021-08-24\n",
    "2021-08-31\n",
    "2021-09-07\n",
    "2021-09-14\n",
    "2021-09-21\n",
    "2021-09-28\n",
    "2021-10-05\n",
    "2021-10-12\n",
    "2021-10-19\n",
    "2021-10-26\n",
    "2021-11-02\n",
    "2021-11-09\n",
    "2021-11-16\n",
    "2021-11-23\n",
    "2021-11-30\n",
    "PS C:\\Users>\n",
    "```"
   ]
  },
  {
   "cell_type": "markdown",
   "metadata": {},
   "source": [
    "## 2. Whack-a-mole\n",
    "\n",
    "You might be familiar with a popular carnival game called \"Whack-a-mole\" or \"Mogura Taiji\", where a player must use a mallet to strike small objects that pop up from an array of holes.\n",
    "\n",
    "Make a tkinter GUI version of this game, where the holes are replaced by buttons, one of which is labeled \"Mole\" while the others say nothing.\n",
    "\n",
    "![](images/moleanim.gif)\n",
    "\n",
    "Clicking on the mole button should make the mole move to a different location (at random).  Clicking on any other button should end the game immediately.\n",
    "\n",
    "If the user hits the mole 10 times in a row, the game should end and print a message congratulating the user, and telling them how many seconds it took to complete the game.  The timing should begin when they press a button for the first time (rather than when the window opens).\n",
    "\n",
    "A template program has been provided which takes care of some basic GUI setup:\n",
    "* [guimole_starter.py](https://github.com/emilydumas/mcs260fall2021/blob/main/samplecode/guimole_starter.py)\n",
    "\n",
    "It is recommended that you complete this problem by editing that program.  The starter program also demonstrates the correct way to end a tkinter GUI application, which is to call the `.quit()` method on the `tkinter.Tk` object."
   ]
  },
  {
   "cell_type": "markdown",
   "metadata": {},
   "source": [
    "## Revision history\n",
    "\n",
    "* 2021-11-21 Initial release"
   ]
  }
 ],
 "metadata": {
  "kernelspec": {
   "display_name": "Python 3",
   "language": "python",
   "name": "python3"
  },
  "language_info": {
   "codemirror_mode": {
    "name": "ipython",
    "version": 3
   },
   "file_extension": ".py",
   "mimetype": "text/x-python",
   "name": "python",
   "nbconvert_exporter": "python",
   "pygments_lexer": "ipython3",
   "version": "3.8.10"
  }
 },
 "nbformat": 4,
 "nbformat_minor": 4
}
