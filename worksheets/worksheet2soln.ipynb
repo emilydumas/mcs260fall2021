{
 "cells": [
  {
   "cell_type": "markdown",
   "metadata": {},
   "source": [
    "# MCS 260 Fall 2021 Worksheet 2 Solutions\n",
    "\n",
    "* Course instructor: Emily Dumas"
   ]
  },
  {
   "cell_type": "markdown",
   "metadata": {},
   "source": [
    "## Topics\n",
    "\n",
    "The main topics on this worksheets are **variables**, the built-in types **int**, **float**, and **string**, and the use of **booleans and conditionals**.\n",
    "\n",
    "## Instructions\n",
    "\n",
    "* Complete the exercises below during lab.\n",
    "* Most of the exercises ask you to write Python scripts to accomplish a certain task.  We recommend making a folder (with a name like \"worksheet1\") to store the scripts you prepare today.\n",
    "* Seek assistance from your TA or from fellow students if you run into trouble.\n",
    "\n",
    "## Collaboration\n",
    "\n",
    "Collaboration on worksheets is **strongly encouraged**.\n",
    "\n",
    "## Resources\n",
    "\n",
    "The main course materials to refer to for this worksheet are:\n",
    "\n",
    "* [Lecture 2 - REPL, scripts, arithmetic](https://www.dumas.io/teaching/2021/fall/mcs260/slides/lecture2.html)\n",
    "* [Lecture 3 - comments, variables, input](https://www.dumas.io/teaching/2021/fall/mcs260/slides/lecture3.html)\n",
    "* [Lecture 4 - booleans and conditionals](https://www.dumas.io/teaching/2021/fall/mcs260/slides/lecture4.html)\n",
    "* [Chapter 2](https://greenteapress.com/thinkpython2/html/thinkpython2003.html) and [Chapter 5](https://greenteapress.com/thinkpython2/html/thinkpython2006.html) of the optional textbook by Downey\n",
    "\n",
    "(Lecture videos are not linked on worksheets, but are also useful to review while working on worksheets.  Video links can be found in the course [course Blackboard site](https://uic.blackboard.com/ultra/courses/_202683_1/cl/outline).)\n",
    "\n",
    "\n"
   ]
  },
  {
   "cell_type": "markdown",
   "metadata": {},
   "source": [
    "## 1. Heat index\n",
    "\n",
    "Hot and humid air often feels hotter than hot dry air, in part due to slower evaporation of perspiration.\n",
    "\n",
    "For this reason it can be helpful to describe weather conditions in terms of a **heat index**, a number which attempts to capture the \"perceived temperature\" by incorporating both the air temperature and relative humidity.\n",
    "\n",
    "There are several heat indices that are in common use, and in this problem we'll look at one of them.  The formula for it is described in https://www.weather.gov/media/ffc/ta_htindx.PDF, and adapted below.\n",
    "\n",
    "* Suppose the temperature, in degrees Fahrenheit, is $T$\n",
    "* Suppose the relative humidity percentage is $R$\n",
    "* Then the heat index $H$ is given by the formula\n",
    "$$ H = c_0 + c_1 T + c_2 R + c_3 TR + c_4 T^2 + c_5 R^2 + c_6 T^2 R + c_7 T R^2 + c_8 T^2 R^2 $$\n",
    "where the coefficients $c_0, ..., c_8$ have the values\n",
    "  * $c_0 = -42.379$\n",
    "  * $c_1 = 2.04901523$\n",
    "  * $c_2 = 10.14333127$\n",
    "  * $c_3 = -0.22475541$\n",
    "  * $c_4 = -0.00683783$\n",
    "  * $c_5 = -0.05481717$\n",
    "  * $c_6 = 0.00122874$\n",
    "  * $c_7 = 0.00085282$\n",
    "  * $c_8 = -0.00000199$\n",
    "  \n",
    "Write a Python script called `heatindex.py` that asks the user for the temperature in degrees Fahrenheit and the relative humidity percentage (as two separate input events).  The script should then print the heat index.  Specifically, running `python heatindex.py` should result in prompts and output like the following:\n",
    "\n",
    "```\n",
    "Enter temperature (degrees F): 92\n",
    "Enter relative humidity (percent): 60\n",
    "The heat index is: 104.68441864000005\n",
    "```\n",
    "\n",
    "(Note that you are not supposed to write a program that uses fixed numbers like 92 and 70 for the temperature and humidity, though that would be a reasonable start.  A completed program is supposed to accept whatever numbers the user types and do the calculation with those values."
   ]
  },
  {
   "cell_type": "markdown",
   "metadata": {},
   "source": [
    "### Solution"
   ]
  },
  {
   "cell_type": "code",
   "execution_count": 1,
   "metadata": {},
   "outputs": [
    {
     "name": "stdout",
     "output_type": "stream",
     "text": [
      "Enter temperature (degrees F): 92\n",
      "Enter relative humidity (percent): 60\n",
      "The heat index is: 104.68441864000005\n"
     ]
    }
   ],
   "source": [
    "# The text shown below could be the content of `heatindex.py`\n",
    "# MCS 260 Worksheet 2 problem 1: Heat index\n",
    "# Emily Dumas\n",
    "\n",
    "# Read input\n",
    "T = float(input(\"Enter temperature (degrees F): \"))\n",
    "R = float(input(\"Enter relative humidity (percent): \"))\n",
    "\n",
    "# Store coefficients in variables to make heat index formula\n",
    "# less bulky.  This is optional; you could put the numbers directly\n",
    "# into the formula instead.\n",
    "c0 = -42.379\n",
    "c1 = 2.04901523\n",
    "c2 = 10.14333127\n",
    "c3 = -0.22475541\n",
    "c4 = -0.00683783\n",
    "c5 = -0.05481717\n",
    "c6 = 0.00122874\n",
    "c7 = 0.00085282\n",
    "c8 = -0.00000199\n",
    "\n",
    "# Compute the heat index\n",
    "H = c0 + c1*T + c2*R + c3*T*R + c4*T*T + c5*R*R + c6*T*T*R + c7*T*R*R + c8*T*T*R*R\n",
    "\n",
    "print(\"The heat index is:\",H)"
   ]
  },
  {
   "cell_type": "markdown",
   "metadata": {},
   "source": [
    "## 2. Number preferences\n",
    "\n",
    "Suppose you like numbers that are even (like 2, 16, and 44) and you also like numbers that are divisible by 5 (like 15, 65, and 2005).  Naturally, you *love* numbers that are both even *and* divisible by 5 (like 260 and 1980).\n",
    "\n",
    "Write a Python script `intlike.py` that asks the user to enter a number, and then prints a message describing how much you like that number (specifically, printing \"it's ok\", \"I like it\", \"I LOVE IT\").\n",
    "\n",
    "Here are some test cases.  The first line is the number you type, and the second is the expected output.\n",
    "\n",
    "```\n",
    "5\n",
    "I like it\n",
    "```\n",
    "\n",
    "```\n",
    "28\n",
    "I like it\n",
    "```\n",
    "\n",
    "```\n",
    "0\n",
    "I LOVE IT\n",
    "```\n",
    "\n",
    "```\n",
    "77810\n",
    "I LOVE IT\n",
    "```\n",
    "\n",
    "```\n",
    "57\n",
    "It's ok\n",
    "```\n",
    "\n",
    "```\n",
    "2021\n",
    "It's ok\n",
    "```"
   ]
  },
  {
   "cell_type": "markdown",
   "metadata": {},
   "source": [
    "### Solution\n",
    "\n",
    "There are several ways to write the conditional logic.  We present three options.  The first is the cleanest."
   ]
  },
  {
   "cell_type": "code",
   "execution_count": 4,
   "metadata": {},
   "outputs": [
    {
     "name": "stdout",
     "output_type": "stream",
     "text": [
      "260\n",
      "I LOVE IT\n"
     ]
    }
   ],
   "source": [
    "# The text shown below could be the content `intlike.py`\n",
    "# MCS 260 Worksheet 2 problem 2: Number preferences\n",
    "# Solution 1\n",
    "# Emily Dumas\n",
    "\n",
    "# Read input\n",
    "n = int(input())\n",
    "\n",
    "# Classify and print result\n",
    "if n%10 == 0:  # multiple of 10 is equivalent to multiple of 5 and of 2!\n",
    "    print(\"I LOVE IT\")\n",
    "elif n%2 == 0 or n%5 == 0:\n",
    "    print(\"I like it\")\n",
    "else:\n",
    "    print(\"It's ok\")"
   ]
  },
  {
   "cell_type": "code",
   "execution_count": 5,
   "metadata": {},
   "outputs": [
    {
     "name": "stdout",
     "output_type": "stream",
     "text": [
      "260\n",
      "I LOVE IT\n"
     ]
    }
   ],
   "source": [
    "# The text shown below could be the content `intlike.py`\n",
    "# MCS 260 Worksheet 2 problem 2: Number preferences\n",
    "# Solution 2\n",
    "# Emily Dumas\n",
    "\n",
    "# Read input\n",
    "n = int(input())\n",
    "\n",
    "# Classify and print result\n",
    "if n%2 == 0 and n%5 == 0:\n",
    "    print(\"I LOVE IT\")\n",
    "elif n%2 == 0 or n%5 == 0:\n",
    "    print(\"I like it\")\n",
    "else:\n",
    "    print(\"It's ok\")"
   ]
  },
  {
   "cell_type": "code",
   "execution_count": 3,
   "metadata": {},
   "outputs": [
    {
     "name": "stdout",
     "output_type": "stream",
     "text": [
      "260\n",
      "I LOVE IT\n"
     ]
    }
   ],
   "source": [
    "# The text shown below could be the content `intlike.py`\n",
    "# MCS 260 Worksheet 2 problem 2: Number preferences\n",
    "# Solution 3\n",
    "# Emily Dumas\n",
    "\n",
    "# Read input\n",
    "n = int(input())\n",
    "\n",
    "# Classify and print result\n",
    "if n%2 == 0:\n",
    "    # It's even, but it might also be a multiple of 5\n",
    "    if n%5 == 0:\n",
    "        print(\"I LOVE IT\")\n",
    "    else:\n",
    "        print(\"I like it\")  # multiple of 2, not 5\n",
    "elif n%5 == 0:\n",
    "    print(\"I like it\")      # multiple of 5, not 2\n",
    "else:\n",
    "    print(\"It's ok\")"
   ]
  },
  {
   "cell_type": "markdown",
   "metadata": {},
   "source": [
    "## 3. Temperature converter\n",
    "\n",
    "You are probably familiar with two temperature scales: Fahrenheit (F) and Celsius (C).\n",
    "\n",
    "There is a third temperature scale that is preferred in many scientific disciplines, the Kelvin scale (K), which has the advantage that 0K corresponds to **absolute zero**, the minimum temperature that is possible.\n",
    "\n",
    "The formula to convert from Fahrenheit to Kelvin is:\n",
    "$$ T_{Kelvin} = \\frac{5}{9}(T_{Fahrenheit} + 459.67) $$\n",
    "The formula to convert from Celsius to Kelvin is:\n",
    "$$ T_{Kelvin} = T_{Celsius} + 273.15$$\n",
    "\n",
    "\n",
    "Write a Python script `kelvinator.py` that asks the user for a numeric temperature, and which then asks the user whether the temperature was given in Celsius, Fahrenheit, or Kelvin (which the user indicates by entering C, F, or K, respectively).  The script should then convert the given temperature to Kelvin and print the result.\n",
    "\n",
    "Here are some samples of input and expected output.\n",
    "\n",
    "* Test case 1: Asking the script to convert 91°F to Kelvin\n",
    "\n",
    "```\n",
    "Enter numeric temperature: 91\n",
    "Which scale is tbhat measured in? (C=celsius, F=Fahrenheit, K=Kelvin) F\n",
    "The corresponding Kelvin temperature is 305.9277777777778K\n",
    "```\n",
    "\n",
    "* Test case 2: Asking the script to convert 40°C to Kelvin\n",
    "\n",
    "```\n",
    "Enter numeric temperature: 40\n",
    "Which scale is that measured in? (C=celsius, F=Fahrenheit, K=Kelvin) C\n",
    "The corresponding Kelvin temperature is 313.15K\n",
    "```\n",
    "\n",
    "* Test case 3: Asking the script to convert 500K to Kelvin\n",
    "\n",
    "```\n",
    "Enter numeric temperature: 500\n",
    "Which scale is that measured in? (C=celsius, F=Fahrenheit, K=Kelvin) K\n",
    "The corresponding Kelvin temperature is 500.0K\n",
    "```"
   ]
  },
  {
   "cell_type": "markdown",
   "metadata": {},
   "source": [
    "### Solution"
   ]
  },
  {
   "cell_type": "code",
   "execution_count": 7,
   "metadata": {},
   "outputs": [
    {
     "name": "stdout",
     "output_type": "stream",
     "text": [
      "Enter numeric temperature: 90\n",
      "Which scale is that measured in? (C=celsius, F=Fahrenheit, K=Kelvin) F\n",
      "The corresponding Kelvin temperature is 305.37222222222226K\n"
     ]
    }
   ],
   "source": [
    "# The text shown below could be the content `kelvinator.py`\n",
    "# MCS 260 Worksheet 2 problem 3: Temperature converter\n",
    "# Emily Dumas\n",
    "\n",
    "# Read input\n",
    "T = float(input(\"Enter numeric temperature: \"))\n",
    "scale = input(\"Which scale is that measured in? (C=celsius, F=Fahrenheit, K=Kelvin) \")\n",
    "\n",
    "# Apply one of the conversion formulas depending on the\n",
    "# scale indicated by the user.  Store Kelvin temperature\n",
    "# in new variable TK\n",
    "if scale == \"C\":\n",
    "    # Celsius\n",
    "    TK = T + 273.15\n",
    "elif scale == \"F\":\n",
    "    # Fahrenheit\n",
    "    TK = 0.5555555555555555555 * (T + 459.67)\n",
    "else:\n",
    "    # Kelvin (no conversion needed)\n",
    "    TK = T\n",
    "\n",
    "print(\"The corresponding Kelvin temperature is \",TK,\"K\",sep=\"\")"
   ]
  },
  {
   "cell_type": "markdown",
   "metadata": {},
   "source": [
    "### Solution remarks\n",
    "\n",
    "This solution does what was asked while minimizing complexity, but it doesn't do any input validation.  If you enter \"walrus\" as the temperature scale, it will be interpreted as Kelvin because that case is in the \"else\" clause of the conditional.\n",
    "\n",
    "A better way would be to check for the known scales (\"C\", \"F\", \"K\") and then have an else that reports an error and exits.  However, we haven't talked about the cleanest way to exit a program early yet."
   ]
  },
  {
   "cell_type": "markdown",
   "metadata": {},
   "source": [
    "## Revision history\n",
    "\n",
    "* 2021-09-02 Initial release"
   ]
  }
 ],
 "metadata": {
  "kernelspec": {
   "display_name": "Python 3",
   "language": "python",
   "name": "python3"
  },
  "language_info": {
   "codemirror_mode": {
    "name": "ipython",
    "version": 3
   },
   "file_extension": ".py",
   "mimetype": "text/x-python",
   "name": "python",
   "nbconvert_exporter": "python",
   "pygments_lexer": "ipython3",
   "version": "3.8.10"
  }
 },
 "nbformat": 4,
 "nbformat_minor": 4
}
