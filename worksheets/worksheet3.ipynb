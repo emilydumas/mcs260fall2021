{
 "cells": [
  {
   "cell_type": "markdown",
   "metadata": {},
   "source": [
    "# MCS 260 Fall 2021 Worksheet 3\n",
    "\n",
    "* Course instructor: Emily Dumas"
   ]
  },
  {
   "cell_type": "markdown",
   "metadata": {},
   "source": [
    "## Topics\n",
    "\n",
    "The main topics on this worksheets are **lists**, **while loops** and **for loops**.\n",
    "\n",
    "## Instructions\n",
    "\n",
    "* Work on the exercises below during lab.  Complete them afterward if you don't finish during the lab period.\n",
    "* This worksheet will prepare you for the upcoming homework assignment.\n",
    "* Most of the exercises ask you to write Python scripts to accomplish a certain task.  We recommend making a folder (with a name like \"worksheet3\") to store the scripts you prepare today.\n",
    "* Seek assistance from your TA or from fellow students if you run into trouble.\n",
    "\n",
    "## Collaboration\n",
    "\n",
    "Collaboration on worksheets is **strongly encouraged**.\n",
    "\n",
    "## Resources\n",
    "\n",
    "The main course materials to refer to for this worksheet are:\n",
    "\n",
    "* [Lecture 4 - booleans and conditionals](https://www.dumas.io/teaching/2021/fall/mcs260/slides/lecture4.html)\n",
    "* [Lecture 5 - lists](https://www.dumas.io/teaching/2021/fall/mcs260/slides/lecture5.html)\n",
    "* [Lecture 6 - for and while loops](https://www.dumas.io/teaching/2021/fall/mcs260/slides/lecture6.html)\n",
    "* [Downey's book](https://greenteapress.com/thinkpython2/html/)\n",
    "\n",
    "(Lecture videos are not linked on worksheets, but are also useful to review while working on worksheets.  Video links can be found in the course [course Blackboard site](https://uic.blackboard.com/ultra/courses/_202683_1/cl/outline).)\n"
   ]
  },
  {
   "cell_type": "markdown",
   "metadata": {},
   "source": [
    "## 1. Arithmetic progression reporter\n",
    "\n",
    "An *arithmetic progression* is a sequence of numbers in which the difference between any pair of neighboring terms is the same, e.g.\n",
    "$$ 1, 5, 9, 13, 167, 21, ... $$\n",
    "where the difference is 4, or\n",
    "$$ -58, -42, -26, -10, 6, 22, ... $$\n",
    "where the difference is 16.\n",
    "\n",
    "An arithmetic progression is determined by its first element $a_0$ and the difference $\\delta$ between neighboring terms.  The term at index $i$ then has the formula $a_i = a_0 + \\delta * i$.\n",
    "\n",
    "Write a program that allows the user to specify an arithmetic progression and a desired number of terms, and which then prints the terms, one per line, as shown below:\n",
    "```\n",
    "First term: -100\n",
    "Difference of neighboring terms: 7\n",
    "Number of terms: 13\n",
    "\n",
    "The first 13 terms of that arithmetic progression are:\n",
    "-100\n",
    "-93\n",
    "-86\n",
    "-79\n",
    "-72\n",
    "-65\n",
    "-58\n",
    "-51\n",
    "-44\n",
    "-37\n",
    "-30\n",
    "-23\n",
    "-16\n",
    "```\n",
    "In this example, `-100`, `7`, and `13` on the first three lines are numbers entered by the user.  Note that means your program will have three `input()` statements to read these data.\n",
    "\n",
    "Hints:\n",
    "* Use a for loop\n",
    "* No lists are needed or recommended for this program (but there are correct solutions that would use a list)\n",
    "* Do you recall how to iterate over the numbers from 0 to n-1 in a for loop?"
   ]
  },
  {
   "cell_type": "markdown",
   "metadata": {},
   "source": [
    "## 2. Word list report\n",
    "\n",
    "Write a script that lets the user enter any number of words, one per line.  The script should store all of the words the user enters in a list.  When the user is finished, they simply press Enter instead of entering a word, and the script takes this as a signal to stop waiting for additional input.  It then prints a report giving:\n",
    "* The number of words entered\n",
    "* The first and last words entered\n",
    "* The middle word in the list (using the earlier of the two middle entries if the length of the list is even)\n",
    "\n",
    "Here's a sample session which shows what the prompt and output should look like:\n",
    "\n",
    "```\n",
    "Enter any number of words, one per line, or a blank line to stop:\n",
    "we\n",
    "are\n",
    "closely\n",
    "monitoring\n",
    "the\n",
    "situation\n",
    "and\n",
    "will\n",
    "announce\n",
    "something\n",
    "shortly\n",
    "\n",
    "Number of words: 11\n",
    "First word: we\n",
    "Last word: shortly\n",
    "Middle word: situation\n",
    "Total number of letters: 65\n",
    "```\n",
    "\n",
    "Hints:\n",
    "* Try to get everything except the total number of letters working first.\n",
    "* At the beginning of the program, you'll want to create a list that is initially empty, and which will store the words as they arrive.\n",
    "* You can use a `while` loop to repeatedly read words until a blank one is found (with `input(...)` in the body of the loop).\n",
    "* But watch out: Variables used in the `while` statement need to exist before the loop begins, and you won't have read the first word when the loop starts.\n",
    "* In lecture 5 we learned how to add an element to the end of a list."
   ]
  },
  {
   "cell_type": "markdown",
   "metadata": {},
   "source": [
    "## 3. Puzzle box\n",
    "\n",
    "You are presented with a wooden box.  Across the top, it has a row of five light bulbs.  (To be able to refer to the lights individually, let's call them 0, 1, 2, 3, and 4.)  Lights 1 and 2 are turned on when you first receive the box.  Below the lights is a label that reads \"Puzzle Box - Can you turn on all of the lights?\"  There are also two large circular buttons, labeled \"a\" and \"b\".\n",
    "\n",
    "You discover that pressing button \"a\" makes the state of the lights shift one position to the right, with the rightmost light's state wrapping around to the left side.  In other words, after pressing button \"a\", light $n$ will be in whatever state light $n-1$ was in before you pressed it.\n",
    "\n",
    "You also discover that pressing button \"b\" makes lights 0, 2, and 4 switch state (from on to off or off to on, whichever is appropriate for the light).\n",
    "\n",
    "Before trying out the physical puzzle, you decide it would be best to experiment on your computer.\n",
    "\n",
    "Write a Python script that simulates the puzzle box, displaying the state of the lights using 0 and 1 to represent off and on, respectively.  The script should keep showing the state of the lights and waiting for a button press until the user wins (i.e. until the state is `11111`.) Here's what the interface should look like (and a sample of how you might win):\n",
    "\n",
    "```\n",
    "01100\n",
    "Which button? a\n",
    "00110\n",
    "Which button? b\n",
    "10011\n",
    "Which button? b\n",
    "00110\n",
    "Which button? a\n",
    "00011\n",
    "Which button? b\n",
    "10110\n",
    "Which button? b\n",
    "00011\n",
    "Which button? a\n",
    "10001\n",
    "Which button? b\n",
    "00100\n",
    "Which button? a\n",
    "00010\n",
    "Which button? a\n",
    "00001\n",
    "Which button? b\n",
    "10100\n",
    "Which button? a\n",
    "01010\n",
    "Which button? b\n",
    "11111 you win!\n",
    "```\n",
    "\n",
    "Hints:\n",
    "* Use a list of integers to represent the state of the lights.  Assign it a value at the beginning to represent the two lights that are on at the start of the game.\n",
    "* You want to end the game when the lights are all on; what type of loop makes this easiest?\n",
    "* You'll need to read a button from the user using `input(...)` and then decide which of two things you need to do to modify the light state list.  What Python construct is best for that?\n",
    "* If you want to print a digit and not skip to the next line, you can use `print(x,end=\"\")`.  For example, compare the two programs shown below."
   ]
  },
  {
   "cell_type": "code",
   "execution_count": 23,
   "metadata": {},
   "outputs": [
    {
     "name": "stdout",
     "output_type": "stream",
     "text": [
      "0\n",
      "1\n",
      "2\n"
     ]
    }
   ],
   "source": [
    "for x in range(3):\n",
    "    print(x)"
   ]
  },
  {
   "cell_type": "code",
   "execution_count": 24,
   "metadata": {},
   "outputs": [
    {
     "name": "stdout",
     "output_type": "stream",
     "text": [
      "012"
     ]
    }
   ],
   "source": [
    "for x in range(3):\n",
    "    print(x,end=\"\")"
   ]
  },
  {
   "cell_type": "markdown",
   "metadata": {},
   "source": [
    "## Bonus round\n",
    "\n",
    "Work on this if you have extra time.  Solutions won't be provided for this part.\n",
    "\n",
    "* What's the smallest number of moves that can solve the puzzle box game?\n",
    "* Is the puzzle box game solvable even if the lights start off in a different state?  If not, how can you tell whether or not it can be solved from a given state?\n",
    "* Modify the word list program so it also reports the longest word and shortest word"
   ]
  },
  {
   "cell_type": "markdown",
   "metadata": {},
   "source": [
    "## Revision history\n",
    "\n",
    "* 2021-09-06 Initial release"
   ]
  }
 ],
 "metadata": {
  "kernelspec": {
   "display_name": "Python 3",
   "language": "python",
   "name": "python3"
  },
  "language_info": {
   "codemirror_mode": {
    "name": "ipython",
    "version": 3
   },
   "file_extension": ".py",
   "mimetype": "text/x-python",
   "name": "python",
   "nbconvert_exporter": "python",
   "pygments_lexer": "ipython3",
   "version": "3.8.10"
  }
 },
 "nbformat": 4,
 "nbformat_minor": 4
}
