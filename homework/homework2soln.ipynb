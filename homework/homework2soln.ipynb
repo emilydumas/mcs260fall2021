{
 "cells": [
  {
   "cell_type": "markdown",
   "metadata": {},
   "source": [
    "# MCS 260 Fall 2021 Homework 2 Solutions\n",
    "\n",
    "* Course instructor: Emily Dumas\n",
    "* Solutions prepared by:  Kylash Viswanathan and Emily Dumas"
   ]
  },
  {
   "cell_type": "markdown",
   "metadata": {},
   "source": [
    "## Instructions:\n",
    "\n",
    "This is the first homework where you'll write Python code, so the instructions are detailed and long.  The actual problems are brief.\n",
    "\n",
    "### Deadline\n",
    "This homework assignment must be submitted in Gradescope by 10am CST on Wednesday, September 8, 2021.\n",
    "\n",
    "### Topic\n",
    "This homework assignment is about the topics of worksheet 2, i.e. **variables**, the built-in types **int**, **float**, and **string**, and the use of **booleans and conditionals**.\n",
    "\n",
    "### Collaboration\n",
    "\n",
    "**No collaboration is permitted**, and you may only access resources (books, online, etc.) listed below.\n",
    "\n",
    "### Resources you may consult\n",
    "\n",
    "The course materials you may refer to for this homework are:\n",
    "\n",
    "Expected to be most useful:\n",
    "* [Worksheet 2 Solutions](https://www.dumas.io/teaching/2021/fall/mcs260/nbview/worksheets/worksheet2soln.html)\n",
    "* [Lecture 2 - REPL, scripts, arithmetic](https://www.dumas.io/teaching/2021/fall/mcs260/slides/lecture2.html)\n",
    "* [Lecture 3 - comments, variables, input](https://www.dumas.io/teaching/2021/fall/mcs260/slides/lecture3.html)\n",
    "* [Lecture 4 - booleans and conditionals](https://www.dumas.io/teaching/2021/fall/mcs260/slides/lecture4.html)\n",
    "* [Downey's text](https://greenteapress.com/thinkpython2/)\n",
    "* All lecture videos posted on the [course Blackboard site](https://uic.blackboard.com/ultra/courses/_202683_1/cl/outline).\n",
    "\n",
    "Allowed and possibly useful, but not the most relevant:\n",
    "* [Worksheet 1](https://www.dumas.io/teaching/2021/fall/mcs260/nbview/worksheets/worksheet1.html)\n",
    "* [Lecture 1](https://www.dumas.io/teaching/2021/fall/mcs260/slides/lecture1.html)\n",
    "\n",
    "\n",
    "### Point distribution\n",
    "This homework assignment has 2 problems, numbered #2 and #3.  **Each problem is worth 4 points.**\n",
    "\n",
    "Because of the way Gradescope works, there will also be a problem 1 worth 0 points.\n",
    "\n",
    "### What to do if you're stuck\n",
    "\n",
    "Ask your instructor or TA a question by email, in office hours, or on discord."
   ]
  },
  {
   "cell_type": "markdown",
   "metadata": {},
   "source": [
    "## 1. There's no problem 1\n",
    "\n",
    "In Gradescope, problem 1 is used to report the result of autograder testing.  **In this homework, the autograder will ONLY give you advice (warn you of syntax issues etc.) but it won't actually assign any points.**  Everyone will get a full score (0 out of 0) on problem 1."
   ]
  },
  {
   "cell_type": "markdown",
   "metadata": {},
   "source": [
    "## 2. Bumblebee detector\n",
    "Write a program `hwk2prob2.py` that waits for the user to type **one line of text**.\n",
    "\n",
    "If the user types `Bumblebee` (capital B) followed by the Enter key, the program should print `BUMBLEBEE DETECTED`.  Otherwise, it should print `NO BUMBLEBEE`.\n",
    "\n",
    "Sample usage (first line is always what the user typed):\n",
    "\n",
    "* ```\n",
    "Bumblebee\n",
    "BUMBLEBEE DETECTED\n",
    "```\n",
    "\n",
    "* ```\n",
    "Feral raccoon holding an improvised spear\n",
    "NO BUMBLEBEE\n",
    "```\n",
    "\n",
    "* ```\n",
    "This line of text has Bumblebee in it but is not just that word by itself\n",
    "NO BUMBLEBEE\n",
    "```"
   ]
  },
  {
   "cell_type": "markdown",
   "metadata": {},
   "source": [
    "### Solution"
   ]
  },
  {
   "cell_type": "code",
   "execution_count": null,
   "metadata": {},
   "outputs": [],
   "source": [
    "# Contents of hwk2prob2.py\n",
    "input_word = input()\n",
    "if input_word == \"Bumblebee\":\n",
    "    print(\"BUMBLEBEE DETECTED\")\n",
    "else:\n",
    "    print(\"NO BUMBLEBEE\")"
   ]
  },
  {
   "cell_type": "markdown",
   "metadata": {},
   "source": [
    "## 3. Exponent calculator\n",
    "\n",
    "Write a program `hwk2prob3.py` that asks the user for a base $b$ and exponent $x$ (both of them floats) and which then prints the value of $b^x$ (i.e. $b$ raised to the power $x$). You don't need to do any checking to make sure the input is valid.\n",
    "\n",
    "The interface should look like this (two examples shown):\n",
    "* ```\n",
    "Base: 2.5\n",
    "Exponent: 8\n",
    "1525.87890625\n",
    "```\n",
    "(Here, `2.5` and `8` are values typed by the user.)\n",
    "* ```\n",
    "Base: 64\n",
    "Exponent: 0.5\n",
    "8.0\n",
    "```\n",
    "(Here, `64` and `0.5` are values typed by the user.)"
   ]
  },
  {
   "cell_type": "markdown",
   "metadata": {},
   "source": [
    "### Solution"
   ]
  },
  {
   "cell_type": "code",
   "execution_count": 2,
   "metadata": {},
   "outputs": [
    {
     "name": "stdout",
     "output_type": "stream",
     "text": [
      "Base: 2\n",
      "Exponent: 5\n",
      "32.0\n"
     ]
    }
   ],
   "source": [
    "# Contents of hwk2prob3.py\n",
    "base = float(input(\"Base: \"))\n",
    "exp = float(input(\"Exponent: \"))\n",
    "print(base**exp)"
   ]
  },
  {
   "cell_type": "markdown",
   "metadata": {},
   "source": [
    "### Revision history\n",
    "\n",
    "* 2021-09-14 Initial publication"
   ]
  }
 ],
 "metadata": {
  "kernelspec": {
   "display_name": "Python 3",
   "language": "python",
   "name": "python3"
  },
  "language_info": {
   "codemirror_mode": {
    "name": "ipython",
    "version": 3
   },
   "file_extension": ".py",
   "mimetype": "text/x-python",
   "name": "python",
   "nbconvert_exporter": "python",
   "pygments_lexer": "ipython3",
   "version": "3.8.10"
  }
 },
 "nbformat": 4,
 "nbformat_minor": 4
}
