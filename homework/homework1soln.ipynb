{
 "cells": [
  {
   "cell_type": "markdown",
   "metadata": {},
   "source": [
    "# MCS 260 Fall 2021 Homework 1 Solutions\n",
    "\n",
    "* Course instructor: Emily Dumas"
   ]
  },
  {
   "cell_type": "markdown",
   "metadata": {},
   "source": [
    "## 3. Decimal to binary table\n",
    "\n",
    "Recall from Lecture 1 that one way to convert a number to binary is to make a 3-column table where each row contains values x, x//2, and x%2, and where the next row begins with the middle entry of the previous row.  The table ends when the row 1 0 1 is obtained.  Then, reading the last column of the table from bottom to top gives the binary digits of the number at the start of the table.\n",
    "\n",
    "In Visual Studio Code (or another text editor) you can make a table like this by creating a new text file and typing the column headings, rows, and the final result into the editor window.  For example, if you were asked to convert 53 to binary, the contents of this text file might be:\n",
    "\n",
    "```\n",
    "x   x//2  x%2\n",
    "53  26    1\n",
    "26  13    0\n",
    "13  6     1\n",
    "6   3     0\n",
    "3   1     1\n",
    "1   0     1\n",
    "```\n",
    "\n",
    "Therefore, 53 in binary is `0b110101`.\n",
    "Create a text file (named e.g. `binaryconversion.txt`) in this format showing the process to convert 61 to binary.  Make sure to include the line stating the conclusion (\"Therefore, 61 in binary is...\").\n",
    "\n",
    "Note that you must not create this as a document in Word, WordPad, Pages, or similar word processing applications.  The file you upload needs to be pure text, like the .py files for the Python programs we'll write in future assignments."
   ]
  },
  {
   "cell_type": "markdown",
   "metadata": {},
   "source": [
    "### Solution\n",
    "\n",
    "The contents of `binaryconversion.txt` might be:\n",
    "```\n",
    "x   x//2  x%2\n",
    "61  30    1\n",
    "30  15    0\n",
    "15  7     1\n",
    "7   3     1\n",
    "3   1     1\n",
    "1   0     1\n",
    "\n",
    "Therefore, 61 in binary is 0b111101\n",
    "```"
   ]
  },
  {
   "cell_type": "markdown",
   "metadata": {},
   "source": [
    "## 4. Hex to binary\n",
    "\n",
    "Convert the hexadecimal number `0x84C` to binary, and enter the result in python format (beginning with `0b`) below.  To allow automated checking of your answer, do **not** use any digit separators (i.e. no underscore characters `_`)."
   ]
  },
  {
   "cell_type": "code",
   "execution_count": null,
   "metadata": {},
   "outputs": [],
   "source": [
    "0b100001001100"
   ]
  }
 ],
 "metadata": {
  "kernelspec": {
   "display_name": "Python 3",
   "language": "python",
   "name": "python3"
  },
  "language_info": {
   "codemirror_mode": {
    "name": "ipython",
    "version": 3
   },
   "file_extension": ".py",
   "mimetype": "text/x-python",
   "name": "python",
   "nbconvert_exporter": "python",
   "pygments_lexer": "ipython3",
   "version": "3.8.10"
  }
 },
 "nbformat": 4,
 "nbformat_minor": 4
}
