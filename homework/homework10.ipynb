{
 "cells": [
  {
   "cell_type": "markdown",
   "metadata": {},
   "source": [
    "# MCS 260 Fall 2021 Homework 10\n",
    "\n",
    "* Course instructor: Emily Dumas"
   ]
  },
  {
   "cell_type": "markdown",
   "metadata": {},
   "source": [
    "## Instructions:\n",
    "\n",
    "* Complete the problems below, which ask you to write Python scripts.\n",
    "* Upload your python code directly to gradescope, i.e. upload the `.py` files containing your work.  (If you upload a screenshot or other file format, you won't get credit.)\n",
    "\n",
    "### Deadline\n",
    "This homework assignment must be submitted in Gradescope by 10am CST on Tuesday, November 2, 2021.\n",
    "\n",
    "### Topic\n",
    "This homework focuses on **object-oriented programming**.  It is a bit shorter than usual to give you more time to work on Project 3.\n",
    "\n",
    "### Collaboration\n",
    "\n",
    "**Collaboration is prohibited**, and you may only access resources (books, online, etc.) listed below.\n",
    "\n",
    "### Resources you may consult\n",
    "\n",
    "The course materials you may refer to for this homework are:\n",
    "\n",
    "* [Sample programs](https://github.com/emilydumas/mcs260fall2021/tree/main/samplecode) (check the `oop` folder)\n",
    "* [Lecture 25 - OOP 1](https://www.dumas.io/teaching/2021/fall/mcs260/slides/lecture25.html)\n",
    "* [Lecture 26 - OOP 2 (overloading)](https://www.dumas.io/teaching/2021/fall/mcs260/slides/lecture26.html)\n",
    "* [Lecture 27 - OOP 3 (inheritance)](https://www.dumas.io/teaching/2021/fall/mcs260/slides/lecture27.html)\n",
    "* [Lecture 28 - OOP 4 (protocols)](https://www.dumas.io/teaching/2021/fall/mcs260/slides/lecture28.html)\n",
    "* Slides from any other lecture of MCS 260, Fall 2021.\n",
    "* [Downey's book](https://greenteapress.com/thinkpython2/html/)\n",
    "\n",
    "(Lecture videos are not linked on worksheets, but are also useful to review while working on worksheets.  Video links can be found in the course [course Blackboard site](https://uic.blackboard.com/ultra/courses/_202683_1/cl/outline).)\n",
    "\n",
    "### Point distribution\n",
    "\n",
    "This homework assignment has 2 problems, numbered 2 and 3.  **Problem 2 is a bit longer than usual, so it gets 8 points this time.**  Thus the grading breakdown is:\n",
    "\n",
    "| Points | Item |\n",
    "| --- | --- |\n",
    "| 2 | Autograder |\n",
    "| 6 | Problem 2 |\n",
    "| **8** | Total |\n",
    "\n",
    "\n",
    "### What to do if you're stuck\n",
    "\n",
    "Ask your instructor or TA a question by email, in office hours, or on discord."
   ]
  },
  {
   "cell_type": "markdown",
   "metadata": {},
   "source": [
    "## (  1. There's no problem 1  )\n",
    "\n",
    "Gradescope will show the results of the automated syntax check of all submitted files as the score for problem 1."
   ]
  },
  {
   "cell_type": "markdown",
   "metadata": {},
   "source": [
    "## 2. Chemical element class\n",
    "\n",
    "Create a file `hwk10prob2.py` that contains a single class definition, for a class `Element`.  Objects in this class will store chemical elements.  The class should have the following behavior:\n",
    "\n",
    "* The constructor has three required arguments other than `self`.  They are:\n",
    "    * `Z`, the atomic number of the element (a positive integer that uniquely identifies it), e.g. `3`\n",
    "    * `name`, the full name of the element, e.g. `Lithium`\n",
    "    * `symbol`, the one- or two-letter symbol used to represent the element, e.g. `Li`\n",
    "* The constructor stores its arguments as attributes of `self`, so e.g. an `Element` object `e` has attributes `e.Z`, `e.name`, and `e.symbol`.\n",
    "* The `__str__` method returns a string representation in this format: `Lithium (#3)`.  (It doesn't print anything, it just returns the relevant string.)\n",
    "* The `__repr__` method returns the same thing as `__str__`.  (It doesn't print anything, it just returns the relevant string.)\n",
    "* The `==` operator is overloaded by a method `__eq__` of this class, which checks whether the object this element is being compared to has the same atomic number, returning a boolean.  If the other object has a different atomic number, or if it isn't an instance of class `Element`, then this method should return `False`.\n",
    "\n",
    "Below is some test code that should work once you've defined this class, and the expected output is shown below it.  **Don't include this code in your submission. Use it to test your work, but then only submit `hwk10prob2.py` containing a single class definition.**\n",
    "\n",
    "Make sure there are docstrings at the file, class, and method level."
   ]
  },
  {
   "cell_type": "code",
   "execution_count": 10,
   "metadata": {},
   "outputs": [
    {
     "name": "stdout",
     "output_type": "stream",
     "text": [
      "Testing Element.__str__:\n",
      "Silver (#47)\n",
      "Potassium (#19)\n",
      "\n",
      "Testing Element.__repr__:\n",
      "Silver (#47)\n",
      "Potassium (#19)\n",
      "\n",
      "Testing existence of attributes:\n",
      "Z = 47\n",
      "name = Silver\n",
      "symbol = Ag\n",
      "\n",
      "Testing equality:\n",
      "In a case with expected result True: True\n",
      "In a case with expected result False: False\n",
      "In a case with expected result False: False\n"
     ]
    }
   ],
   "source": [
    "import hwk10prob2\n",
    "\n",
    "a = hwk10prob2.Element(Z=47,name=\"Silver\",symbol=\"Ag\")\n",
    "b = hwk10prob2.Element(Z=47,name=\"Silber\",symbol=\"Ag\") # German name\n",
    "c = hwk10prob2.Element(19,\"Potassium\",\"K\") # pass arguments positionally instead of using keywords\n",
    "\n",
    "print(\"Testing Element.__str__:\")\n",
    "print(a)\n",
    "print(c)\n",
    "print(\"\\nTesting Element.__repr__:\")\n",
    "print(a.__repr__())\n",
    "print(c.__repr__())\n",
    "print(\"\\nTesting existence of attributes:\")\n",
    "print(\"Z =\",a.Z)\n",
    "print(\"name =\",a.name)\n",
    "print(\"symbol =\",a.symbol)\n",
    "print(\"\\nTesting equality:\")\n",
    "print(\"In a case with expected result True:\",a==b) # comparison should consider only Z, ignoring name and symbol \n",
    "print(\"In a case with expected result False:\",a==c)\n",
    "print(\"In a case with expected result False:\",a==\"whatever\")"
   ]
  },
  {
   "cell_type": "markdown",
   "metadata": {},
   "source": [
    "## Revision history\n",
    "\n",
    "* 2021-10-28 Initial release"
   ]
  }
 ],
 "metadata": {
  "kernelspec": {
   "display_name": "Python 3",
   "language": "python",
   "name": "python3"
  },
  "language_info": {
   "codemirror_mode": {
    "name": "ipython",
    "version": 3
   },
   "file_extension": ".py",
   "mimetype": "text/x-python",
   "name": "python",
   "nbconvert_exporter": "python",
   "pygments_lexer": "ipython3",
   "version": "3.8.10"
  }
 },
 "nbformat": 4,
 "nbformat_minor": 4
}
