{
 "cells": [
  {
   "cell_type": "markdown",
   "metadata": {},
   "source": [
    "# MCS 260 Fall 2021 Homework 8\n",
    "\n",
    "* Course instructor: Emily Dumas"
   ]
  },
  {
   "cell_type": "markdown",
   "metadata": {},
   "source": [
    "## Instructions:\n",
    "\n",
    "* Complete the problems below, which ask you to write Python scripts.\n",
    "* Upload your python code directly to gradescope, i.e. upload the `.py` files containing your work.  (If you upload a screenshot or other file format, you won't get credit.)\n",
    "\n",
    "### Deadline\n",
    "This homework assignment must be submitted in Gradescope by 10am CST on Tuesday, October 19, 2021.\n",
    "\n",
    "### Topic\n",
    "This homework focuses on **exceptions**, the **os module**, and the function- and assignment-related concepts from Lecture 20 (multiple return values, tuples, tuple assignment, variadic functions, iterable unpacking).\n",
    "\n",
    "### Collaboration\n",
    "\n",
    "**Collaboration is prohibited**, and you may only access resources (books, online, etc.) listed below.\n",
    "\n",
    "### Resources you may consult\n",
    "\n",
    "The course materials you may refer to for this homework are:\n",
    "\n",
    "* [Worksheet 8 Solutions](https://www.dumas.io/teaching/2021/fall/mcs260/nbview/worksheets/worksheet8soln.html)\n",
    "* [Sample programs](https://github.com/emilydumas/mcs260fall2021/tree/main/samplecode)\n",
    "\n",
    "* [Lecture 18 - Exceptions](https://www.dumas.io/teaching/2021/fall/mcs260/slides/lecture18.html)\n",
    "* [Lecture 19 - The os module](https://www.dumas.io/teaching/2021/fall/mcs260/slides/lecture19.html)\n",
    "* [Lecture 20 - More on functions and assignment](https://www.dumas.io/teaching/2021/fall/mcs260/slides/lecture20.html)\n",
    "* Slides from any other lecture of MCS 260, Fall 2021\n",
    "* [Downey's book](https://greenteapress.com/thinkpython2/html/)\n",
    "\n",
    "### Point distribution\n",
    "\n",
    "This homework assignment has 2 problems, numbered 2 and 3.  The grading breakdown is:\n",
    "\n",
    "| Points | Item |\n",
    "| --- | --- |\n",
    "| 2 | Autograder |\n",
    "| 4 | Problem 2 |\n",
    "| 4 | Problem 3 |\n",
    "| **10** | Total |\n",
    "\n",
    "\n",
    "### What to do if you're stuck\n",
    "\n",
    "Ask your instructor or TA a question by email, in office hours, or on discord."
   ]
  },
  {
   "cell_type": "markdown",
   "metadata": {},
   "source": [
    "## (  1. There's no problem 1  )\n",
    "\n",
    "Gradescope will show the results of the automated syntax check of all submitted files as the score for problem 1."
   ]
  },
  {
   "cell_type": "markdown",
   "metadata": {},
   "source": [
    "## 2. Robust chemical element CSV to JSON\n",
    "\n",
    "In [Homework 7, problem 3](https://www.dumas.io/teaching/2021/fall/mcs260/nbview/homework/homework7soln.html#3.-Chemical-element-CSV-to-JSON) (titled \"Chemical element CSV to JSON\"), you wrote a program to convert a CSV file containing data about chemical elements to a JSON file.  The program used hard-coded filenames `elements.csv` and `elements.json`.\n",
    "\n",
    "Modify this program (either start with one of the solutions posted to the course web site, or your own solution) so that it is robust to all of the following conditions:\n",
    "\n",
    "* `elements.csv` does not exist\n",
    "* `elements.csv` exists and is a CSV file, but it has fewer than 3 columns\n",
    "* `elements.csv` exists and is a CSV file with columns called `number`, `abbreviation`, and `name`, but some of the values in the column `number` are not integers\n",
    "\n",
    "If any of these conditions arises, the program should print an error message describing the situation and then exit without creating `elements.json` nor writing anything to it.\n",
    "\n",
    "**Hint:** You can detect these error conditions because they cause **exceptions**.  I recommend forcing each of these things to happen and checking the type of exception that results.\n",
    "\n",
    "Save the result as `hwk8prob2.py`."
   ]
  },
  {
   "cell_type": "markdown",
   "metadata": {},
   "source": [
    "## 3. Listing Python files containing the word \"Lecture\"\n",
    "\n",
    "### Motivation\n",
    "Most of the sample programs we've written in lecture contain a comment listing the lecture or lectures in which we worked on or discussed the program.  Usually such a comment looks like this:\n",
    "```\n",
    "# Lecture 12\n",
    "```\n",
    "or this:\n",
    "```\n",
    "# MCS 260 Fall 2021 Lecture 9\n",
    "```\n",
    "This problem is motivated by the question: *How could you write a Python script to find all such example programs that mention a specific lecture?*\n",
    "\n",
    "### Your task\n",
    "Write a program that prints a list of names of all files in the current directory that meet both of the following criteria:\n",
    "1. The filename ends with `.py`.\n",
    "2. The text inside the file contains the string `Lecture` somewhere.\n",
    "\n",
    "To test this program, you should probably create another file in the current working directory that ends with `.py` and which contains the string `Lecture` somewhere!\n",
    "\n",
    "You don't need to split a file into words for this problem; for example, if a file has first line `asdfLecturefghil` and its name ends in `.py`, this program should print its name.\n",
    "\n",
    "Save the result as `hwk8prob3.py`.\n",
    "\n",
    "**Restricted methods note:** For full credit your answer may only import these modules: `os`, `json`, and `csv`.\n",
    "\n",
    "**BE CAREFUL:** This program should only open files for *reading*.  It would be dangerous to open all files in the current directory for writing, because that would delete the current contents!"
   ]
  },
  {
   "cell_type": "markdown",
   "metadata": {},
   "source": [
    "Example: When I run a program meeting the specifications of this problem with the current working directory set to the samplecode directory for MCS 260, the output is:\n",
    "```\n",
    "quadroots.py\n",
    "wordlist.py\n",
    "jsonreaddemo.py\n",
    "wordstats3file.py\n",
    "terminal.py\n",
    "terminal_2pm.py\n",
    "inputyesno.py\n",
    "terminal2.py\n",
    "collatz.py\n",
    "csvwritedemo.py\n",
    "rectangle.py\n",
    "parentheses.py\n",
    "csvdictreaddemo.py\n",
    "greet.py\n",
    "csvinfo.py\n",
    "spillreport.py\n",
    "quadsquare.py\n",
    "csvreaddemo.py\n",
    "wordstats3.py\n",
    "terminal_10am.py\n",
    "charactertype.py\n",
    "parentheses2.py\n",
    "collatz_nofunction.py\n",
    "```"
   ]
  },
  {
   "cell_type": "markdown",
   "metadata": {},
   "source": [
    "## Revision history\n",
    "\n",
    "* 2021-10-14 Initial release\n",
    "* 2021-10-14 Fix typo in problem 2"
   ]
  }
 ],
 "metadata": {
  "kernelspec": {
   "display_name": "Python 3",
   "language": "python",
   "name": "python3"
  },
  "language_info": {
   "codemirror_mode": {
    "name": "ipython",
    "version": 3
   },
   "file_extension": ".py",
   "mimetype": "text/x-python",
   "name": "python",
   "nbconvert_exporter": "python",
   "pygments_lexer": "ipython3",
   "version": "3.8.10"
  }
 },
 "nbformat": 4,
 "nbformat_minor": 4
}
