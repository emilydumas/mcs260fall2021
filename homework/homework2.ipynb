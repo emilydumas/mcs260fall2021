{
 "cells": [
  {
   "cell_type": "markdown",
   "metadata": {},
   "source": [
    "# MCS 260 Fall 2021 Homework 2\n",
    "\n",
    "* Course instructor: Emily Dumas"
   ]
  },
  {
   "cell_type": "markdown",
   "metadata": {},
   "source": [
    "## Instructions:\n",
    "\n",
    "This is the first homework where you'll write Python code, so the instructions are detailed and long.  The actual problems are brief.\n",
    "\n",
    "### Deadline\n",
    "This homework assignment must be submitted in Gradescope by 10am CST on Wednesday, September 8, 2021.\n",
    "\n",
    "### Topic\n",
    "This homework assignment is about the topics of worksheet 2, i.e. **variables**, the built-in types **int**, **float**, and **string**, and the use of **booleans and conditionals**.\n",
    "\n",
    "### Collaboration\n",
    "\n",
    "**No collaboration is permitted**, and you may only access resources (books, online, etc.) listed below.\n",
    "\n",
    "### Resources you may consult\n",
    "\n",
    "The course materials you may refer to for this homework are:\n",
    "\n",
    "Expected to be most useful:\n",
    "* [Worksheet 2 Solutions](https://www.dumas.io/teaching/2021/fall/mcs260/nbview/worksheets/worksheet2soln.html)\n",
    "* [Lecture 2 - REPL, scripts, arithmetic](https://www.dumas.io/teaching/2021/fall/mcs260/slides/lecture2.html)\n",
    "* [Lecture 3 - comments, variables, input](https://www.dumas.io/teaching/2021/fall/mcs260/slides/lecture3.html)\n",
    "* [Lecture 4 - booleans and conditionals](https://www.dumas.io/teaching/2021/fall/mcs260/slides/lecture4.html)\n",
    "* [Downey's text](https://greenteapress.com/thinkpython2/)\n",
    "* All lecture videos posted on the [course Blackboard site](https://uic.blackboard.com/ultra/courses/_202683_1/cl/outline).\n",
    "\n",
    "Allowed and possibly useful, but not the most relevant:\n",
    "* [Worksheet 1](https://www.dumas.io/teaching/2021/fall/mcs260/nbview/worksheets/worksheet1.html)\n",
    "* [Lecture 1](https://www.dumas.io/teaching/2021/fall/mcs260/slides/lecture1.html)\n",
    "\n",
    "\n",
    "### Point distribution\n",
    "This homework assignment has 2 problems, numbered #2 and #3.  **Each problem is worth 4 points.**\n",
    "\n",
    "Because of the way Gradescope works, there will also be a problem 1 worth 0 points.\n",
    "\n",
    "### What to do if you're stuck\n",
    "\n",
    "Ask your instructor or TA a question by email, in office hours, or on discord.\n",
    "\n",
    "### How to submit\n",
    "\n",
    "This is a Gradescope programming assignment, meaning that Gradescope will expect you to upload your `.py` files.  You need to upload both programs to Gradescope every time you submit.  For advice on how to do that, see the section \"Help submitting\" below.\n",
    "\n",
    "### More advice\n",
    "\n",
    "At the very end of this document there's some advice about how to work on these problems that duplicates things discussed in Lab 1, Worksheet 1, etc., but which might be helpful."
   ]
  },
  {
   "cell_type": "markdown",
   "metadata": {},
   "source": [
    "## 1. There's no problem 1\n",
    "\n",
    "In Gradescope, problem 1 is used to report the result of autograder testing.  **In this homework, the autograder will ONLY give you advice (warn you of syntax issues etc.) but it won't actually assign any points.**  Everyone will get a full score (0 out of 0) on problem 1."
   ]
  },
  {
   "cell_type": "markdown",
   "metadata": {},
   "source": [
    "## 2. Bumblebee detector\n",
    "Write a program `hwk2prob2.py` that waits for the user to type **one line of text**.\n",
    "\n",
    "If the user types `Bumblebee` (capital B) followed by the Enter key, the program should print `BUMBLEBEE DETECTED`.  Otherwise, it should print `NO BUMBLEBEE`.\n",
    "\n",
    "Sample usage (first line is always what the user typed):\n",
    "\n",
    "* ```\n",
    "Bumblebee\n",
    "BUMBLEBEE DETECTED\n",
    "```\n",
    "\n",
    "* ```\n",
    "Feral raccoon holding an improvised spear\n",
    "NO BUMBLEBEE\n",
    "```\n",
    "\n",
    "* ```\n",
    "This line of text has Bumblebee in it but is not just that word by itself\n",
    "NO BUMBLEBEE\n",
    "```"
   ]
  },
  {
   "cell_type": "markdown",
   "metadata": {},
   "source": [
    "## 3. Exponent calculator\n",
    "\n",
    "Write a program `hwk2prob3.py` that asks the user for a base $b$ and exponent $x$ (both of them floats) and which then prints the value of $b^x$ (i.e. $b$ raised to the power $x$). You don't need to do any checking to make sure the input is valid.\n",
    "\n",
    "The interface should look like this (two examples shown):\n",
    "* ```\n",
    "Base: 2.5\n",
    "Exponent: 8\n",
    "1525.87890625\n",
    "```\n",
    "(Here, `2.5` and `8` are values typed by the user.)\n",
    "* ```\n",
    "Base: 64\n",
    "Exponent: 0.5\n",
    "8.0\n",
    "```\n",
    "(Here, `64` and `0.5` are values typed by the user.)"
   ]
  },
  {
   "cell_type": "markdown",
   "metadata": {},
   "source": [
    "# Help and advice (optional)"
   ]
  },
  {
   "cell_type": "markdown",
   "metadata": {},
   "source": [
    "## Help submitting\n",
    "\n",
    "**IMPORTANT: Don't submit a program until you've tried it locally (on the computer you use to write programs) and you think it works.**\n",
    "\n",
    "This assignment requires you to upload 2 files every time you submit.  Students sometimes find the Gradescope interface for **multiple** file uploads a little confusing, and end up submitting just one file.  Here are detailed instructions:\n",
    "\n",
    "* Find \"Homework 2\" in Gradescope and click on it to submit.\n",
    "\n",
    "* This should open a window asking you to upload files, looking a bit like this:\n",
    "![image of upload dialog box](images/submit1.png)\n",
    "\n",
    "* Either drag both files onto the dotted box (e.g. from the explorer), or click on the dotted box to browse and select one file.\n",
    "\n",
    "* If you dragged both files into the dotted box, skip ahead to the last step.\n",
    "\n",
    "*  If you browsed to select one file, you should now you should see a window looking like this:\n",
    "![image of upload dialog box after uploading one file](images/submit2.png)\n",
    "\n",
    "* To select a second file, click the link \"Browse\", which is marked with an arrow in the image above.  It's not a button; it is a link in the middle of the dialog box.\n",
    "\n",
    "* Finally, when all your files appear in the window, click the large green \"Upload\" button."
   ]
  },
  {
   "cell_type": "markdown",
   "metadata": {},
   "source": [
    "## Help on the basics of making and running programs\n",
    "\n",
    "Below is a summary of some things from worksheet 1 and the first couple of lectures about how to write and run Python programs.  These are instructions for Windows.  If you try to determine the corresponding steps for Mac of Linux and have trouble, let me know.\n",
    "\n",
    "1. Create a folder to store your work.\n",
    "\n",
    "2. Open Visual Studio Code and create a new file (`hwk2prob2.py`).  Save it in the folder you just created.\n",
    "\n",
    "3. Open Windows Powershell\n",
    "\n",
    "4. In Powershell, move to the folder with the new file.  The easiest way to do that is to go back to Visual Studio Code, right-click the filename tab, and select \"Copy Path\".  Go back to Visual Studio Code and paste the result.  It will look something like this:\n",
    "```\n",
    "C:\\Users\\ddumas\\Desktop\\MCS 260\\Homework 2\\hwk2prob2.py\n",
    "```\n",
    "Edit that to a \"cd\" command that changes directory to the folder by adding `cd ` and a space at the beginning, putting quotes around the path, and removing the \"hwk2prob2.py\" filename:\n",
    "```\n",
    "cd \"C:\\Users\\ddumas\\Desktop\\MCS 260\\Homework 2\\\"\n",
    "```\n",
    "This is a command you only need to run once.  Afterward, your Powershell will be opened in the correct folder and you can run the programs as many times as you need to.\n",
    "\n",
    "5. Run the script `hwk2prob2.py` by entering this command in Powershell:\n",
    "```\n",
    "python3 hwk2prob2.py\n",
    "```\n",
    "Assuming that file is empty, you should either get a Powershell prompt back again immediately or you'll see an error.  If you see an error, it probably means you are not in the correct folder.\n",
    "\n",
    "6. Now, write some code in `hwk2prob2.py`.  When you think it will work, move on to...\n",
    "\n",
    "7. Run the script `hwk2prob2.py` again and test whether it works.  Go back to step 6 if needed.\n",
    "\n",
    "8. Create, write, and test `hwk2prob3.py`."
   ]
  },
  {
   "cell_type": "markdown",
   "metadata": {},
   "source": [
    "### Revision history\n",
    "\n",
    "* 2021-09-02 Initial publication\n",
    "* 2021-09-05 Add clarification about containment vs equality in problem 2"
   ]
  }
 ],
 "metadata": {
  "kernelspec": {
   "display_name": "Python 3",
   "language": "python",
   "name": "python3"
  },
  "language_info": {
   "codemirror_mode": {
    "name": "ipython",
    "version": 3
   },
   "file_extension": ".py",
   "mimetype": "text/x-python",
   "name": "python",
   "nbconvert_exporter": "python",
   "pygments_lexer": "ipython3",
   "version": "3.8.10"
  }
 },
 "nbformat": 4,
 "nbformat_minor": 4
}
