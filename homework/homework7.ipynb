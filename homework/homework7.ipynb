{
 "cells": [
  {
   "cell_type": "markdown",
   "metadata": {},
   "source": [
    "# MCS 260 Fall 2021 Homework 7\n",
    "\n",
    "* Course instructor: Emily Dumas"
   ]
  },
  {
   "cell_type": "markdown",
   "metadata": {},
   "source": [
    "## Instructions:\n",
    "\n",
    "* Complete the problems below, which ask you to write Python scripts.\n",
    "* Upload your python code directly to gradescope, i.e. upload the `.py` files containing your work.  (If you upload a screenshot or other file format, you won't get credit.)\n",
    "\n",
    "### Deadline\n",
    "This homework assignment must be submitted in Gradescope by 10am CST on Tuesday, October 5, 2021.\n",
    "\n",
    "### Topic\n",
    "This homework focuses on **JSON** and **CSV** files, as well as the data structures **stack** and **queue**.\n",
    "\n",
    "### Collaboration\n",
    "\n",
    "**Collaboration is prohibited**, and you may only access resources (books, online, etc.) listed below.\n",
    "\n",
    "### Resources you may consult\n",
    "\n",
    "The course materials you may refer to for this homework are:\n",
    "\n",
    "* [Worksheet 7 Solutions](https://www.dumas.io/teaching/2021/fall/mcs260/nbview/worksheets/worksheet7soln.html)\n",
    "* [Sample programs](https://github.com/emilydumas/mcs260fall2021/tree/main/samplecode), especially the ones that have `json` or `csv` in the name.\n",
    "* [Lecture 15 - JSON](https://www.dumas.io/teaching/2021/fall/mcs260/slides/lecture15.html)\n",
    "* [Lecture 16 - CSV](https://www.dumas.io/teaching/2021/fall/mcs260/slides/lecture16.html)\n",
    "* [Lecture 17 - Stacks and queues](https://www.dumas.io/teaching/2021/fall/mcs260/slides/lecture17.html)\n",
    "* [Downey's book](https://greenteapress.com/thinkpython2/html/)\n",
    "\n",
    "### Point distribution\n",
    "\n",
    "This homework assignment has 2 problems, numbered 2 and 3.  The grading breakdown is:\n",
    "\n",
    "| Points | Item |\n",
    "| --- | --- |\n",
    "| 2 | Autograder |\n",
    "| 4 | Problem 2 |\n",
    "| 4 | Problem 3 |\n",
    "| **10** | Total |\n",
    "\n",
    "\n",
    "### What to do if you're stuck\n",
    "\n",
    "Ask your instructor or TA a question by email, in office hours, or on discord."
   ]
  },
  {
   "cell_type": "markdown",
   "metadata": {},
   "source": [
    "## (  1. There's no problem 1  )\n",
    "\n",
    "Gradescope will show the results of the automated syntax check of all submitted files as the score for problem 1."
   ]
  },
  {
   "cell_type": "markdown",
   "metadata": {},
   "source": [
    "## 2. Multiple delimiter matching\n",
    "\n",
    "Modify the sample program [parentheses.py](https://github.com/emilydumas/mcs260fall2021/blob/main/samplecode/parentheses.py) we developed in class to create a new program called `hwk7prob2.py` that knows about both brackets `[`,`]` and parentheses `(`,`)` and can check for proper matching in an expression that may contain both.  Brackets can match brackets, and parentheses can match parentheses, but a bracket cannot match a parenthesis.  There's no restriction on which grouping symbol can be used inside the other, so all of these expressions are valid:\n",
    "* `[(1+2) - (3+4)]`\n",
    "* `([1 + (2-3)]+4)`\n",
    "* `[5 * [6 - 7]]`\n",
    "\n",
    "Notice that there are three kinds of errors that the program needs to be able to report:\n",
    "\n",
    "1. Too many left delimiters: some brackets or parentheses remain open at the end of the expression, e.g. `[(1+2)-3` or `([5+6]`\n",
    "1. Too many right delimiters: A `]` or `)` appears when there isn't anything to match it with, e.g. `(1+2)]` or `((1-2)+4))`\n",
    "1. Delimiter type mistmatch: A `]` would match an earlier `(`, or a `)` would match an earlier `[`, e.g. `[1+2)` or `((5+6)-7]`\n",
    "\n",
    "The first two errors are also present in the example `parentheses.py`, but the third type is new to this modified version of the program and you need to add code to detect and report it.\n",
    "\n",
    "**Hint:** The basic structure of the program won't change very much, but you *will* need to change what is stored on the stack.  The original `parentheses.py` stores a position (integer), and that's no longer enough information. I suggest you make it so that instead of pushing an integer onto the stack, the new program pushes a list like `[\"(\",7]` or `[\"[\",5]` that indicates both the delimiter type (first element) *and* the position in the string (second element).  This will, of course, change the way you access the position when you pop something off the stack.  Another option is to push a dictionary like `{\"delimiter\": \"(\", \"position\": 7}`.\n",
    "\n",
    "**VERY IMPORTANT:** For full credit, you must not leave any comments or docstrings in `parentheses.py` that are inaccurate because of your changes.  Whenever you edit a program, you need to make sure you edit any comments that are affected by your changes!"
   ]
  },
  {
   "cell_type": "markdown",
   "metadata": {},
   "source": [
    "## 3. Chemical element CSV to JSON\n",
    "\n",
    "Suppose I have a CSV file called `elements.csv` containing a list of chemical elements that looks like this:\n",
    "```\n",
    "number,abbreviation,name\n",
    "11,Na,Sodium\n",
    "80,Hg,Mercury\n",
    "```\n",
    "\n",
    "Write a program `hwk7prob3.py` that will read this file and write a JSON file `elements.json` in the following format:\n",
    "```\n",
    "[ {\"number\": 11, \"abbreviation\": \"Na\", \"name\": \"Sodium\"},\n",
    "  {\"number\": 80, \"abbreviation\": \"Hg\", \"name\": \"Mercury\"} ]\n",
    "```\n",
    "\n",
    "Notice how the output JSON file contains a list of objects, and each object has keys that match the three column names from the CSV file.  Also, the atomic number field is an integer in the JSON output (whereas it will be a string when you read it using the `csv` module).\n",
    "\n",
    "You can use the CSV example above as the content of a file `elements.csv` for testing purposes, but your program needs to be able to handle any CSV file listing chemical elements in that format (with three columns, \"number\", \"abbreviation\", and \"name\", appearing in that order).\n",
    "\n",
    "Your program can assume that `elements.csv` is in the current working directory when it is run.\n",
    "\n",
    "**Restricted methods note:** For full credit your answer needs to use the `csv` module to read the file `elements.csv`."
   ]
  },
  {
   "cell_type": "markdown",
   "metadata": {},
   "source": [
    "## Revision history\n",
    "\n",
    "* 2021-10-07 Initial release"
   ]
  }
 ],
 "metadata": {
  "kernelspec": {
   "display_name": "Python 3",
   "language": "python",
   "name": "python3"
  },
  "language_info": {
   "codemirror_mode": {
    "name": "ipython",
    "version": 3
   },
   "file_extension": ".py",
   "mimetype": "text/x-python",
   "name": "python",
   "nbconvert_exporter": "python",
   "pygments_lexer": "ipython3",
   "version": "3.8.10"
  }
 },
 "nbformat": 4,
 "nbformat_minor": 4
}
