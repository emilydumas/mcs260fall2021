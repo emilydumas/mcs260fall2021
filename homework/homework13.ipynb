{
 "cells": [
  {
   "cell_type": "markdown",
   "metadata": {},
   "source": [
    "# MCS 260 Fall 2021 Homework 13\n",
    "\n",
    "* Course instructor: Emily Dumas"
   ]
  },
  {
   "cell_type": "markdown",
   "metadata": {},
   "source": [
    "## Instructions:\n",
    "\n",
    "* Complete the problems below, which ask you to write Python scripts.\n",
    "* Upload your python code directly to gradescope, i.e. upload the `.py` files containing your work.  (If you upload a screenshot or other file format, you won't get credit.)\n",
    "\n",
    "### Deadline\n",
    "This homework assignment must be submitted in Gradescope by 10am CST on Tuesday, November 23, 2021.\n",
    "\n",
    "### Topic\n",
    "\n",
    "This homework assignment focuses on  **networks** in general and using **HTTP** in Python (servers and clients).\n",
    "\n",
    "### Collaboration\n",
    "\n",
    "**Collaboration is prohibited**, and you may only access resources (books, online, etc.) listed below.\n",
    "\n",
    "### Resources you may consult\n",
    "\n",
    "The course materials and other resources you are allowed to refer to for this homework are:\n",
    "\n",
    "* [Worksheet 13 solution](https://www.dumas.io/teaching/2021/fall/mcs260/nbview/worksheets/worksheet13soln.html)\n",
    "* [Sample programs](https://github.com/emilydumas/mcs260fall2021/tree/main/samplecode)\n",
    "* [Lecture 33 - Network architecture](https://www.dumas.io/teaching/2021/fall/mcs260/slides/lecture33.html)\n",
    "* [Lecture 34 - Requesting URLs in Python](https://www.dumas.io/teaching/2021/fall/mcs260/slides/lecture34.html)\n",
    "* [Lecture 35 - Making simple APIs with Flask](https://www.dumas.io/teaching/2021/fall/mcs260/slides/lecture35.html)\n",
    "* [Downey's book](https://greenteapress.com/thinkpython2/html/)\n",
    "\n",
    "(Lecture videos are not linked on course documents, but video links can be found in the course [course Blackboard site](https://uic.blackboard.com/ultra/courses/_202683_1/cl/outline).)\n",
    "\n",
    "### I know project 4 is underway\n",
    "\n",
    "The problems on this homework have been made a little more straightforward than usual.\n",
    "\n",
    "### Point distribution\n",
    "\n",
    "This homework assignment has 2 problems, numbered 2 and 3.  Thus the grading breakdown is:\n",
    "\n",
    "| Points | Item |\n",
    "| --- | --- |\n",
    "| 2 | Autograder |\n",
    "| 4 | Problem 2 |\n",
    "| 4 | Problem 3 |\n",
    "| **10** | Total |\n",
    "\n",
    "\n",
    "### What to do if you're stuck\n",
    "\n",
    "Ask your instructor or TA a question by email, in office hours, or on discord."
   ]
  },
  {
   "cell_type": "markdown",
   "metadata": {},
   "source": [
    "## IMPORTANT: Make sure you can load URLS\n",
    "\n",
    "You won't be able to complete problem 2 on this homework unless you are able to load HTTP URLs in Python.  That should be the case anywhere Python is installed and you have internet access, but it is worth checking to be sure.  Try these two commands in the Python REPL:\n",
    "\n",
    "```python\n",
    "import urllib.request\n",
    "urllib.request.urlopen(\"http://example.com/\")\n",
    "```\n",
    "If this doesn't work, contact your TA or instructor right away and copy the error message into your email.\n",
    "\n",
    "Here's what it looks like when these commands succeed:\n",
    "```\n",
    ">>> import urllib.request\n",
    ">>> urllib.request.urlopen(\"http://example.com/\")\n",
    "<http.client.HTTPResponse object at 0x7fdfd72ef6d0>\n",
    ">>>\n",
    "```"
   ]
  },
  {
   "cell_type": "markdown",
   "metadata": {},
   "source": [
    "## (  1. There's no problem 1  )\n",
    "\n",
    "Gradescope will show the results of the automated syntax check of all submitted files as the score for problem 1."
   ]
  },
  {
   "cell_type": "markdown",
   "metadata": {},
   "source": [
    "## 2. Is TVMaze working?\n",
    "\n",
    "Here is a URL that retrieves information about a specific television show episode from the TVMaze API:\n",
    "```\n",
    "http://api.tvmaze.com/episodes/209354\n",
    "```\n",
    "\n",
    "Write a program `hwk13prob2.py` that attempts to do the following:\n",
    "* Load the URL given above\n",
    "* Interpret the response as JSON\n",
    "\n",
    "If those steps work, it should simply print\n",
    "```\n",
    "TVMaze API seems to be working\n",
    "```\n",
    "But if one of the steps listed above fails, the program should exit with some kind of exception before printing the success message.  It's OK if the exception message is ugly and complicated; you don't need to catch it.\n",
    "\n",
    "Note that this program doesn't take any command line arguments.\n",
    "\n",
    "### Hints\n",
    "\n",
    "* Make a program that just attempts the operations and prints the success message.  Then temporarily change the URL it loads to simulate various failure modes, using e.g. a URL like `https://neverssl.com/asdfhjkahsdjkfbs` (returns 403 Forbidden HTTP error) and `http://example.com/` (returns HTML, which can't be interpreted as JSON).\n",
    "\n",
    "* Use the solution of worksheet 13, problem 1 as a starting point.\n",
    "\n",
    "### Restricted methods note\n",
    "\n",
    "* The only module(s) you are allowed to import are: `urllib.request`, `json`\n",
    "* You can only use Python syntax and techniques we've covered in MCS 260"
   ]
  },
  {
   "cell_type": "markdown",
   "metadata": {},
   "source": [
    "## 3. Heartbeat API\n",
    "\n",
    "Sometimes an API is used for something as simple as checking whether a computer is still running.\n",
    "\n",
    "Write a Flask API where accessing the document `/` (e.g. as `http://localhost:3000/`) will return a JSON object that simply contains\n",
    "```json\n",
    "{ \"up\": true }\n",
    "```\n",
    "which is the JSON way to encode the Python dictionary\n",
    "```python\n",
    "{ \"up\": True }\n",
    "```\n",
    "Put your Flask API in a file `hwk13prob3.py`.\n",
    "\n",
    "Note that this program doesn't take any command line arguments.\n",
    "\n",
    "### Hints\n",
    "\n",
    "* Remember, flask has a function `flask.jsonify` to turn a Python object into a suitable return type so that a URL will send back JSON data.  Check the worksheet 13 solutions for an example.\n",
    "\n",
    "* Use the solution of worksheet 13, problem 2 or the sample program `apielement.py` as a starting point.\n",
    "\n",
    "### Restricted methods note\n",
    "\n",
    "* The only module(s) you are allowed to import are: `flask`\n",
    "* You can only use Python syntax and techniques we've covered in MCS 260"
   ]
  },
  {
   "cell_type": "markdown",
   "metadata": {},
   "source": [
    "## Revision history\n",
    "\n",
    "* 2021-11-18 Initial publication"
   ]
  }
 ],
 "metadata": {
  "kernelspec": {
   "display_name": "Python 3",
   "language": "python",
   "name": "python3"
  },
  "language_info": {
   "codemirror_mode": {
    "name": "ipython",
    "version": 3
   },
   "file_extension": ".py",
   "mimetype": "text/x-python",
   "name": "python",
   "nbconvert_exporter": "python",
   "pygments_lexer": "ipython3",
   "version": "3.8.10"
  }
 },
 "nbformat": 4,
 "nbformat_minor": 4
}
