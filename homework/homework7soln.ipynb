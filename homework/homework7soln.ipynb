{
 "cells": [
  {
   "cell_type": "markdown",
   "metadata": {},
   "source": [
    "# MCS 260 Fall 2021 Homework 7 Solutions\n",
    "\n",
    "* Course instructor: Emily Dumas\n",
    "* Solutions prepared by: Johnny Joyce and Emily Dumas"
   ]
  },
  {
   "cell_type": "markdown",
   "metadata": {},
   "source": [
    "## Instructions:\n",
    "\n",
    "* Complete the problems below, which ask you to write Python scripts.\n",
    "* Upload your python code directly to gradescope, i.e. upload the `.py` files containing your work.  (If you upload a screenshot or other file format, you won't get credit.)\n",
    "\n",
    "### Deadline\n",
    "This homework assignment must be submitted in Gradescope by 10am CST on Tuesday, October 5, 2021.\n",
    "\n",
    "### Topic\n",
    "This homework focuses on **JSON** and **CSV** files, as well as the data structures **stack** and **queue**.\n",
    "\n",
    "### Collaboration\n",
    "\n",
    "**Collaboration is prohibited**, and you may only access resources (books, online, etc.) listed below.\n",
    "\n",
    "### Resources you may consult\n",
    "\n",
    "The course materials you may refer to for this homework are:\n",
    "\n",
    "* [Worksheet 7 Solutions](https://www.dumas.io/teaching/2021/fall/mcs260/nbview/worksheets/worksheet7soln.html)\n",
    "* [Sample programs](https://github.com/emilydumas/mcs260fall2021/tree/main/samplecode), especially the ones that have `json` or `csv` in the name.\n",
    "* [Lecture 15 - JSON](https://www.dumas.io/teaching/2021/fall/mcs260/slides/lecture15.html)\n",
    "* [Lecture 16 - CSV](https://www.dumas.io/teaching/2021/fall/mcs260/slides/lecture16.html)\n",
    "* [Lecture 17 - Stacks and queues](https://www.dumas.io/teaching/2021/fall/mcs260/slides/lecture17.html)\n",
    "* [Downey's book](https://greenteapress.com/thinkpython2/html/)\n",
    "\n",
    "### Point distribution\n",
    "\n",
    "This homework assignment has 2 problems, numbered 2 and 3.  The grading breakdown is:\n",
    "\n",
    "| Points | Item |\n",
    "| --- | --- |\n",
    "| 2 | Autograder |\n",
    "| 4 | Problem 2 |\n",
    "| 4 | Problem 3 |\n",
    "| **10** | Total |\n",
    "\n",
    "\n",
    "### What to do if you're stuck\n",
    "\n",
    "Ask your instructor or TA a question by email, in office hours, or on discord."
   ]
  },
  {
   "cell_type": "markdown",
   "metadata": {},
   "source": [
    "## (  1. There's no problem 1  )\n",
    "\n",
    "Gradescope will show the results of the automated syntax check of all submitted files as the score for problem 1."
   ]
  },
  {
   "cell_type": "markdown",
   "metadata": {},
   "source": [
    "## 2. Multiple delimiter matching\n",
    "\n",
    "Modify the sample program [parentheses.py](https://github.com/emilydumas/mcs260fall2021/blob/main/samplecode/parentheses.py) we developed in class to create a new program called `hwk7prob2.py` that knows about both brackets `[`,`]` and parentheses `(`,`)` and can check for proper matching in an expression that may contain both.  Brackets can match brackets, and parentheses can match parentheses, but a bracket cannot match a parenthesis.  There's no restriction on which grouping symbol can be used inside the other, so all of these expressions are valid:\n",
    "* `[(1+2) - (3+4)]`\n",
    "* `([1 + (2-3)]+4)`\n",
    "* `[5 * [6 - 7]]`\n",
    "\n",
    "Notice that there are three kinds of errors that the program needs to be able to report:\n",
    "\n",
    "1. Too many left delimiters: some brackets or parentheses remain open at the end of the expression, e.g. `[(1+2)-3` or `([5+6]`\n",
    "1. Too many right delimiters: A `]` or `)` appears when there isn't anything to match it with, e.g. `(1+2)]` or `((1-2)+4))`\n",
    "1. Delimiter type mistmatch: A `]` would match an earlier `(`, or a `)` would match an earlier `[`, e.g. `[1+2)` or `((5+6)-7]`\n",
    "\n",
    "The first two errors are also present in the example `parentheses.py`, but the third type is new to this modified version of the program and you need to add code to detect and report it.\n",
    "\n",
    "**Hint:** The basic structure of the program won't change very much, but you *will* need to change what is stored on the stack.  The original `parentheses.py` stores a position (integer), and that's no longer enough information. I suggest you make it so that instead of pushing an integer onto the stack, the new program pushes a list like `[\"(\",7]` or `[\"[\",5]` that indicates both the delimiter type (first element) *and* the position in the string (second element).  This will, of course, change the way you access the position when you pop something off the stack.  Another option is to push a dictionary like `{\"delimiter\": \"(\", \"position\": 7}`.\n",
    "\n",
    "**VERY IMPORTANT:** For full credit, you must not leave any comments or docstrings in `parentheses.py` that are inaccurate because of your changes.  Whenever you edit a program, you need to make sure you edit any comments that are affected by your changes!"
   ]
  },
  {
   "cell_type": "markdown",
   "metadata": {},
   "source": [
    "## Solution"
   ]
  },
  {
   "cell_type": "markdown",
   "metadata": {},
   "source": [
    "The hint offers two suggestions for how the change can be done, so we'll present solutions that use each of them."
   ]
  },
  {
   "cell_type": "markdown",
   "metadata": {},
   "source": [
    "### Solution 1: Push lists\n",
    "\n",
    "The solution below is a direct modification of the sample program parentheses.py, and not all that much has actually changed.  If you want to see just the **differences** between this and the original program, you can view that at this site: https://www.diffchecker.com/l2RU87mt. This website uses green to highlight lines which have been modified/added to the original."
   ]
  },
  {
   "cell_type": "code",
   "execution_count": 10,
   "metadata": {
    "codehighlighter": [
     [
      11,
      11
     ],
     [
      9,
      11
     ],
     [
      15,
      16
     ],
     [
      14,
      15
     ],
     [
      14,
      15
     ]
    ]
   },
   "outputs": [
    {
     "name": "stdout",
     "output_type": "stream",
     "text": [
      "Expression: [(1+2) - (3+4)]\n",
      "Matching delimiters found: (1+2)\n",
      "Matching delimiters found: (3+4)\n",
      "Matching delimiters found: [(1+2) - (3+4)]\n",
      "Parentheses matched successfully.\n"
     ]
    }
   ],
   "source": [
    "\"\"\"Detect matching of parentheses in an expression\"\"\"\n",
    "# MCS 260 Fall 2021 Lecture 17\n",
    "\n",
    "# Read expression (which should include parentheses/brackets)\n",
    "s = input(\"Expression: \")\n",
    "\n",
    "# We'll use a stack to keep track of all the \"(\" or \"[\"\n",
    "# that haven't been matched with \")\" or \"]\" yet.  Every\n",
    "# new opening delimiter we see gets pushed, and every closing\n",
    "# delimiter we see closes whatever is at the top of the stack.\n",
    "currently_open = []\n",
    "\n",
    "# We want both the characters of s and their positions\n",
    "# so we use enumerate()\n",
    "for i,c in enumerate(s):\n",
    "    # c is character from s\n",
    "    # i is the position (0-based index) of that character in s\n",
    "    if c == \"(\" or c == \"[\":\n",
    "        # New left paren/bracket opened; push it\n",
    "        currently_open.append([c,i])\n",
    "    elif c == \")\" or c == \"]\":\n",
    "        # Right delim closes whatever left delim is at the\n",
    "        # top of the stack.  But we need to make sure the \n",
    "        # stack is nonempty before trying to pop.\n",
    "        try:\n",
    "            # i0 and c0 are the corresponding i and c \n",
    "            # for the opening paren/bracket\n",
    "            c0, i0 = currently_open.pop()\n",
    "            \n",
    "            if (c0 == \"(\" and c == \"]\") or (c0==\"[\" and c == \")\"):\n",
    "                print(\"Error:\")\n",
    "                print(s)\n",
    "                print(\" \"*i0 + \"^ has mismatched delimiter types\")\n",
    "                print(\"First delimiter is \" + c0)\n",
    "                print(\"Second delimiter is \" + c)\n",
    "                exit()\n",
    "            else:\n",
    "                print(\"Matching delimiters found: \" + s[i0:i+1])\n",
    "\n",
    "        except IndexError:\n",
    "            # Error because there was no opening delim on the\n",
    "            # stack to match the closing delimiter\n",
    "            print(\"Error:\")\n",
    "            print(s)\n",
    "            print(\" \"*i + \"^ does not match any preceding (\")\n",
    "            exit()\n",
    "    \n",
    "# are there any delimiters open?\n",
    "# If so, it means that there is a ( or [ with no match\n",
    "if len(currently_open) > 0:\n",
    "    print(\"Error:\")\n",
    "    print(s)\n",
    "    print(\" \"*currently_open.pop() + \"^ is not matched by any following )\")\n",
    "else:\n",
    "    print(\"Delimiters matched successfully.\")\n",
    "\n",
    "# Examples of what we expect the error messages to look like:\n",
    "\n",
    "# (1 + ((2+3) - 5\n",
    "#      ^  is not matched by any following )\n",
    "\n",
    "# ( 1 + (3-4))) + 5\n",
    "#             ^ does not match any preceding ("
   ]
  },
  {
   "cell_type": "markdown",
   "metadata": {},
   "source": [
    "### Solution 2: Push dictionaries\n",
    "\n",
    "Where the previous solution used lists to keep track of both position and delimiter type, this one uses a dictionary.  It also demonstrates an alternative way to record what the matching pairs of delimiters are, and it prints a slightly fancier error message.\n",
    "\n",
    "This solution involves changing more lines of `parentheses.py`."
   ]
  },
  {
   "cell_type": "code",
   "execution_count": null,
   "metadata": {},
   "outputs": [],
   "source": [
    "\"\"\"Detect matching of parentheses and brackets in an expression\"\"\"\n",
    "# Based on `parentheses.py` from MCS 260 Lecture 17 and 18\n",
    "\n",
    "s = input(\"Expression: \")\n",
    "\n",
    "# left delimiters that haven't been matched yet\n",
    "currently_open = []\n",
    "\n",
    "# record which left delimiters match right ones\n",
    "matching_left = {\n",
    "    \")\": \"(\",\n",
    "    \"]\": \"[\"\n",
    "}\n",
    "# This could be handled in other ways, but having a dictionary\n",
    "# makes the conditionals a bit shorter\n",
    "\n",
    "for i,c in enumerate(s):\n",
    "    if c in [\"(\",\"[\"]:\n",
    "        # New left delimiter; push it\n",
    "        currently_open.append( {\"delimiter\": c, \"position\": i} )\n",
    "    elif c in [\")\",\"]\"]:\n",
    "        try:\n",
    "            just_closed = currently_open.pop()\n",
    "        except IndexError:\n",
    "            print(\"Error:\")\n",
    "            print(s)\n",
    "            print(\" \"*i + \"^ does not match any preceding delimiter\")\n",
    "            exit()\n",
    "        if just_closed[\"delimiter\"] != matching_left[c]:\n",
    "            # Tried to match a bracket and a parenthesis.\n",
    "            # We print a fancy error message here, but any solution\n",
    "            # that detected this condition is acceptable.\n",
    "            print(\"Error:\")\n",
    "            print(s)\n",
    "            j = just_closed[\"position\"]\n",
    "            print(\" \"*j + \"^\" + \"-\"*(i-1-j) + \"^ tried to match bracket and parenthesis\")\n",
    "            exit()\n",
    "    \n",
    "# are there any delimiters still open?\n",
    "if len(currently_open) > 0:\n",
    "    never_closed = currently_open.pop()\n",
    "    print(\"Error:\")\n",
    "    print(s)\n",
    "    print(\" \"*never_closed[\"position\"] + \"^ is not matched by anything\")\n",
    "else:\n",
    "    print(\"Parentheses and brackets matched successfully.\")"
   ]
  },
  {
   "cell_type": "markdown",
   "metadata": {},
   "source": [
    "## 3. Chemical element CSV to JSON\n",
    "\n",
    "Suppose I have a CSV file called `elements.csv` containing a list of chemical elements that looks like this:\n",
    "```\n",
    "number,abbreviation,name\n",
    "11,Na,Sodium\n",
    "80,Hg,Mercury\n",
    "```\n",
    "\n",
    "Write a program `hwk7prob3.py` that will read this file and write a JSON file `elements.json` in the following format:\n",
    "```\n",
    "[ {\"number\": 11, \"abbreviation\": \"Na\", \"name\": \"Sodium\"},\n",
    "  {\"number\": 80, \"abbreviation\": \"Hg\", \"name\": \"Mercury\"} ]\n",
    "```\n",
    "\n",
    "Notice how the output JSON file contains a list of objects, and each object has keys that match the three column names from the CSV file.  Also, the atomic number field is an integer in the JSON output (whereas it will be a string when you read it using the `csv` module).\n",
    "\n",
    "You can use the CSV example above as the content of a file `elements.csv` for testing purposes, but your program needs to be able to handle any CSV file listing chemical elements in that format (with three columns, \"number\", \"abbreviation\", and \"name\", appearing in that order).\n",
    "\n",
    "Your program can assume that `elements.csv` is in the current working directory when it is run.\n",
    "\n",
    "**Restricted methods note:** For full credit your answer needs to use the `csv` module to read the file `elements.csv`."
   ]
  },
  {
   "cell_type": "markdown",
   "metadata": {},
   "source": [
    "## Solution\n",
    "\n",
    "There are several ways to do it.  We begin with the most straightforward:\n",
    "\n",
    "### Solution 1: `csv.reader` and a boolean"
   ]
  },
  {
   "cell_type": "code",
   "execution_count": 9,
   "metadata": {},
   "outputs": [],
   "source": [
    "import csv\n",
    "import json\n",
    "\n",
    "# Open the CSV file and initialize the reader\n",
    "infile = open(\"elements.csv\", \"r\", encoding=\"UTF-8\", newline=\"\")\n",
    "reader = csv.reader(infile)\n",
    "\n",
    "# Get the output JSON file ready\n",
    "outfile = open(\"elements.json\", \"w\", encoding=\"UTF-8\")\n",
    "\n",
    "# Initialize a list to put our JSON data into\n",
    "jsondata = []\n",
    "\n",
    "# Is this the first iteration where we are looking at the header row?\n",
    "on_header = True\n",
    "\n",
    "# Iterate over each line in the CSV file\n",
    "for element in reader:\n",
    "    if on_header:\n",
    "        # Record that we're done reading the header row\n",
    "        on_header = False\n",
    "    else:\n",
    "        # This is a regular row, not the header\n",
    "        # Make a dictionary for this row and add it to jsondata\n",
    "        elementjson = {\"number\": int(element[0]),\n",
    "                       \"abbreviation\": element[1],\n",
    "                       \"name\": element[2]}\n",
    "        jsondata.append(elementjson)\n",
    "\n",
    "# Write the JSON data to the output file\n",
    "json.dump(jsondata, outfile)\n",
    "    \n",
    "# Close the files\n",
    "infile.close()\n",
    "outfile.close()"
   ]
  },
  {
   "cell_type": "markdown",
   "metadata": {},
   "source": [
    "### Commentary\n",
    "\n",
    "Needing to carry around a boolean variable to decide whether we've read the header row is a bit clumsy, but it is the inevitable result of two characteristics of the program:\n",
    "1. We chose to use `csv.reader`, which treats every row the same way (i.e. doesn't know the difference between header and regular rows)\n",
    "2. The `csv.reader` object is something we only use as the container in a `for` loop, which thus visits each row (including the header)\n",
    "\n",
    "Each of the other solutions we offer addresses this clumsiness by reconsidering one of these characteristics."
   ]
  },
  {
   "cell_type": "markdown",
   "metadata": {},
   "source": [
    "### Solution 2: `DictReader`\n",
    "\n",
    "The `csv` module can read data directly into dictionaries, which are nearly ready for writing to the JSON file.  Unlike `csv.reader`, the `csv.DictReader` object automatically reads the header row and iteration over it only gives us the actual data.  We need only convert the atomic number from a string to an integer."
   ]
  },
  {
   "cell_type": "code",
   "execution_count": 9,
   "metadata": {},
   "outputs": [],
   "source": [
    "import csv\n",
    "import json\n",
    "\n",
    "# Open the CSV file and initialize the reader\n",
    "infile = open(\"elements.csv\", \"r\", encoding=\"UTF-8\", newline=\"\")\n",
    "reader = csv.DictReader(infile)\n",
    "\n",
    "# Get the output JSON file ready\n",
    "outfile = open(\"elements.json\", \"w\", encoding=\"UTF-8\")\n",
    "\n",
    "# Initialize a list to put our JSON data into\n",
    "jsondata = []\n",
    "\n",
    "# Iterate over each line in the CSV file\n",
    "for element in reader:\n",
    "    # Now element is a dictionary containing one row of the CSV file\n",
    "    # using headers as keys.  It's almost what we want, but `number` will\n",
    "    # be a string in this dictionary.  We convert it to an integer.\n",
    "    element[\"number\"] = int(element[\"number\"])\n",
    "    jsondata.append(element)\n",
    "\n",
    "# Write the JSON data to the output file\n",
    "json.dump(jsondata, outfile)\n",
    "    \n",
    "# Close the files\n",
    "infile.close()\n",
    "outfile.close()"
   ]
  },
  {
   "cell_type": "markdown",
   "metadata": {},
   "source": [
    "### Solution 3: `csv.reader` and `next()`\n",
    "\n",
    "This solution uses `csv.reader` but demonstrates something we didn't learn in class yet to handle the issue of skipping the header row:  The built-in function `next()`, if called with a `csv.reader` object as its argument, will read and discard one row.  There was of course no expectation you'd use this function in your homework solution, but since `csv.reader` was the most common approach students took, it seems natural to take this opportunity to demonstrate a built-in function that can be used to clean it up a bit."
   ]
  },
  {
   "cell_type": "code",
   "execution_count": null,
   "metadata": {},
   "outputs": [],
   "source": [
    "import csv\n",
    "import json\n",
    "\n",
    "# Open the CSV file and initialize the reader\n",
    "infile = open(\"elements.csv\", \"r\", encoding=\"UTF-8\", newline=\"\")\n",
    "reader = csv.reader(infile)\n",
    "\n",
    "# Get the output JSON file ready\n",
    "outfile = open(\"elements.json\", \"w\", encoding=\"UTF-8\")\n",
    "\n",
    "# Skip the first row, which contains the header\n",
    "next(reader)\n",
    "\n",
    "# Get the output JSON file ready\n",
    "outfile = open(\"elements.json\", \"w\")\n",
    "\n",
    "# Initialize a list to put our JSON data into\n",
    "jsondata = []\n",
    "\n",
    "# Iterate over each line in the CSV file\n",
    "for element in reader:\n",
    "    # Make a dictionary for this row and add it to jsondata\n",
    "    elementjson = {\"number\": int(element[0]),\n",
    "                   \"abbreviation\": element[1],\n",
    "                   \"name\": element[2]}\n",
    "    jsondata.append(elementjson)\n",
    "\n",
    "# Write the JSON data to the output file\n",
    "json.dump(jsondata, outfile)\n",
    "    \n",
    "# Close the files\n",
    "infile.close()\n",
    "outfile.close()"
   ]
  },
  {
   "cell_type": "markdown",
   "metadata": {},
   "source": [
    "## Revision history\n",
    "\n",
    "* 2021-10-13 Initial upload of solutions"
   ]
  }
 ],
 "metadata": {
  "kernelspec": {
   "display_name": "Python 3",
   "language": "python",
   "name": "python3"
  },
  "language_info": {
   "codemirror_mode": {
    "name": "ipython",
    "version": 3
   },
   "file_extension": ".py",
   "mimetype": "text/x-python",
   "name": "python",
   "nbconvert_exporter": "python",
   "pygments_lexer": "ipython3",
   "version": "3.8.10"
  }
 },
 "nbformat": 4,
 "nbformat_minor": 4
}
