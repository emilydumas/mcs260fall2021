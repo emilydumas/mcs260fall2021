{
 "cells": [
  {
   "cell_type": "markdown",
   "metadata": {},
   "source": [
    "# MCS 260 Fall 2021 Homework 10 Solutions\n",
    "\n",
    "* Course instructor: Emily Dumas\n",
    "* Solutions prepared by: Johnny Joyce"
   ]
  },
  {
   "cell_type": "markdown",
   "metadata": {},
   "source": [
    "## Instructions:\n",
    "\n",
    "* Complete the problems below, which ask you to write Python scripts.\n",
    "* Upload your python code directly to gradescope, i.e. upload the `.py` files containing your work.  (If you upload a screenshot or other file format, you won't get credit.)\n",
    "\n",
    "### Deadline\n",
    "This homework assignment must be submitted in Gradescope by 10am CST on Tuesday, November 2, 2021.\n",
    "\n",
    "### Topic\n",
    "This homework focuses on **object-oriented programming**.  It is a bit shorter than usual to give you more time to work on Project 3.\n",
    "\n",
    "### Collaboration\n",
    "\n",
    "**Collaboration is prohibited**, and you may only access resources (books, online, etc.) listed below.\n",
    "\n",
    "### Resources you may consult\n",
    "\n",
    "The course materials you may refer to for this homework are:\n",
    "\n",
    "* [Sample programs](https://github.com/emilydumas/mcs260fall2021/tree/main/samplecode) (check the `oop` folder)\n",
    "* [Lecture 25 - OOP 1](https://www.dumas.io/teaching/2021/fall/mcs260/slides/lecture25.html)\n",
    "* [Lecture 26 - OOP 2 (overloading)](https://www.dumas.io/teaching/2021/fall/mcs260/slides/lecture26.html)\n",
    "* [Lecture 27 - OOP 3 (inheritance)](https://www.dumas.io/teaching/2021/fall/mcs260/slides/lecture27.html)\n",
    "* [Lecture 28 - OOP 4 (protocols)](https://www.dumas.io/teaching/2021/fall/mcs260/slides/lecture28.html)\n",
    "* Slides from any other lecture of MCS 260, Fall 2021.\n",
    "* [Downey's book](https://greenteapress.com/thinkpython2/html/)\n",
    "\n",
    "(Lecture videos are not linked on worksheets, but are also useful to review while working on worksheets.  Video links can be found in the course [course Blackboard site](https://uic.blackboard.com/ultra/courses/_202683_1/cl/outline).)\n",
    "\n",
    "### Point distribution\n",
    "\n",
    "This homework assignment has 2 problems, numbered 2 and 3.  **Problem 2 is a bit longer than usual, so it gets 8 points this time.**  Thus the grading breakdown is:\n",
    "\n",
    "| Points | Item |\n",
    "| --- | --- |\n",
    "| 2 | Autograder |\n",
    "| 6 | Problem 2 |\n",
    "| **8** | Total |\n",
    "\n",
    "\n",
    "### What to do if you're stuck\n",
    "\n",
    "Ask your instructor or TA a question by email, in office hours, or on discord."
   ]
  },
  {
   "cell_type": "markdown",
   "metadata": {},
   "source": [
    "## (  1. There's no problem 1  )\n",
    "\n",
    "Gradescope will show the results of the automated syntax check of all submitted files as the score for problem 1."
   ]
  },
  {
   "cell_type": "markdown",
   "metadata": {},
   "source": [
    "## 2. Chemical element class\n",
    "\n",
    "Create a file `hwk10prob2.py` that contains a single class definition, for a class `Element`.  Objects in this class will store chemical elements.  The class should have the following behavior:\n",
    "\n",
    "* The constructor has three required arguments other than `self`.  They are:\n",
    "    * `Z`, the atomic number of the element (a positive integer that uniquely identifies it), e.g. `3`\n",
    "    * `name`, the full name of the element, e.g. `Lithium`\n",
    "    * `symbol`, the one- or two-letter symbol used to represent the element, e.g. `Li`\n",
    "* The constructor stores its arguments as attributes of `self`, so e.g. an `Element` object `e` has attributes `e.Z`, `e.name`, and `e.symbol`.\n",
    "* The `__str__` method returns a string representation in this format: `Lithium (#3)`.  (It doesn't print anything, it just returns the relevant string.)\n",
    "* The `__repr__` method returns the same thing as `__str__`.  (It doesn't print anything, it just returns the relevant string.)\n",
    "* The `==` operator is overloaded by a method `__eq__` of this class, which checks whether the object this element is being compared to has the same atomic number, returning a boolean.  If the other object has a different atomic number, or if it isn't an instance of class `Element`, then this method should return `False`.\n",
    "\n",
    "Below is some test code that should work once you've defined this class, and the expected output is shown below it.  **Don't include this code in your submission. Use it to test your work, but then only submit `hwk10prob2.py` containing a single class definition.**\n",
    "\n",
    "Make sure there are docstrings at the file, class, and method level."
   ]
  },
  {
   "cell_type": "markdown",
   "metadata": {},
   "source": [
    "# Solution"
   ]
  },
  {
   "cell_type": "code",
   "execution_count": 1,
   "metadata": {},
   "outputs": [],
   "source": [
    "'''A module containing a class to represent chemical elements'''\n",
    "\n",
    "class Element:\n",
    "    '''A class used to represent chemical elements.'''\n",
    "    \n",
    "    def __init__(self, Z, name, symbol):\n",
    "        '''Inputs: Z:      the element's atomic number, \n",
    "                   name:   the element's name, \n",
    "                   symbol: the element's chemical symbol.\n",
    "        Inputs are saved as attributes of self.'''\n",
    "        self.Z = Z\n",
    "        self.name = name\n",
    "        self.symbol = symbol\n",
    "        \n",
    "    def __str__(self):\n",
    "        '''Return a string with the element's name and number,\n",
    "        e.g. \"Carbon (#6)\" or \"Iron (#26)\"\n",
    "        '''\n",
    "        return \"{} (#{})\".format(self.name, self.Z)\n",
    "    \n",
    "    def __repr__(self):\n",
    "        '''Returns the string representation of the element'''\n",
    "        return str(self)\n",
    "    \n",
    "    def __eq__(self, other):\n",
    "        '''Returns True if self and other are both instances of Element\n",
    "        AND they have the same number. Returns False otherwise.'''\n",
    "        # Check if both objects are instances of the Element class\n",
    "        if isinstance(other, Element):\n",
    "            # Return a boolean (True/False) indicating whether atomic numbers match\n",
    "            return self.Z == other.Z\n",
    "        else:\n",
    "            return False"
   ]
  },
  {
   "cell_type": "markdown",
   "metadata": {},
   "source": [
    "## Revision history\n",
    "\n",
    "* 2021-11-02 Initial release of solutions"
   ]
  }
 ],
 "metadata": {
  "kernelspec": {
   "display_name": "Python 3",
   "language": "python",
   "name": "python3"
  },
  "language_info": {
   "codemirror_mode": {
    "name": "ipython",
    "version": 3
   },
   "file_extension": ".py",
   "mimetype": "text/x-python",
   "name": "python",
   "nbconvert_exporter": "python",
   "pygments_lexer": "ipython3",
   "version": "3.8.10"
  }
 },
 "nbformat": 4,
 "nbformat_minor": 4
}
