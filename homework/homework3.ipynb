{
 "cells": [
  {
   "cell_type": "markdown",
   "metadata": {},
   "source": [
    "# MCS 260 Fall 2021 Homework 3\n",
    "\n",
    "* Course instructor: Emily Dumas"
   ]
  },
  {
   "cell_type": "markdown",
   "metadata": {},
   "source": [
    "## Instructions:\n",
    "\n",
    "* As with homework 2, for this assignment you will upload your python code directly to gradescope, i.e. you need to create and save `.py` files on your computer, and then upload those files.\n",
    "* This time, the grading will incorporate automated syntax checks.  (Last time, the checks were done, but didn't count toward the score.)\n",
    "\n",
    "### Deadline\n",
    "This homework assignment must be submitted in Gradescope by 10am CST on Tuesday, September 14, 2021.\n",
    "\n",
    "### Topic\n",
    "This homework assignment is about the topics of worksheet 3, i.e. **lists**, **while loops** and **for loops**.\n",
    "\n",
    "### Collaboration\n",
    "\n",
    "**Collaboration is prohibited**, and you may only access resources (books, online, etc.) listed below.\n",
    "\n",
    "### Resources you may consult\n",
    "\n",
    "The course materials you may refer to for this homework are:\n",
    "\n",
    "Expected to be most useful:\n",
    "* [Worksheet 3 Solutions](https://www.dumas.io/teaching/2021/fall/mcs260/nbview/worksheets/worksheet3soln.html)\n",
    "* [Lecture 5 - lists](https://www.dumas.io/teaching/2021/fall/mcs260/slides/lecture5.html)\n",
    "* [Lecture 6 - for and while loops](https://www.dumas.io/teaching/2021/fall/mcs260/slides/lecture6.html)\n",
    "* [Downey's text](https://greenteapress.com/thinkpython2/)\n",
    "* All lecture videos posted on the [course Blackboard site](https://uic.blackboard.com/ultra/courses/_202683_1/cl/outline).\n",
    "\n",
    "Allowed and possibly useful, but probably less relevant than the links above:\n",
    "* [Lecture 3 - comments, variables, input](https://www.dumas.io/teaching/2021/fall/mcs260/slides/lecture3.html)\n",
    "* [Lecture 4 - booleans and conditionals](https://www.dumas.io/teaching/2021/fall/mcs260/slides/lecture4.html)\n",
    "\n",
    "\n",
    "### Point distribution\n",
    "\n",
    "This homework assignment has 2 problems, numbered 2 and 3.  The grading breakdown is:\n",
    "\n",
    "| Points | Item |\n",
    "| --- | --- |\n",
    "| 2 | Autograder |\n",
    "| 4 | Problem 2 |\n",
    "| 4 | Problem 3 |\n",
    "| **10** | Total |\n",
    "\n",
    "\n",
    "### What to do if you're stuck\n",
    "\n",
    "Ask your instructor or TA a question by email, in office hours, or on discord."
   ]
  },
  {
   "cell_type": "markdown",
   "metadata": {},
   "source": [
    "## (  1. There's no problem 1  )\n",
    "\n",
    "Gradescope will show the results of the automated syntax check of all submitted files as the score for problem 1."
   ]
  },
  {
   "cell_type": "markdown",
   "metadata": {},
   "source": [
    "## 2. Powers\n",
    "\n",
    "Write a program `hwk3prob2.py` that asks the user for three integers:\n",
    "* A \"start value\"\n",
    "* A \"stop value\"\n",
    "* An exponent, which I'll refer to as `k`\n",
    "\n",
    "The program should then print the numbers `n**k` for each integer `n` between the start value and stop value (including both endpoints).\n",
    "\n",
    "Here is an example of what the interface and output should look like.  Here the user asks for the cubes of integers from 5 to 10 inclusive.\n",
    "```\n",
    "Start value: 5\n",
    "Stop value: 10\n",
    "Exponent: 3\n",
    "125\n",
    "216\n",
    "343\n",
    "512\n",
    "729\n",
    "1000\n",
    "```\n",
    "In this example, the user typed the numbers `5`, `10`, and `3`, and the rest of the text is output from the program."
   ]
  },
  {
   "cell_type": "markdown",
   "metadata": {},
   "source": [
    "## 3. Username picker\n",
    "\n",
    "Write a program `hwk3prob3.py` that asks the user to select a username.  (The name won't actually be used for anything.)\n",
    "\n",
    "The rules for usernames are:\n",
    "1. The username must not be empty.\n",
    "2. There is a list of names that are not allowed (see below).\n",
    "\n",
    "If the user requests a name that violates either rule, the program should say that name is not allowed and ask again, repeating until they enter an acceptable name.  Once they enter an acceptable name, the program should just print \"Your username is X\" where X is replaced with whatever they entered, and exit."
   ]
  },
  {
   "cell_type": "code",
   "execution_count": null,
   "metadata": {},
   "outputs": [],
   "source": [
    "# List of prohibited usernames.  Copy this into your code (without this comment).\n",
    "prohibited_usernames = [ \"system\", \"administrator\", \"ddumas\", \"heliotrope\", \"sudo\", \"reboot\" ]"
   ]
  },
  {
   "cell_type": "markdown",
   "metadata": {},
   "source": [
    "Here's what it should look like when you run the program:\n",
    "```\n",
    "Select a username: system\n",
    "That username is not allowed.\n",
    "Select a username: \n",
    "That username is not allowed.\n",
    "Select a username: sudo\n",
    "That username is not allowed.\n",
    "Select a username: grogu\n",
    "Your username is grogu\n",
    "```"
   ]
  },
  {
   "cell_type": "markdown",
   "metadata": {},
   "source": [
    "### Revision history\n",
    "\n",
    "* 2021-09-09 Initial publication"
   ]
  }
 ],
 "metadata": {
  "kernelspec": {
   "display_name": "Python 3",
   "language": "python",
   "name": "python3"
  },
  "language_info": {
   "codemirror_mode": {
    "name": "ipython",
    "version": 3
   },
   "file_extension": ".py",
   "mimetype": "text/x-python",
   "name": "python",
   "nbconvert_exporter": "python",
   "pygments_lexer": "ipython3",
   "version": "3.8.10"
  }
 },
 "nbformat": 4,
 "nbformat_minor": 4
}
