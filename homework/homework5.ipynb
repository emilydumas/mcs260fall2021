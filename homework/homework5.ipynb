{
 "cells": [
  {
   "cell_type": "markdown",
   "metadata": {},
   "source": [
    "# MCS 260 Fall 2021 Homework 5\n",
    "\n",
    "* Course instructor: Emily Dumas"
   ]
  },
  {
   "cell_type": "markdown",
   "metadata": {},
   "source": [
    "## Instructions:\n",
    "\n",
    "* Complete the problems below, which ask you to write Python scripts.\n",
    "* Upload your python code directly to gradescope, i.e. upload the `.py` files containing your work.  (If you upload a screenshot or other file format, you won't get credit.)\n",
    "\n",
    "### Deadline\n",
    "This homework assignment must be submitted in Gradescope by 10am CST on Tuesday, September 28, 2021.\n",
    "\n",
    "### Topic\n",
    "This homework assignment is about the topics of worksheet 5, i.e.\n",
    "* functions\n",
    "* dictionaries\n",
    "* additional features of strings (e.g. `.split()`, `.strip()`, `.replace()`)\n",
    "* the math module\n",
    "* the random module\n",
    "\n",
    "### Collaboration\n",
    "\n",
    "**Collaboration is prohibited**, and you may only access resources (books, online, etc.) listed below.\n",
    "\n",
    "### Resources you may consult\n",
    "\n",
    "The course materials you may refer to for this homework are:\n",
    "* [Worksheet 5 Solutions](https://www.dumas.io/teaching/2021/fall/mcs260/nbview/worksheets/worksheet5soln.html)\n",
    "* [Lecture 9 - functions](https://www.dumas.io/teaching/2021/fall/mcs260/slides/lecture9.html)\n",
    "* [Lecture 10 - dictionaries](https://www.dumas.io/teaching/2021/fall/mcs260/slides/lecture10.html)\n",
    "* [Lecture 11 - string methods; math and random modules](https://www.dumas.io/teaching/2021/fall/mcs260/slides/lecture11.html)\n",
    "* Slides from any other lecture of MCS 260, Fall 2021.\n",
    "* Any lecture video posted on the [course Blackboard site](https://uic.blackboard.com/ultra/courses/_202683_1/cl/outline).\n",
    "* [Downey's book](https://greenteapress.com/thinkpython2/html/)\n",
    "\n",
    "\n",
    "### Point distribution\n",
    "\n",
    "This homework assignment has 2 problems, numbered 2 and 3.  The grading breakdown is:\n",
    "\n",
    "| Points | Item |\n",
    "| --- | --- |\n",
    "| 2 | Autograder |\n",
    "| 4 | Problem 2 |\n",
    "| 4 | Problem 3 |\n",
    "| **10** | Total |\n",
    "\n",
    "\n",
    "### What to do if you're stuck\n",
    "\n",
    "Ask your instructor or TA a question by email, in office hours, or on discord."
   ]
  },
  {
   "cell_type": "markdown",
   "metadata": {},
   "source": [
    "## (  1. There's no problem 1  )\n",
    "\n",
    "Gradescope will show the results of the automated syntax check of all submitted files as the score for problem 1."
   ]
  },
  {
   "cell_type": "markdown",
   "metadata": {},
   "source": [
    "## 2. String stats function\n",
    "\n",
    "Write a function called `string_stats(s)` that accepts a string `s` and returns a dictionary with the following keys and values:\n",
    "* key `\"length\"` -> the length of `s`\n",
    "* key `\"words\"` -> the number of words in `s`, as determined by the `.split()` method\n",
    "* key `\"exclamation_count\"` -> the number of times the character `\"!\"` appears in `s`\n",
    "\n",
    "**The function must not print anything to the terminal.  Do not use the `print()` function at all.**\n",
    "\n",
    "You don't need to write any code to actually call this function, but that might be helpful while you're preparing it (for testing).  Here are some sample inputs and expected return values from the function.  What you see below displays the return value after each function call, just as the Python REPL would do.  The function itself isn't printing anything."
   ]
  },
  {
   "cell_type": "code",
   "execution_count": 11,
   "metadata": {},
   "outputs": [
    {
     "data": {
      "text/plain": [
       "{'length': 61, 'words': 10, 'excalamation_count': 1}"
      ]
     },
     "execution_count": 11,
     "metadata": {},
     "output_type": "execute_result"
    }
   ],
   "source": [
    "string_stats(\"Did you see the new project description?  It's available now!\")"
   ]
  },
  {
   "cell_type": "code",
   "execution_count": 12,
   "metadata": {},
   "outputs": [
    {
     "data": {
      "text/plain": [
       "{'length': 19, 'words': 1, 'excalamation_count': 13}"
      ]
     },
     "execution_count": 12,
     "metadata": {},
     "output_type": "execute_result"
    }
   ],
   "source": [
    "string_stats(\"wheeee!!!!!!!!!!!!!\")"
   ]
  },
  {
   "cell_type": "code",
   "execution_count": 13,
   "metadata": {},
   "outputs": [
    {
     "data": {
      "text/plain": [
       "{'length': 19, 'words': 4, 'excalamation_count': 0}"
      ]
     },
     "execution_count": 13,
     "metadata": {},
     "output_type": "execute_result"
    }
   ],
   "source": [
    "string_stats(\"nothing to see here\")"
   ]
  },
  {
   "cell_type": "markdown",
   "metadata": {},
   "source": [
    "Put the function definition in a file `homework5.py`.  The next problem will have you add another function to that file."
   ]
  },
  {
   "cell_type": "markdown",
   "metadata": {},
   "source": [
    "## 3. Random letter function\n",
    "\n",
    "Write a function `random_letter()` that returns a randomly selected capital letter from the alphabet (A-Z).\n",
    "\n",
    "**The function must not print anything to the terminal.  Do not use the `print()` function at all.**\n",
    "\n",
    "You don't need to write any code to actually call this function, but that might be helpful while you're preparing it (for testing).  Here are some sample calls and the return values from such a function (but of course, due to the random element, it will behave differently every time it is run):"
   ]
  },
  {
   "cell_type": "code",
   "execution_count": 8,
   "metadata": {},
   "outputs": [
    {
     "data": {
      "text/plain": [
       "'J'"
      ]
     },
     "execution_count": 8,
     "metadata": {},
     "output_type": "execute_result"
    }
   ],
   "source": [
    "random_letter()"
   ]
  },
  {
   "cell_type": "code",
   "execution_count": 9,
   "metadata": {},
   "outputs": [
    {
     "data": {
      "text/plain": [
       "'U'"
      ]
     },
     "execution_count": 9,
     "metadata": {},
     "output_type": "execute_result"
    }
   ],
   "source": [
    "random_letter()"
   ]
  },
  {
   "cell_type": "code",
   "execution_count": 10,
   "metadata": {},
   "outputs": [
    {
     "data": {
      "text/plain": [
       "'S'"
      ]
     },
     "execution_count": 10,
     "metadata": {},
     "output_type": "execute_result"
    }
   ],
   "source": [
    "random_letter()"
   ]
  },
  {
   "cell_type": "markdown",
   "metadata": {},
   "source": [
    "Put the definition in a file `homework5.py` (i.e. the same file where you put the function requested in problem 2).  Make sure the file imports any modules your function requires."
   ]
  },
  {
   "cell_type": "markdown",
   "metadata": {},
   "source": [
    "## Revision history\n",
    "\n",
    "* 2021-09-23 Initial release"
   ]
  }
 ],
 "metadata": {
  "kernelspec": {
   "display_name": "Python 3",
   "language": "python",
   "name": "python3"
  },
  "language_info": {
   "codemirror_mode": {
    "name": "ipython",
    "version": 3
   },
   "file_extension": ".py",
   "mimetype": "text/x-python",
   "name": "python",
   "nbconvert_exporter": "python",
   "pygments_lexer": "ipython3",
   "version": "3.8.10"
  }
 },
 "nbformat": 4,
 "nbformat_minor": 4
}
