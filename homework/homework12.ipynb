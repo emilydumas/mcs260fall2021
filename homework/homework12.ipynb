{
 "cells": [
  {
   "cell_type": "markdown",
   "metadata": {},
   "source": [
    "# MCS 260 Fall 2021 Homework 12\n",
    "\n",
    "* Course instructor: Emily Dumas"
   ]
  },
  {
   "cell_type": "markdown",
   "metadata": {},
   "source": [
    "## Instructions:\n",
    "\n",
    "* Complete the problems below, which ask you to write Python scripts.\n",
    "* Upload your python code directly to gradescope, i.e. upload the `.py` files containing your work.  (If you upload a screenshot or other file format, you won't get credit.)\n",
    "\n",
    "### Deadline\n",
    "This homework assignment must be submitted in Gradescope by 10am CST on Tuesday, November 16, 2021.\n",
    "\n",
    "### Topic\n",
    "\n",
    "This homework assignment focuses on **regular expressions**, **software licensing**, and **testing with pytest**.\n",
    "\n",
    "### Collaboration\n",
    "\n",
    "**Collaboration is prohibited**, and you may only access resources (books, online, etc.) listed below.\n",
    "\n",
    "### Resources you may consult\n",
    "\n",
    "The course materials and other resources you are allowed to refer to for this homework are:\n",
    "\n",
    "* [Worksheet 12 solutions](https://www.dumas.io/teaching/2021/fall/mcs260/nbview/worksheets/worksheet12soln.html)\n",
    "* [pythex.org](https://pythex.org) or one of these other regular expression editor/debugger tools:\n",
    "    * [regex101.com](https://regex101.com/) (need to click \"Python\" under the \"flavor\" menu at left)\n",
    "    * [pyregex.com](http://www.pyregex.com/)\n",
    "* [Sample programs](https://github.com/emilydumas/mcs260fall2021/tree/main/samplecode)\n",
    "* [Lecture 30 - Regular expressions](https://www.dumas.io/teaching/2021/fall/mcs260/slides/lecture30.html)\n",
    "* [Lecture 31 - Regular expressions 2 & software licensing](https://www.dumas.io/teaching/2021/fall/mcs260/slides/lecture31.html)\n",
    "* [Lecture 32 - Testing and pytest](https://www.dumas.io/teaching/2021/fall/mcs260/slides/lecture32.html)\n",
    "* Any other Fall 2021 MCS 260 lecture slides\n",
    "* [Downey's book](https://greenteapress.com/thinkpython2/html/)\n",
    "\n",
    "(Lecture videos are not linked on worksheets, but are also useful to review while working on worksheets.  Video links can be found in the course [course Blackboard site](https://uic.blackboard.com/ultra/courses/_202683_1/cl/outline).)\n",
    "\n",
    "### Point distribution\n",
    "\n",
    "This homework assignment has 2 problems, numbered 2 and 3.  Thus the grading breakdown is:\n",
    "\n",
    "| Points | Item |\n",
    "| --- | --- |\n",
    "| 2 | Autograder |\n",
    "| 4 | Problem 2 |\n",
    "| 4 | Problem 3 |\n",
    "| **10** | Total |\n",
    "\n",
    "\n",
    "### What to do if you're stuck\n",
    "\n",
    "Ask your instructor or TA a question by email, in office hours, or on discord."
   ]
  },
  {
   "cell_type": "markdown",
   "metadata": {},
   "source": [
    "## (  1. There's no problem 1  )\n",
    "\n",
    "Gradescope will show the results of the automated syntax check of all submitted files as the score for problem 1."
   ]
  },
  {
   "cell_type": "markdown",
   "metadata": {},
   "source": [
    "## 2. Mentions of 7400-series ICs\n",
    "\n",
    "In the 1970s and 1980s, one of the most popular series of components in digitial electronic circuits were the 7400 series of integrated circuits.  They were used extensively in early personal computers, for example.  They are still used in some electronics applications.  Here's a picture of a few of them:\n",
    "* [7400_Series_Chips_1.jpg](https://en.wikichip.org/wiki/File:7400_Series_Chips_1.jpg)\n",
    "\n",
    "There are many parts in this series, with numbers like `7404` and `SN74LS02N` and `74F08`.\n",
    "\n",
    "More precisely, the format of the part number is\n",
    "* Some capital letters (possibly 0 of them)\n",
    "* The digits 74\n",
    "* Some more capital letters (possibly 0 of them)\n",
    "* Two or three digits (e.g. 00, 01, 04, 26, 138, 193)\n",
    "* Some more capital letters (possibly 0 of them)\n",
    "\n",
    "Write a program `hwk12prob2.py` that takes a filename as its command line argument.  It should read the lines of the specified text file and look for names of 7400-series ICs matching the specs above.  It should print each name it finds.\n",
    "\n",
    "### Restricted methods note\n",
    "\n",
    "* You must use regular expressions to do the searching/matching\n",
    "* You can only use Python syntax and techniques we've covered in MCS 260\n",
    "\n",
    "### Example\n",
    "\n",
    "If `test.txt` contains\n",
    "\n",
    "```\n",
    "I was thinking about the clock module we discussed, and I think by adding a couple of JK-type\n",
    "flip-flops (maybe 74LS107 or SN74LS72N? not sure...) we could convert the momentary pushbutton\n",
    "input to a toggle, without using the more mechanically complicated sustained switch your BOM\n",
    "originally called for.  But I agree we should keep using dedicated inverters on a 7404 rather\n",
    "than repurposing an unused NAND from the 74HC00, since it will be a pain to interface the TTL\n",
    "and CMOS parts to make that work.\n",
    "```\n",
    "\n",
    "then the output of\n",
    "```\n",
    "python3 hwk12prob2.py test.txt\n",
    "```\n",
    "would be\n",
    "```\n",
    "74LS107\n",
    "SN74LS72N\n",
    "7404\n",
    "74HC00\n",
    "```"
   ]
  },
  {
   "cell_type": "markdown",
   "metadata": {},
   "source": [
    "## 3. Test dice\n",
    "\n",
    "Create `test_dice.py`, a module containing pytest-compatible functions to test the module [dice.py](https://github.com/emilydumas/mcs260fall2021/blob/main/samplecode/modules/dice.py) we created in lecture 23.\n",
    "\n",
    "The tests should do the following:\n",
    "* Check that rolling a 12-sided die returns an integer between 1 and 12\n",
    "* Check that rolling 10 dice returns a list of 10 integers, all between 1 and 6\n",
    "* Check that the return value of the coin flip function is either `\"heads\"` or `\"tails\"`\n",
    "\n",
    "For full credit, your module must have three passing tests that can be discovered and run by `pytest` if `test_dice.py` and `dice.py` are in the same directory.  Also, if `test_dice.py` is run as a script, it must do nothing at all.\n",
    "\n",
    "\n",
    "### Restricted methods note\n",
    "\n",
    "* The only module you are allowed to import in `test_dice.py` is `dice`\n",
    "* You can only use Python syntax and techniques we've covered in MCS 260"
   ]
  },
  {
   "cell_type": "markdown",
   "metadata": {},
   "source": [
    "## Revision history\n",
    "\n",
    "* 2021-11-11 Initial release"
   ]
  }
 ],
 "metadata": {
  "kernelspec": {
   "display_name": "Python 3",
   "language": "python",
   "name": "python3"
  },
  "language_info": {
   "codemirror_mode": {
    "name": "ipython",
    "version": 3
   },
   "file_extension": ".py",
   "mimetype": "text/x-python",
   "name": "python",
   "nbconvert_exporter": "python",
   "pygments_lexer": "ipython3",
   "version": "3.8.10"
  }
 },
 "nbformat": 4,
 "nbformat_minor": 4
}
