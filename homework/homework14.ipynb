{
 "cells": [
  {
   "cell_type": "markdown",
   "metadata": {},
   "source": [
    "# MCS 260 Fall 2021 Homework 14\n",
    "\n",
    "* Course instructor: Emily Dumas"
   ]
  },
  {
   "cell_type": "markdown",
   "metadata": {},
   "source": [
    "## Instructions:\n",
    "\n",
    "* Complete the problems below, which ask you to write Python scripts.\n",
    "* Upload your python code directly to gradescope, i.e. upload the `.py` files containing your work.  (If you upload a screenshot or other file format, you won't get credit.)\n",
    "\n",
    "### Deadline\n",
    "This homework assignment must be submitted in Gradescope by 10am CST on Tuesday, November 30, 2021.\n",
    "\n",
    "### Topic\n",
    "\n",
    "This homework assignment focuses on  **tkinter** and **working with dates and times**.\n",
    "\n",
    "### Collaboration\n",
    "\n",
    "**Collaboration is prohibited**, and you may only access resources (books, online, etc.) listed below.\n",
    "\n",
    "### Resources you may consult\n",
    "\n",
    "The course materials and other resources you are allowed to refer to for this homework are:\n",
    "\n",
    "\n",
    "* [Worksheet 14 solution](https://www.dumas.io/teaching/2021/fall/mcs260/nbview/worksheets/worksheet14soln.html)\n",
    "* [Sample programs](https://github.com/emilydumas/mcs260fall2021/tree/main/samplecode)\n",
    "* [Lecture 36 - tkinter](https://www.dumas.io/teaching/2021/fall/mcs260/slides/lecture36.html)\n",
    "* [Lecture 37 - dates and times](https://www.dumas.io/teaching/2021/fall/mcs260/slides/lecture37.html)\n",
    "* [Lecture 38 - tkinter 2](https://www.dumas.io/teaching/2021/fall/mcs260/slides/lecture38.html)\n",
    "* [Downey's book](https://greenteapress.com/thinkpython2/html/)\n",
    "\n",
    "(Lecture videos are not linked on worksheets, but are also useful to review while working on worksheets.  Video links can be found in the course [course Blackboard site](https://uic.blackboard.com/ultra/courses/_202683_1/cl/outline).)\n",
    "\n",
    "### I know project 4 is underway and this homework spans a holiday break\n",
    "\n",
    "This homework is correspondingly short.\n",
    "\n",
    "### Point distribution\n",
    "\n",
    "This homework assignment has 2 problems, numbered 2 and 3.  Thus the grading breakdown is:\n",
    "\n",
    "| Points | Item |\n",
    "| --- | --- |\n",
    "| 2 | Autograder |\n",
    "| 4 | Problem 2 |\n",
    "| **6** | Total |\n",
    "\n",
    "\n",
    "### What to do if you're stuck\n",
    "\n",
    "Ask your instructor or TA a question by email, in office hours, or on discord."
   ]
  },
  {
   "cell_type": "markdown",
   "metadata": {},
   "source": [
    "## (  1. There's no problem 1  )\n",
    "\n",
    "Gradescope will show the results of the automated syntax check of all submitted files as the score for problem 1."
   ]
  },
  {
   "cell_type": "markdown",
   "metadata": {},
   "source": [
    "## 2. Counter\n",
    "\n",
    "Make a GUI counter application that has a single button labeled \"Increment\", and a text label next to it.  The text label should initially read `0`, and every time the button is pressed, the number on the label should increase by one.  A sample of what using the program should look like is shown below.\n",
    "\n",
    "![](images/countanim.gif)\n",
    "\n",
    "### OOP optional\n",
    "\n",
    "You can choose whether to do this by subclassing `tkinter.Tk` (which is recommended in general) or by building all the widgets in the main program (as in the first lecture demonstration of GUI programming).\n",
    "\n",
    "### Restricted methods note\n",
    "\n",
    "* The only module(s) you are allowed to import are: `tkinter` and `tkinter.ttk`\n",
    "* You can only use Python syntax and techniques we've covered in MCS 260"
   ]
  },
  {
   "cell_type": "markdown",
   "metadata": {},
   "source": [
    "# Congratulations\n",
    "\n",
    "You've just completed the last homework assignment of MCS 260.\n",
    "\n",
    "(All that remains is Project 4!)"
   ]
  },
  {
   "cell_type": "markdown",
   "metadata": {},
   "source": [
    "## Revision history\n",
    "\n",
    "* 2021-11-21 Initial publication"
   ]
  }
 ],
 "metadata": {
  "kernelspec": {
   "display_name": "Python 3",
   "language": "python",
   "name": "python3"
  },
  "language_info": {
   "codemirror_mode": {
    "name": "ipython",
    "version": 3
   },
   "file_extension": ".py",
   "mimetype": "text/x-python",
   "name": "python",
   "nbconvert_exporter": "python",
   "pygments_lexer": "ipython3",
   "version": "3.8.10"
  }
 },
 "nbformat": 4,
 "nbformat_minor": 4
}
