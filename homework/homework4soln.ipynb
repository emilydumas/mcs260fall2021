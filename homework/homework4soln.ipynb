{
 "cells": [
  {
   "cell_type": "markdown",
   "metadata": {},
   "source": [
    "# MCS 260 Fall 2021 Homework 4 Solutions\n",
    "\n",
    "* Course instructor: Emily Dumas\n",
    "* Solutions prepared by: Johnny Joyce"
   ]
  },
  {
   "cell_type": "markdown",
   "metadata": {},
   "source": [
    "## Instructions:\n",
    "\n",
    "* Complete the problems below, which ask you to write Python scripts.\n",
    "* Upload your python code directly to gradescope, i.e. upload the `.py` files containing your work.  (If you upload a screenshot or other file format, you won't get credit.)\n",
    "\n",
    "### Deadline\n",
    "This homework assignment must be submitted in Gradescope by 10am CST on Tuesday, September 21, 2021.\n",
    "\n",
    "### Topic\n",
    "This homework assignment is about the topics of worksheet 4, i.e.  **strings**, **integers**, and **list comprehensions**.**lists**, **while loops** and **for loops**.\n",
    "\n",
    "### Collaboration\n",
    "\n",
    "**Collaboration is prohibited**, and you may only access resources (books, online, etc.) listed below.\n",
    "\n",
    "### Resources you may consult\n",
    "\n",
    "The course materials you may refer to for this homework are:\n",
    "\n",
    "* [Worksheet 4 Solutions](https://www.dumas.io/teaching/2021/fall/mcs260/nbview/worksheets/worksheet4soln.html)\n",
    "* [Lecture 7 - strings and integers](https://www.dumas.io/teaching/2021/fall/mcs260/slides/lecture7.html)\n",
    "* [Lecture 8 - list methods and comprehensions](https://www.dumas.io/teaching/2021/fall/mcs260/slides/lecture8.html)\n",
    "* Slides from any other lecture of MCS 260, Fall 2021.\n",
    "* Any lecture video posted on the [course Blackboard site](https://uic.blackboard.com/ultra/courses/_202683_1/cl/outline).\n",
    "* [Downey's book](https://greenteapress.com/thinkpython2/html/)\n",
    "\n",
    "\n",
    "### Point distribution\n",
    "\n",
    "This homework assignment has 2 problems, numbered 2 and 3.  The grading breakdown is:\n",
    "\n",
    "| Points | Item |\n",
    "| --- | --- |\n",
    "| 2 | Autograder |\n",
    "| 4 | Problem 2 |\n",
    "| 4 | Problem 3 |\n",
    "| **10** | Total |\n",
    "\n",
    "\n",
    "### What to do if you're stuck\n",
    "\n",
    "Ask your instructor or TA a question by email, in office hours, or on discord."
   ]
  },
  {
   "cell_type": "markdown",
   "metadata": {},
   "source": [
    "## (  1. There's no problem 1  )\n",
    "\n",
    "Gradescope will show the results of the automated syntax check of all submitted files as the score for problem 1."
   ]
  },
  {
   "cell_type": "markdown",
   "metadata": {},
   "source": [
    "## 2.  Filtered county names\n",
    "\n",
    "The state of Illinois is divided into 102 counties, and each county has a name.  UIC is in Cook county.\n",
    "\n",
    "This problem is about finding **all counties in Illinois whose names have an even number of characters, and which contain the letter `k` somewhere in the name**.\n",
    "\n",
    "Below you'll find code that represents a partial solution.  It contains a list of all counties, a statement meant to filter down to the counties of interest, and a for loop that will print the results.\n",
    "\n",
    "Modify the line that contains the comment `# <---- FIX THIS LINE` so that it uses a list comprehension to find all the counties matching the conditions described above.  Do not change anything else in the script.  Save your modified script in `hwk4prob2.py` and submit it to Gradescope.\n",
    "\n",
    "**IMPORTANT:** Unlike most MCS 260 problems, this one limits the ways you are allowed to solve the problem.  Specifically:\n",
    "\n",
    "* Your solution must be based on the provided code\n",
    "* You must use a single list comprehension to filter the list of all Illinois counties according to the given criteria\n",
    "* You may only change the indicated line of the script"
   ]
  },
  {
   "cell_type": "markdown",
   "metadata": {},
   "source": [
    "## Solution"
   ]
  },
  {
   "cell_type": "code",
   "execution_count": 1,
   "metadata": {},
   "outputs": [
    {
     "name": "stdout",
     "output_type": "stream",
     "text": [
      "Cook\n",
      "Franklin\n",
      "Kankakee\n",
      "Lake\n",
      "Pike\n",
      "Rock\n"
     ]
    }
   ],
   "source": [
    "all_illinois_counties = ['Adams', 'Alexander', 'Bond', 'Boone', 'Brown',\n",
    "                         'Bureau', 'Calhoun', 'Carroll', 'Cass', 'Champaign',\n",
    "                         'Christian', 'Clark', 'Clay', 'Clinton', 'Coles',\n",
    "                         'Cook', 'Crawford', 'Cumberland', 'De', 'DeKalb',\n",
    "                         'Douglas', 'DuPage', 'Edgar', 'Edwards', 'Effingham',\n",
    "                         'Fayette', 'Ford', 'Franklin', 'Fulton', 'Gallatin',\n",
    "                         'Greene', 'Grundy', 'Hamilton', 'Hancock', 'Hardin',\n",
    "                         'Henderson', 'Henry', 'Iroquois', 'Jackson', 'Jasper',\n",
    "                         'Jefferson', 'Jersey', 'Jo', 'Johnson', 'Kane',\n",
    "                         'Kankakee', 'Kendall', 'Knox', 'LaSalle', 'Lake',\n",
    "                         'Lawrence', 'Lee', 'Livingston', 'Logan', 'Macon',\n",
    "                         'Macoupin', 'Madison', 'Marion', 'Marshall', 'Mason',\n",
    "                         'Massac', 'McDonough', 'McHenry', 'McLean', 'Menard',\n",
    "                         'Mercer', 'Monroe', 'Montgomery', 'Morgan', 'Moultrie',\n",
    "                         'Ogle', 'Peoria', 'Perry', 'Piatt', 'Pike', 'Pope',\n",
    "                         'Pulaski', 'Putnam', 'Randolph', 'Richland', 'Rock',\n",
    "                         'Saline', 'Sangamon', 'Schuyler', 'Scott', 'Shelby',\n",
    "                         'St. Clair', 'Stark', 'Stephenson', 'Tazewell', 'Union',\n",
    "                         'Vermilion', 'Wabash', 'Warren', 'Washington', 'Wayne',\n",
    "                         'White', 'Whiteside', 'Will', 'Williamson', 'Winnebago',\n",
    "                         'Woodford']\n",
    "\n",
    "even_len_k_counties = [county for county in all_illinois_counties if len(county) % 2 == 0 and \"k\" in county]\n",
    "for name in even_len_k_counties:\n",
    "    print(name)"
   ]
  },
  {
   "cell_type": "markdown",
   "metadata": {},
   "source": [
    "## 3. Alphabetically next county\n",
    "\n",
    "Write a program `hwk4prob3.py` that lets the user enter a string, which is expected to be the name of a county in the state of Illinois.  The program should then print the name of the county in Illinois that comes after the one the user entered (in alphabetical order).\n",
    "\n",
    "Here is a transcript of what using the program should look like:\n",
    "```\n",
    "Enter a county name: Bond\n",
    "The alphabetically next county is: Boone\n",
    "```\n",
    "and here is another example:\n",
    "```\n",
    "Enter a county name: Putnam\n",
    "The alphabetically next county is: Randolph\n",
    "```\n",
    "\n",
    "Your program doesn't need to do any error checking.  If the user enters a string that is not a county name, or if they enter `Woodford` (the alphabetically last county name), then it is acceptable for your program to exit with some kind of error.  You don't need to do anything to attempt to detect or handle such an error.\n",
    "\n",
    "**Hint:**  You can (and should) copy the list of county names from the previous problem into your code.  That list is in alphanetical order."
   ]
  },
  {
   "cell_type": "markdown",
   "metadata": {},
   "source": [
    "## Solution"
   ]
  },
  {
   "cell_type": "code",
   "execution_count": 2,
   "metadata": {},
   "outputs": [
    {
     "name": "stdout",
     "output_type": "stream",
     "text": [
      "Enter a county name: Cook\n",
      "The alphabetically next county is: Crawford\n"
     ]
    }
   ],
   "source": [
    "all_illinois_counties = ['Adams', 'Alexander', 'Bond', 'Boone', 'Brown',\n",
    "                         'Bureau', 'Calhoun', 'Carroll', 'Cass', 'Champaign',\n",
    "                         'Christian', 'Clark', 'Clay', 'Clinton', 'Coles',\n",
    "                         'Cook', 'Crawford', 'Cumberland', 'De', 'DeKalb',\n",
    "                         'Douglas', 'DuPage', 'Edgar', 'Edwards', 'Effingham',\n",
    "                         'Fayette', 'Ford', 'Franklin', 'Fulton', 'Gallatin',\n",
    "                         'Greene', 'Grundy', 'Hamilton', 'Hancock', 'Hardin',\n",
    "                         'Henderson', 'Henry', 'Iroquois', 'Jackson', 'Jasper',\n",
    "                         'Jefferson', 'Jersey', 'Jo', 'Johnson', 'Kane',\n",
    "                         'Kankakee', 'Kendall', 'Knox', 'LaSalle', 'Lake',\n",
    "                         'Lawrence', 'Lee', 'Livingston', 'Logan', 'Macon',\n",
    "                         'Macoupin', 'Madison', 'Marion', 'Marshall', 'Mason',\n",
    "                         'Massac', 'McDonough', 'McHenry', 'McLean', 'Menard',\n",
    "                         'Mercer', 'Monroe', 'Montgomery', 'Morgan', 'Moultrie',\n",
    "                         'Ogle', 'Peoria', 'Perry', 'Piatt', 'Pike', 'Pope',\n",
    "                         'Pulaski', 'Putnam', 'Randolph', 'Richland', 'Rock',\n",
    "                         'Saline', 'Sangamon', 'Schuyler', 'Scott', 'Shelby',\n",
    "                         'St. Clair', 'Stark', 'Stephenson', 'Tazewell', 'Union',\n",
    "                         'Vermilion', 'Wabash', 'Warren', 'Washington', 'Wayne',\n",
    "                         'White', 'Whiteside', 'Will', 'Williamson', 'Winnebago',\n",
    "                         'Woodford']\n",
    "\n",
    "startcounty = input(\"Enter a county name: \")\n",
    "\n",
    "# Find where the entered county appears in the list\n",
    "index = all_illinois_counties.index(startcounty)\n",
    "\n",
    "# Find the county that appears after the given county in the list\n",
    "nextcounty = all_illinois_counties[index + 1]\n",
    "\n",
    "print(\"The alphabetically next county is:\", nextcounty)"
   ]
  },
  {
   "cell_type": "markdown",
   "metadata": {},
   "source": [
    "## Revision history\n",
    "\n",
    "* 2021-09-23 Initial release"
   ]
  }
 ],
 "metadata": {
  "kernelspec": {
   "display_name": "Python 3",
   "language": "python",
   "name": "python3"
  },
  "language_info": {
   "codemirror_mode": {
    "name": "ipython",
    "version": 3
   },
   "file_extension": ".py",
   "mimetype": "text/x-python",
   "name": "python",
   "nbconvert_exporter": "python",
   "pygments_lexer": "ipython3",
   "version": "3.8.10"
  }
 },
 "nbformat": 4,
 "nbformat_minor": 4
}
